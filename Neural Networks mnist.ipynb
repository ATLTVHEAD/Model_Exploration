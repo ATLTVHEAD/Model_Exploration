{
 "cells": [
  {
   "cell_type": "markdown",
   "metadata": {},
   "source": [
    "# Neural Networks and Keras\n",
    "## Nate Damen - created 09/28/2020 - updated xxxxxxx"
   ]
  },
  {
   "cell_type": "code",
   "execution_count": 9,
   "metadata": {
    "ExecuteTime": {
     "end_time": "2020-10-03T01:01:55.098835Z",
     "start_time": "2020-10-03T01:01:53.074401Z"
    }
   },
   "outputs": [],
   "source": [
    "import time\n",
    "import os\n",
    "import tensorflow as tf\n",
    "import numpy as np\n",
    "from sklearn.metrics import mean_squared_error"
   ]
  },
  {
   "cell_type": "code",
   "execution_count": 10,
   "metadata": {
    "ExecuteTime": {
     "end_time": "2020-10-03T01:01:55.917562Z",
     "start_time": "2020-10-03T01:01:55.911953Z"
    }
   },
   "outputs": [
    {
     "data": {
      "text/plain": [
       "'./logs/run_2020_10_03-01_01_55'"
      ]
     },
     "execution_count": 10,
     "metadata": {},
     "output_type": "execute_result"
    }
   ],
   "source": [
    "root_logdir = os.path.join(os.curdir, \"logs\")\n",
    "\n",
    "\n",
    "def get_run_logdir():\n",
    "    import time\n",
    "    run_id = time.strftime(\"run_%Y_%m_%d-%H_%M_%S\")\n",
    "    return os.path.join(root_logdir, run_id)\n",
    "\n",
    "\n",
    "run_logdir = get_run_logdir()\n",
    "run_logdir"
   ]
  },
  {
   "cell_type": "code",
   "execution_count": 11,
   "metadata": {
    "ExecuteTime": {
     "end_time": "2020-10-03T01:01:56.324807Z",
     "start_time": "2020-10-03T01:01:56.319193Z"
    },
    "tags": []
   },
   "outputs": [],
   "source": [
    "early_stopping_cb = tf.keras.callbacks.EarlyStopping(\n",
    "    monitor='val_loss', patience=10)\n",
    "checkpoint_cb = tf.keras.callbacks.ModelCheckpoint(\n",
    "    \"mnist_model.h5\", monitor='val_loss', save_best_only=True)\n",
    "tensorboard_cb = tf.keras.callbacks.TensorBoard(run_logdir)"
   ]
  },
  {
   "cell_type": "markdown",
   "metadata": {},
   "source": [
    "Going to be making a neural network to classify the mnist data set"
   ]
  },
  {
   "cell_type": "code",
   "execution_count": 12,
   "metadata": {
    "ExecuteTime": {
     "end_time": "2020-10-03T01:01:58.536792Z",
     "start_time": "2020-10-03T01:01:57.536316Z"
    },
    "tags": []
   },
   "outputs": [
    {
     "name": "stdout",
     "output_type": "stream",
     "text": [
      "Downloading data from https://storage.googleapis.com/tensorflow/tf-keras-datasets/mnist.npz\n",
      "11493376/11490434 [==============================] - 1s 0us/step\n"
     ]
    }
   ],
   "source": [
    "(x_train_full, y_train_full), (x_test, y_test) = tf.keras.datasets.mnist.load_data()"
   ]
  },
  {
   "cell_type": "code",
   "execution_count": 13,
   "metadata": {
    "ExecuteTime": {
     "end_time": "2020-10-03T01:01:59.500952Z",
     "start_time": "2020-10-03T01:01:58.538620Z"
    }
   },
   "outputs": [],
   "source": [
    "x_valid, x_train = x_train_full[:5000] / 255., x_train_full[5000:] / 255.\n",
    "y_valid, y_train = y_train_full[:5000], y_train_full[5000:]\n",
    "x_test = x_test / 255.\n",
    "# dividing by 255 scales the data to 0-1"
   ]
  },
  {
   "cell_type": "code",
   "execution_count": 14,
   "metadata": {
    "ExecuteTime": {
     "end_time": "2020-10-03T01:01:59.507136Z",
     "start_time": "2020-10-03T01:01:59.502915Z"
    }
   },
   "outputs": [
    {
     "data": {
      "text/plain": [
       "(55000, 28, 28)"
      ]
     },
     "execution_count": 14,
     "metadata": {},
     "output_type": "execute_result"
    }
   ],
   "source": [
    "x_train.shape"
   ]
  },
  {
   "cell_type": "markdown",
   "metadata": {},
   "source": [
    "Below is the built model"
   ]
  },
  {
   "cell_type": "code",
   "execution_count": 7,
   "metadata": {},
   "outputs": [],
   "source": [
    "input_layer1 = tf.keras.layers.Input(shape=x_train.shape[1:])\n",
    "\n",
    "flatten = tf.keras.layers.Flatten()(input_layer1)\n",
    "\n",
    "hidden1 = tf.keras.layers.Dense(392, activation=\"relu\")(flatten)\n",
    "hidden2 = tf.keras.layers.Dense(196, activation=\"relu\")(hidden1)\n",
    "#hidden3 = tf.keras.layers.Dense(784, activation=\"relu\")(hidden2)\n",
    "\n",
    "output = tf.keras.layers.Dense(10, activation=\"softmax\")(hidden2)\n",
    "\n",
    "model = tf.keras.Model(inputs=[input_layer1], outputs=[output])"
   ]
  },
  {
   "cell_type": "code",
   "execution_count": 8,
   "metadata": {},
   "outputs": [],
   "source": [
    "opt = tf.keras.optimizers.SGD(learning_rate=2e-1)\n",
    "model.compile(loss=\"sparse_categorical_crossentropy\",\n",
    "              optimizer=opt, metrics=[\"accuracy\"])"
   ]
  },
  {
   "cell_type": "code",
   "execution_count": 9,
   "metadata": {
    "tags": []
   },
   "outputs": [
    {
     "name": "stdout",
     "output_type": "stream",
     "text": [
      "Model: \"functional_1\"\n",
      "_________________________________________________________________\n",
      "Layer (type)                 Output Shape              Param #   \n",
      "=================================================================\n",
      "input_1 (InputLayer)         [(None, 28, 28)]          0         \n",
      "_________________________________________________________________\n",
      "flatten (Flatten)            (None, 784)               0         \n",
      "_________________________________________________________________\n",
      "dense (Dense)                (None, 392)               307720    \n",
      "_________________________________________________________________\n",
      "dense_1 (Dense)              (None, 196)               77028     \n",
      "_________________________________________________________________\n",
      "dense_2 (Dense)              (None, 10)                1970      \n",
      "=================================================================\n",
      "Total params: 386,718\n",
      "Trainable params: 386,718\n",
      "Non-trainable params: 0\n",
      "_________________________________________________________________\n"
     ]
    }
   ],
   "source": [
    "model.summary()"
   ]
  },
  {
   "cell_type": "code",
   "execution_count": 10,
   "metadata": {
    "tags": []
   },
   "outputs": [
    {
     "name": "stdout",
     "output_type": "stream",
     "text": [
      "Epoch 1/200\n",
      "   1/1719 [..............................] - ETA: 0s - loss: 2.3749 - accuracy: 0.1250WARNING:tensorflow:From /usr/local/lib/python3.6/dist-packages/tensorflow/python/ops/summary_ops_v2.py:1277: stop (from tensorflow.python.eager.profiler) is deprecated and will be removed after 2020-07-01.\n",
      "Instructions for updating:\n",
      "use `tf.profiler.experimental.stop` instead.\n",
      "   2/1719 [..............................] - ETA: 2:10 - loss: 2.2461 - accuracy: 0.2500WARNING:tensorflow:Callbacks method `on_train_batch_end` is slow compared to the batch time (batch time: 0.0077s vs `on_train_batch_end` time: 0.1446s). Check your callbacks.\n",
      "1719/1719 [==============================] - 5s 3ms/step - loss: 0.2299 - accuracy: 0.9298 - val_loss: 0.1228 - val_accuracy: 0.9644\n",
      "Epoch 2/200\n",
      "1719/1719 [==============================] - 5s 3ms/step - loss: 0.0899 - accuracy: 0.9719 - val_loss: 0.0791 - val_accuracy: 0.9758\n",
      "Epoch 3/200\n",
      "1719/1719 [==============================] - 5s 3ms/step - loss: 0.0575 - accuracy: 0.9815 - val_loss: 0.0659 - val_accuracy: 0.9802\n",
      "Epoch 4/200\n",
      "1719/1719 [==============================] - 5s 3ms/step - loss: 0.0416 - accuracy: 0.9862 - val_loss: 0.0744 - val_accuracy: 0.9788\n",
      "Epoch 5/200\n",
      "1719/1719 [==============================] - 5s 3ms/step - loss: 0.0299 - accuracy: 0.9907 - val_loss: 0.0810 - val_accuracy: 0.9788\n",
      "Epoch 6/200\n",
      "1719/1719 [==============================] - 5s 3ms/step - loss: 0.0220 - accuracy: 0.9929 - val_loss: 0.0693 - val_accuracy: 0.9828\n",
      "Epoch 7/200\n",
      "1719/1719 [==============================] - 5s 3ms/step - loss: 0.0156 - accuracy: 0.9950 - val_loss: 0.0611 - val_accuracy: 0.9850\n",
      "Epoch 8/200\n",
      "1719/1719 [==============================] - 5s 3ms/step - loss: 0.0107 - accuracy: 0.9969 - val_loss: 0.0635 - val_accuracy: 0.9850\n",
      "Epoch 9/200\n",
      "1719/1719 [==============================] - 5s 3ms/step - loss: 0.0075 - accuracy: 0.9977 - val_loss: 0.0786 - val_accuracy: 0.9842\n",
      "Epoch 10/200\n",
      "1719/1719 [==============================] - 5s 3ms/step - loss: 0.0046 - accuracy: 0.9988 - val_loss: 0.0695 - val_accuracy: 0.9860\n",
      "Epoch 11/200\n",
      "1719/1719 [==============================] - 5s 3ms/step - loss: 0.0012 - accuracy: 0.9998 - val_loss: 0.0639 - val_accuracy: 0.9856\n",
      "Epoch 12/200\n",
      "1719/1719 [==============================] - 5s 3ms/step - loss: 6.5174e-04 - accuracy: 1.0000 - val_loss: 0.0694 - val_accuracy: 0.9856\n",
      "Epoch 13/200\n",
      "1719/1719 [==============================] - 5s 3ms/step - loss: 3.5791e-04 - accuracy: 1.0000 - val_loss: 0.0672 - val_accuracy: 0.9866\n",
      "Epoch 14/200\n",
      "1719/1719 [==============================] - 5s 3ms/step - loss: 2.6285e-04 - accuracy: 1.0000 - val_loss: 0.0683 - val_accuracy: 0.9870\n",
      "Epoch 15/200\n",
      "1719/1719 [==============================] - 5s 3ms/step - loss: 2.2179e-04 - accuracy: 1.0000 - val_loss: 0.0694 - val_accuracy: 0.9874\n",
      "Epoch 16/200\n",
      "1719/1719 [==============================] - 5s 3ms/step - loss: 1.9663e-04 - accuracy: 1.0000 - val_loss: 0.0699 - val_accuracy: 0.9874\n",
      "Epoch 17/200\n",
      "1719/1719 [==============================] - 5s 3ms/step - loss: 1.7639e-04 - accuracy: 1.0000 - val_loss: 0.0705 - val_accuracy: 0.9876\n"
     ]
    }
   ],
   "source": [
    "run_logdir = get_run_logdir()\n",
    "\n",
    "early_stopping_cb = tf.keras.callbacks.EarlyStopping(\n",
    "    monitor='val_loss', patience=10)\n",
    "checkpoint_cb = tf.keras.callbacks.ModelCheckpoint(\n",
    "    \"mnist_model.h5\", monitor='val_loss', save_best_only=True)\n",
    "tensorboard_cb = tf.keras.callbacks.TensorBoard(run_logdir)\n",
    "\n",
    "history = model.fit(x_train, y_train, batch_size=32, epochs=200, validation_data=(\n",
    "    x_valid, y_valid), callbacks=[early_stopping_cb, checkpoint_cb, tensorboard_cb])"
   ]
  },
  {
   "cell_type": "code",
   "execution_count": 11,
   "metadata": {},
   "outputs": [],
   "source": [
    "y_preds = model.predict(x_test)\n",
    "y_labeled = list(map(lambda x: np.argmax(x), y_preds))"
   ]
  },
  {
   "cell_type": "code",
   "execution_count": 12,
   "metadata": {},
   "outputs": [
    {
     "data": {
      "text/plain": [
       "0.2749"
      ]
     },
     "execution_count": 12,
     "metadata": {},
     "output_type": "execute_result"
    }
   ],
   "source": [
    "mse = mean_squared_error(y_test, y_labeled)\n",
    "mse"
   ]
  },
  {
   "cell_type": "code",
   "execution_count": 13,
   "metadata": {
    "tags": []
   },
   "outputs": [
    {
     "name": "stdout",
     "output_type": "stream",
     "text": [
      "tf.Tensor(\n",
      "[[ 973    1    0    2    0    0    1    0    1    2]\n",
      " [   1 1128    0    1    0    0    2    1    2    0]\n",
      " [   4    1 1014    3    1    0    1    3    5    0]\n",
      " [   0    0    4  996    0    3    0    3    3    1]\n",
      " [   1    0    3    0  964    0    3    2    0    9]\n",
      " [   2    0    0    9    0  873    2    2    3    1]\n",
      " [   2    2    1    1    4    3  944    0    1    0]\n",
      " [   2    1    7    0    0    0    0 1009    4    5]\n",
      " [   1    0    2    3    2    1    1    2  960    2]\n",
      " [   2    2    0    2    8    2    1    5    1  986]], shape=(10, 10), dtype=int32)\n"
     ]
    }
   ],
   "source": [
    "confusion = tf.math.confusion_matrix(\n",
    "    labels=tf.constant(y_test),\n",
    "    predictions=tf.constant(y_labeled),\n",
    "    num_classes=10)\n",
    "\n",
    "print(confusion)"
   ]
  },
  {
   "cell_type": "code",
   "execution_count": 14,
   "metadata": {
    "tags": []
   },
   "outputs": [
    {
     "name": "stdout",
     "output_type": "stream",
     "text": [
      "313/313 [==============================] - 0s 2ms/step - loss: 0.0732 - accuracy: 0.9847\n"
     ]
    },
    {
     "data": {
      "text/plain": [
       "[0.0731855258345604, 0.9847000241279602]"
      ]
     },
     "execution_count": 14,
     "metadata": {},
     "output_type": "execute_result"
    }
   ],
   "source": [
    "model.evaluate(x_test, y_test)"
   ]
  },
  {
   "cell_type": "code",
   "execution_count": 15,
   "metadata": {
    "ExecuteTime": {
     "end_time": "2020-10-03T01:02:06.657253Z",
     "start_time": "2020-10-03T01:02:05.551442Z"
    },
    "tags": []
   },
   "outputs": [
    {
     "name": "stdout",
     "output_type": "stream",
     "text": [
      "313/313 [==============================] - 0s 2ms/step - loss: 0.0666 - accuracy: 0.0991\n"
     ]
    },
    {
     "data": {
      "text/plain": [
       "[0.06656353920698166, 0.09910000115633011]"
      ]
     },
     "execution_count": 15,
     "metadata": {},
     "output_type": "execute_result"
    }
   ],
   "source": [
    "model2 = tf.keras.models.load_model(\"mnist_model.h5\")  # rollback to best model\n",
    "model2.load_weights(\"mnist_model.h5\")\n",
    "model2.evaluate(x_test, y_test)"
   ]
  },
  {
   "cell_type": "code",
   "execution_count": 16,
   "metadata": {
    "ExecuteTime": {
     "end_time": "2020-10-03T01:02:08.211745Z",
     "start_time": "2020-10-03T01:02:07.635572Z"
    }
   },
   "outputs": [
    {
     "data": {
      "text/plain": [
       "0.359"
      ]
     },
     "execution_count": 16,
     "metadata": {},
     "output_type": "execute_result"
    }
   ],
   "source": [
    "y_preds = model2.predict(x_test)\n",
    "y_labeled = list(map(lambda x: np.argmax(x), y_preds))\n",
    "mse = mean_squared_error(y_test, y_labeled)\n",
    "mse"
   ]
  },
  {
   "cell_type": "code",
   "execution_count": 17,
   "metadata": {
    "ExecuteTime": {
     "end_time": "2020-10-03T01:02:11.521266Z",
     "start_time": "2020-10-03T01:02:11.513504Z"
    },
    "tags": []
   },
   "outputs": [
    {
     "name": "stdout",
     "output_type": "stream",
     "text": [
      "tf.Tensor(\n",
      "[[ 970    1    0    0    0    0    5    0    1    3]\n",
      " [   0 1128    0    1    0    0    2    1    3    0]\n",
      " [   3    1 1012    3    2    0    0    4    7    0]\n",
      " [   1    0    4  991    0    5    0    4    4    1]\n",
      " [   2    0    3    0  967    0    3    3    0    4]\n",
      " [   2    0    0    8    0  872    3    1    5    1]\n",
      " [   5    3    2    1    4    2  940    0    1    0]\n",
      " [   2    2    5    2    0    0    0 1004    5    8]\n",
      " [   4    0    1    1    3    3    2    2  956    2]\n",
      " [   2    2    0    4   13    2    2    6    4  974]], shape=(10, 10), dtype=int32)\n"
     ]
    }
   ],
   "source": [
    "confusion = tf.math.confusion_matrix(\n",
    "    labels=tf.constant(y_test),\n",
    "    predictions=tf.constant(y_labeled),\n",
    "    num_classes=10)\n",
    "\n",
    "print(confusion)"
   ]
  },
  {
   "cell_type": "code",
   "execution_count": null,
   "metadata": {
    "ExecuteTime": {
     "end_time": "2020-10-03T01:01:31.832301Z",
     "start_time": "2020-10-03T01:00:17.467Z"
    }
   },
   "outputs": [],
   "source": [
    "%load_ext tensorboard\n",
    "%tensorboard --logdir=./logs --port=8008\n",
    "#!load_ext tensorboard\n",
    "#!tensorboard --logdir=./logs --port=8008"
   ]
  }
 ],
 "metadata": {
  "kernelspec": {
   "display_name": "Python 3",
   "language": "python",
   "name": "python3"
  },
  "language_info": {
   "codemirror_mode": {
    "name": "ipython",
    "version": 3
   },
   "file_extension": ".py",
   "mimetype": "text/x-python",
   "name": "python",
   "nbconvert_exporter": "python",
   "pygments_lexer": "ipython3",
   "version": "3.8.5"
  }
 },
 "nbformat": 4,
 "nbformat_minor": 2
}
