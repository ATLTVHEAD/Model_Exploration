{
 "metadata": {
  "language_info": {
   "codemirror_mode": {
    "name": "ipython",
    "version": 3
   },
   "file_extension": ".py",
   "mimetype": "text/x-python",
   "name": "python",
   "nbconvert_exporter": "python",
   "pygments_lexer": "ipython3",
   "version": "3.8.6-final"
  },
  "orig_nbformat": 2,
  "kernelspec": {
   "name": "Python 3.8.6 64-bit",
   "display_name": "Python 3.8.6 64-bit",
   "metadata": {
    "interpreter": {
     "hash": "03467c788c2adbf5c2f6af1ab24d405f11715728bcb8ccea0df795f31aa3969c"
    }
   }
  }
 },
 "nbformat": 4,
 "nbformat_minor": 2,
 "cells": [
  {
   "cell_type": "code",
   "execution_count": 2,
   "metadata": {},
   "outputs": [],
   "source": [
    "import tensorflow as tf \n",
    "from tensorflow import keras\n",
    "import numpy as np \n",
    "import matplotlib.pyplot as plt \n",
    "import seaborn as sb \n",
    "import os \n",
    "\n",
    "%matplotlib inline\n",
    "%load_ext tensorboard"
   ]
  },
  {
   "source": [
    "Build a DNN with 20 hidden layers of 100 neurons each (that's too many, but it's the point of this exercise). Use He initialization and the ELU activation function."
   ],
   "cell_type": "markdown",
   "metadata": {}
  },
  {
   "cell_type": "code",
   "execution_count": 2,
   "metadata": {},
   "outputs": [],
   "source": [
    "DNN = tf.keras.Sequential()\n",
    "DNN.add(keras.layers.Flatten(input_shape=[32,32,3]))\n",
    "for _ in range(20):\n",
    "    DNN.add(keras.layers.Dense(100,\n",
    "        activation=\"elu\",\n",
    "        kernel_initializer=\"he_normal\"))\n",
    "DNN.add(keras.layers.Dense(10, activation=\"softmax\"))"
   ]
  },
  {
   "source": [
    "Using Nadam optimization and early stopping, train the network on the CIFAR10 dataset. You can load it with keras.datasets.cifar10.load_data(). The dataset is composed of 60,000 32 × 32–pixel color images (50,000 for training, 10,000 for testing) with 10 classes. Remember to search for the right learning rate each time you change the model's architecture or hyperparameters."
   ],
   "cell_type": "markdown",
   "metadata": {}
  },
  {
   "cell_type": "code",
   "execution_count": 3,
   "metadata": {},
   "outputs": [],
   "source": [
    "opt = keras.optimizers.Nadam(lr=5e-5)"
   ]
  },
  {
   "cell_type": "code",
   "execution_count": 4,
   "metadata": {},
   "outputs": [],
   "source": [
    "DNN.compile(loss=\"sparse_categorical_crossentropy\", optimizer=opt, metrics=[\"accuracy\"])"
   ]
  },
  {
   "cell_type": "code",
   "execution_count": 6,
   "metadata": {},
   "outputs": [],
   "source": [
    "(xtrain_full, ytrain_full), (xtest, ytest) = keras.datasets.cifar10.load_data()"
   ]
  },
  {
   "cell_type": "code",
   "execution_count": 7,
   "metadata": {},
   "outputs": [],
   "source": [
    "xtrain = xtrain_full[5000:]\n",
    "ytrain = ytrain_full[5000:]\n",
    "xval = xtrain_full[:5000]\n",
    "yval = ytrain_full[:5000]"
   ]
  },
  {
   "cell_type": "code",
   "execution_count": 7,
   "metadata": {},
   "outputs": [],
   "source": [
    "early_stopping_callback = keras.callbacks.EarlyStopping(patience=20)\n",
    "best_model_callback = keras.callbacks.ModelCheckpoint(\"DNN_cifar10.h5\", save_best_only=True)"
   ]
  },
  {
   "cell_type": "code",
   "execution_count": 8,
   "metadata": {},
   "outputs": [],
   "source": [
    "runs = 1\n",
    "logdir = os.path.join(os.curdir, \"cifar10_logs\", \"runs_{:03d}\".format(runs))\n",
    "tensorboard_callbacks = keras.callbacks.TensorBoard(logdir)\n",
    "callbacks = [early_stopping_callback, best_model_callback, tensorboard_callbacks]"
   ]
  },
  {
   "cell_type": "code",
   "execution_count": 10,
   "metadata": {},
   "outputs": [
    {
     "output_type": "stream",
     "name": "stdout",
     "text": [
      "Epoch 1/300\n",
      "   1/1407 [..............................] - ETA: 0s - loss: 347.7799 - accuracy: 0.0625WARNING:tensorflow:From C:\\Users\\nated\\AppData\\Local\\Programs\\Python\\Python38\\lib\\site-packages\\tensorflow\\python\\ops\\summary_ops_v2.py:1277: stop (from tensorflow.python.eager.profiler) is deprecated and will be removed after 2020-07-01.\n",
      "Instructions for updating:\n",
      "use `tf.profiler.experimental.stop` instead.\n",
      "   2/1407 [..............................] - ETA: 1:20 - loss: 272.9651 - accuracy: 0.1094WARNING:tensorflow:Callbacks method `on_train_batch_end` is slow compared to the batch time (batch time: 0.0130s vs `on_train_batch_end` time: 0.1010s). Check your callbacks.\n",
      "1407/1407 [==============================] - 11s 8ms/step - loss: 5.2551 - accuracy: 0.1636 - val_loss: 2.2026 - val_accuracy: 0.2070\n",
      "Epoch 2/300\n",
      "1407/1407 [==============================] - 10s 7ms/step - loss: 2.0926 - accuracy: 0.2300 - val_loss: 2.0977 - val_accuracy: 0.2292\n",
      "Epoch 3/300\n",
      "1407/1407 [==============================] - 10s 7ms/step - loss: 1.9786 - accuracy: 0.2680 - val_loss: 2.0423 - val_accuracy: 0.2708\n",
      "Epoch 4/300\n",
      "1407/1407 [==============================] - 10s 7ms/step - loss: 1.9011 - accuracy: 0.2949 - val_loss: 1.9620 - val_accuracy: 0.2894\n",
      "Epoch 5/300\n",
      "1407/1407 [==============================] - 11s 7ms/step - loss: 1.8374 - accuracy: 0.3233 - val_loss: 1.8337 - val_accuracy: 0.3332\n",
      "Epoch 6/300\n",
      "1407/1407 [==============================] - 11s 8ms/step - loss: 1.7829 - accuracy: 0.3462 - val_loss: 1.7430 - val_accuracy: 0.3678\n",
      "Epoch 7/300\n",
      "1407/1407 [==============================] - 11s 8ms/step - loss: 1.7366 - accuracy: 0.3656 - val_loss: 1.7247 - val_accuracy: 0.3806\n",
      "Epoch 8/300\n",
      "1407/1407 [==============================] - 11s 8ms/step - loss: 1.6971 - accuracy: 0.3835 - val_loss: 1.6818 - val_accuracy: 0.3902\n",
      "Epoch 9/300\n",
      "1407/1407 [==============================] - 10s 7ms/step - loss: 1.6567 - accuracy: 0.4006 - val_loss: 1.7067 - val_accuracy: 0.3876\n",
      "Epoch 10/300\n",
      "1407/1407 [==============================] - 10s 7ms/step - loss: 1.6280 - accuracy: 0.4132 - val_loss: 1.6482 - val_accuracy: 0.4122\n",
      "Epoch 11/300\n",
      "1407/1407 [==============================] - 10s 7ms/step - loss: 1.6003 - accuracy: 0.4231 - val_loss: 1.6488 - val_accuracy: 0.4098\n",
      "Epoch 12/300\n",
      "1407/1407 [==============================] - 11s 8ms/step - loss: 1.5744 - accuracy: 0.4328 - val_loss: 1.6183 - val_accuracy: 0.4214\n",
      "Epoch 13/300\n",
      "1407/1407 [==============================] - 12s 8ms/step - loss: 1.5545 - accuracy: 0.4400 - val_loss: 1.5941 - val_accuracy: 0.4280\n",
      "Epoch 14/300\n",
      "1407/1407 [==============================] - 15s 11ms/step - loss: 1.5370 - accuracy: 0.4456 - val_loss: 1.5897 - val_accuracy: 0.4304\n",
      "Epoch 15/300\n",
      "1407/1407 [==============================] - 17s 12ms/step - loss: 1.5198 - accuracy: 0.4536 - val_loss: 1.5943 - val_accuracy: 0.4270\n",
      "Epoch 16/300\n",
      "1407/1407 [==============================] - 12s 8ms/step - loss: 1.5063 - accuracy: 0.4568 - val_loss: 1.5916 - val_accuracy: 0.4210\n",
      "Epoch 17/300\n",
      "1407/1407 [==============================] - 11s 8ms/step - loss: 1.4912 - accuracy: 0.4624 - val_loss: 1.5607 - val_accuracy: 0.4366\n",
      "Epoch 18/300\n",
      "1407/1407 [==============================] - 11s 8ms/step - loss: 1.4756 - accuracy: 0.4694 - val_loss: 1.5837 - val_accuracy: 0.4324\n",
      "Epoch 19/300\n",
      "1407/1407 [==============================] - 11s 8ms/step - loss: 1.4635 - accuracy: 0.4754 - val_loss: 1.5722 - val_accuracy: 0.4408\n",
      "Epoch 20/300\n",
      "1407/1407 [==============================] - 11s 8ms/step - loss: 1.4509 - accuracy: 0.4797 - val_loss: 1.5505 - val_accuracy: 0.4444\n",
      "Epoch 21/300\n",
      "1407/1407 [==============================] - 12s 9ms/step - loss: 1.4380 - accuracy: 0.4818 - val_loss: 1.5511 - val_accuracy: 0.4412\n",
      "Epoch 22/300\n",
      "1407/1407 [==============================] - 13s 9ms/step - loss: 1.4249 - accuracy: 0.4852 - val_loss: 1.5436 - val_accuracy: 0.4420\n",
      "Epoch 23/300\n",
      "1407/1407 [==============================] - 18s 13ms/step - loss: 1.4170 - accuracy: 0.4897 - val_loss: 1.5581 - val_accuracy: 0.4380\n",
      "Epoch 24/300\n",
      "1407/1407 [==============================] - 15s 11ms/step - loss: 1.4007 - accuracy: 0.4968 - val_loss: 1.5499 - val_accuracy: 0.4460\n",
      "Epoch 25/300\n",
      "1407/1407 [==============================] - 15s 11ms/step - loss: 1.3937 - accuracy: 0.4993 - val_loss: 1.5238 - val_accuracy: 0.4530\n",
      "Epoch 26/300\n",
      "1407/1407 [==============================] - 15s 11ms/step - loss: 1.3833 - accuracy: 0.5036 - val_loss: 1.5842 - val_accuracy: 0.4400\n",
      "Epoch 27/300\n",
      "1407/1407 [==============================] - 15s 11ms/step - loss: 1.3761 - accuracy: 0.5031 - val_loss: 1.5452 - val_accuracy: 0.4546\n",
      "Epoch 28/300\n",
      "1407/1407 [==============================] - 15s 10ms/step - loss: 1.3621 - accuracy: 0.5110 - val_loss: 1.5553 - val_accuracy: 0.4484\n",
      "Epoch 29/300\n",
      "1407/1407 [==============================] - 15s 11ms/step - loss: 1.3560 - accuracy: 0.5118 - val_loss: 1.5347 - val_accuracy: 0.4584\n",
      "Epoch 30/300\n",
      "1407/1407 [==============================] - 15s 11ms/step - loss: 1.3420 - accuracy: 0.5194 - val_loss: 1.5459 - val_accuracy: 0.4602\n",
      "Epoch 31/300\n",
      "1407/1407 [==============================] - 17s 12ms/step - loss: 1.3352 - accuracy: 0.5173 - val_loss: 1.5537 - val_accuracy: 0.4512\n",
      "Epoch 32/300\n",
      "1407/1407 [==============================] - 18s 13ms/step - loss: 1.3258 - accuracy: 0.5250 - val_loss: 1.5511 - val_accuracy: 0.4556\n",
      "Epoch 33/300\n",
      "1407/1407 [==============================] - 15s 11ms/step - loss: 1.3179 - accuracy: 0.5249 - val_loss: 1.5490 - val_accuracy: 0.4604\n",
      "Epoch 34/300\n",
      "1407/1407 [==============================] - 14s 10ms/step - loss: 1.3081 - accuracy: 0.5283 - val_loss: 1.5449 - val_accuracy: 0.4588\n",
      "Epoch 35/300\n",
      "1407/1407 [==============================] - 12s 8ms/step - loss: 1.3010 - accuracy: 0.5316 - val_loss: 1.5429 - val_accuracy: 0.4562\n",
      "Epoch 36/300\n",
      "1407/1407 [==============================] - 12s 9ms/step - loss: 1.2945 - accuracy: 0.5324 - val_loss: 1.5371 - val_accuracy: 0.4650\n",
      "Epoch 37/300\n",
      "1407/1407 [==============================] - 15s 11ms/step - loss: 1.2841 - accuracy: 0.5365 - val_loss: 1.5456 - val_accuracy: 0.4558\n",
      "Epoch 38/300\n",
      "1407/1407 [==============================] - 13s 9ms/step - loss: 1.2734 - accuracy: 0.5435 - val_loss: 1.5445 - val_accuracy: 0.4542\n",
      "Epoch 39/300\n",
      "1407/1407 [==============================] - 14s 10ms/step - loss: 1.2686 - accuracy: 0.5444 - val_loss: 1.5359 - val_accuracy: 0.4602\n",
      "Epoch 40/300\n",
      "1407/1407 [==============================] - 13s 9ms/step - loss: 1.2587 - accuracy: 0.5458 - val_loss: 1.5422 - val_accuracy: 0.4654\n",
      "Epoch 41/300\n",
      "1407/1407 [==============================] - 13s 9ms/step - loss: 1.2492 - accuracy: 0.5503 - val_loss: 1.5486 - val_accuracy: 0.4606\n",
      "Epoch 42/300\n",
      "1407/1407 [==============================] - 13s 9ms/step - loss: 1.2404 - accuracy: 0.5531 - val_loss: 1.5903 - val_accuracy: 0.4524\n",
      "Epoch 43/300\n",
      "1407/1407 [==============================] - 14s 10ms/step - loss: 1.2369 - accuracy: 0.5544 - val_loss: 1.5659 - val_accuracy: 0.4646\n",
      "Epoch 44/300\n",
      "1407/1407 [==============================] - 14s 10ms/step - loss: 1.2293 - accuracy: 0.5577 - val_loss: 1.5736 - val_accuracy: 0.4606\n",
      "Epoch 45/300\n",
      "1407/1407 [==============================] - 13s 9ms/step - loss: 1.2196 - accuracy: 0.5635 - val_loss: 1.5771 - val_accuracy: 0.4556\n"
     ]
    },
    {
     "output_type": "execute_result",
     "data": {
      "text/plain": [
       "<tensorflow.python.keras.callbacks.History at 0x191d7461340>"
      ]
     },
     "metadata": {},
     "execution_count": 10
    }
   ],
   "source": [
    "DNN.fit(xtrain, ytrain, epochs=300, validation_data=(xval, yval), callbacks=callbacks)"
   ]
  },
  {
   "cell_type": "code",
   "execution_count": 11,
   "metadata": {},
   "outputs": [
    {
     "output_type": "stream",
     "name": "stdout",
     "text": [
      "157/157 [==============================] - 0s 3ms/step - loss: 1.5238 - accuracy: 0.1164\n"
     ]
    },
    {
     "output_type": "execute_result",
     "data": {
      "text/plain": [
       "[1.5237600803375244, 0.11640000343322754]"
      ]
     },
     "metadata": {},
     "execution_count": 11
    }
   ],
   "source": [
    "best_DNN = tf.keras.models.load_model(\"DNN_cifar10.h5\")\n",
    "best_DNN.evaluate(xval, yval)"
   ]
  },
  {
   "cell_type": "code",
   "execution_count": 12,
   "metadata": {},
   "outputs": [
    {
     "output_type": "stream",
     "name": "stdout",
     "text": [
      "157/157 [==============================] - 0s 3ms/step - loss: 1.5771 - accuracy: 0.4556\n"
     ]
    },
    {
     "output_type": "execute_result",
     "data": {
      "text/plain": [
       "[1.5771427154541016, 0.45559999346733093]"
      ]
     },
     "metadata": {},
     "execution_count": 12
    }
   ],
   "source": [
    "DNN.evaluate(xval, yval)"
   ]
  },
  {
   "source": [
    "Now try adding Batch Normalization and compare the learning curves: Is it converging faster than before? Does it produce a better model? How does it affect training speed?"
   ],
   "cell_type": "markdown",
   "metadata": {}
  },
  {
   "cell_type": "code",
   "execution_count": 15,
   "metadata": {},
   "outputs": [],
   "source": [
    "BN = keras.models.Sequential()\n",
    "BN.add(keras.layers.Flatten(input_shape=[32,32,3]))\n",
    "BN.add(keras.layers.BatchNormalization())\n",
    "for _ in range(20):\n",
    "    BN.add(keras.layers.Dense(100, kernel_initializer=\"he_normal\"))\n",
    "    BN.add(keras.layers.BatchNormalization())\n",
    "    BN.add(keras.layers.Activation(\"elu\"))\n",
    "BN.add(keras.layers.Dense(10, activation=\"softmax\"))\n",
    "\n",
    "BN.compile(loss=\"sparse_categorical_crossentropy\", optimizer=opt, metrics=[\"accuracy\"])\n",
    "\n",
    "runs_bn = 1\n",
    "logdir = os.path.join(os.curdir, \"cifar10_logs\", \"runs_bn_{:03d}\".format(runs))\n",
    "tensorboard_callbacks = keras.callbacks.TensorBoard(logdir)\n",
    "\n",
    "best_bn_callback = keras.callbacks.ModelCheckpoint(\"BN_cifar10.h5\", save_best_only=True)\n",
    "bn_callbacks = [early_stopping_callback, best_bn_callback, tensorboard_callbacks]"
   ]
  },
  {
   "cell_type": "code",
   "execution_count": 16,
   "metadata": {},
   "outputs": [
    {
     "output_type": "stream",
     "name": "stdout",
     "text": [
      "Epoch 1/200\n",
      "   2/1407 [..............................] - ETA: 1:16:47 - loss: 2.7499 - accuracy: 0.0781WARNING:tensorflow:Callbacks method `on_train_batch_end` is slow compared to the batch time (batch time: 0.0210s vs `on_train_batch_end` time: 6.5363s). Check your callbacks.\n",
      "1407/1407 [==============================] - 33s 23ms/step - loss: 1.9038 - accuracy: 0.3204 - val_loss: 1.6877 - val_accuracy: 0.3916\n",
      "Epoch 2/200\n",
      "1407/1407 [==============================] - 33s 23ms/step - loss: 1.7254 - accuracy: 0.3835 - val_loss: 1.5997 - val_accuracy: 0.4258\n",
      "Epoch 3/200\n",
      "1407/1407 [==============================] - 36s 26ms/step - loss: 1.6545 - accuracy: 0.4110 - val_loss: 1.5518 - val_accuracy: 0.4466\n",
      "Epoch 4/200\n",
      "1407/1407 [==============================] - 34s 24ms/step - loss: 1.6054 - accuracy: 0.4270 - val_loss: 1.5277 - val_accuracy: 0.4580\n",
      "Epoch 5/200\n",
      "1407/1407 [==============================] - 36s 25ms/step - loss: 1.5717 - accuracy: 0.4432 - val_loss: 1.4982 - val_accuracy: 0.4606\n",
      "Epoch 6/200\n",
      "1407/1407 [==============================] - 31s 22ms/step - loss: 1.5413 - accuracy: 0.4507 - val_loss: 1.4793 - val_accuracy: 0.4768\n",
      "Epoch 7/200\n",
      "1407/1407 [==============================] - 29s 21ms/step - loss: 1.5161 - accuracy: 0.4617 - val_loss: 1.4573 - val_accuracy: 0.4818\n",
      "Epoch 8/200\n",
      "1407/1407 [==============================] - 36s 26ms/step - loss: 1.4838 - accuracy: 0.4746 - val_loss: 1.4428 - val_accuracy: 0.4946\n",
      "Epoch 9/200\n",
      "1407/1407 [==============================] - 35s 25ms/step - loss: 1.4672 - accuracy: 0.4823 - val_loss: 1.4464 - val_accuracy: 0.4906\n",
      "Epoch 10/200\n",
      "1407/1407 [==============================] - 36s 25ms/step - loss: 1.4491 - accuracy: 0.4868 - val_loss: 1.4197 - val_accuracy: 0.5012\n",
      "Epoch 11/200\n",
      "1407/1407 [==============================] - 36s 25ms/step - loss: 1.4252 - accuracy: 0.4969 - val_loss: 1.4095 - val_accuracy: 0.5030\n",
      "Epoch 12/200\n",
      "1407/1407 [==============================] - 36s 26ms/step - loss: 1.4085 - accuracy: 0.5020 - val_loss: 1.4137 - val_accuracy: 0.5006\n",
      "Epoch 13/200\n",
      "1407/1407 [==============================] - 35s 25ms/step - loss: 1.3975 - accuracy: 0.5084 - val_loss: 1.3988 - val_accuracy: 0.5036\n",
      "Epoch 14/200\n",
      "1407/1407 [==============================] - 32s 22ms/step - loss: 1.3789 - accuracy: 0.5112 - val_loss: 1.3946 - val_accuracy: 0.5110\n",
      "Epoch 15/200\n",
      "1407/1407 [==============================] - 33s 23ms/step - loss: 1.3637 - accuracy: 0.5173 - val_loss: 1.3850 - val_accuracy: 0.5130\n",
      "Epoch 16/200\n",
      "1407/1407 [==============================] - 31s 22ms/step - loss: 1.3513 - accuracy: 0.5257 - val_loss: 1.3912 - val_accuracy: 0.5042\n",
      "Epoch 17/200\n",
      "1407/1407 [==============================] - 31s 22ms/step - loss: 1.3428 - accuracy: 0.5248 - val_loss: 1.3918 - val_accuracy: 0.5050\n",
      "Epoch 18/200\n",
      "1407/1407 [==============================] - 31s 22ms/step - loss: 1.3310 - accuracy: 0.5275 - val_loss: 1.3825 - val_accuracy: 0.5122\n",
      "Epoch 19/200\n",
      "1407/1407 [==============================] - 30s 22ms/step - loss: 1.3154 - accuracy: 0.5364 - val_loss: 1.3814 - val_accuracy: 0.5116\n",
      "Epoch 20/200\n",
      "1407/1407 [==============================] - 30s 21ms/step - loss: 1.3065 - accuracy: 0.5378 - val_loss: 1.3672 - val_accuracy: 0.5140\n",
      "Epoch 21/200\n",
      "1407/1407 [==============================] - 29s 21ms/step - loss: 1.2913 - accuracy: 0.5417 - val_loss: 1.3606 - val_accuracy: 0.5208\n",
      "Epoch 22/200\n",
      "1407/1407 [==============================] - 28s 20ms/step - loss: 1.2786 - accuracy: 0.5479 - val_loss: 1.3687 - val_accuracy: 0.5128\n",
      "Epoch 23/200\n",
      "1407/1407 [==============================] - 30s 22ms/step - loss: 1.2760 - accuracy: 0.5491 - val_loss: 1.3646 - val_accuracy: 0.5180\n",
      "Epoch 24/200\n",
      "1407/1407 [==============================] - 29s 21ms/step - loss: 1.2611 - accuracy: 0.5526 - val_loss: 1.3671 - val_accuracy: 0.5154\n",
      "Epoch 25/200\n",
      "1407/1407 [==============================] - 29s 21ms/step - loss: 1.2479 - accuracy: 0.5566 - val_loss: 1.3909 - val_accuracy: 0.5160\n",
      "Epoch 26/200\n",
      "1407/1407 [==============================] - 29s 21ms/step - loss: 1.2437 - accuracy: 0.5603 - val_loss: 1.3577 - val_accuracy: 0.5220\n",
      "Epoch 27/200\n",
      "1407/1407 [==============================] - 29s 21ms/step - loss: 1.2354 - accuracy: 0.5611 - val_loss: 1.3636 - val_accuracy: 0.5238\n",
      "Epoch 28/200\n",
      "1407/1407 [==============================] - 33s 23ms/step - loss: 1.2258 - accuracy: 0.5673 - val_loss: 1.3658 - val_accuracy: 0.5204\n",
      "Epoch 29/200\n",
      "1407/1407 [==============================] - 32s 23ms/step - loss: 1.2170 - accuracy: 0.5669 - val_loss: 1.3706 - val_accuracy: 0.5256\n",
      "Epoch 30/200\n",
      "1407/1407 [==============================] - 32s 23ms/step - loss: 1.2133 - accuracy: 0.5708 - val_loss: 1.3543 - val_accuracy: 0.5204\n",
      "Epoch 31/200\n",
      "1407/1407 [==============================] - 32s 22ms/step - loss: 1.2060 - accuracy: 0.5733 - val_loss: 1.3559 - val_accuracy: 0.5238\n",
      "Epoch 32/200\n",
      "1407/1407 [==============================] - 31s 22ms/step - loss: 1.1931 - accuracy: 0.5764 - val_loss: 1.3550 - val_accuracy: 0.5236\n",
      "Epoch 33/200\n",
      "1407/1407 [==============================] - 32s 22ms/step - loss: 1.1848 - accuracy: 0.5754 - val_loss: 1.3649 - val_accuracy: 0.5262\n",
      "Epoch 34/200\n",
      "1407/1407 [==============================] - 32s 23ms/step - loss: 1.1749 - accuracy: 0.5861 - val_loss: 1.3728 - val_accuracy: 0.5258\n",
      "Epoch 35/200\n",
      "1407/1407 [==============================] - 32s 23ms/step - loss: 1.1727 - accuracy: 0.5863 - val_loss: 1.3612 - val_accuracy: 0.5238\n",
      "Epoch 36/200\n",
      "1407/1407 [==============================] - 32s 23ms/step - loss: 1.1658 - accuracy: 0.5869 - val_loss: 1.3544 - val_accuracy: 0.5278\n",
      "Epoch 37/200\n",
      "1407/1407 [==============================] - 34s 24ms/step - loss: 1.1572 - accuracy: 0.5934 - val_loss: 1.3628 - val_accuracy: 0.5272\n",
      "Epoch 38/200\n",
      "1407/1407 [==============================] - 30s 21ms/step - loss: 1.1516 - accuracy: 0.5931 - val_loss: 1.3565 - val_accuracy: 0.5230\n",
      "Epoch 39/200\n",
      "1407/1407 [==============================] - 29s 21ms/step - loss: 1.1415 - accuracy: 0.5971 - val_loss: 1.3627 - val_accuracy: 0.5304\n",
      "Epoch 40/200\n",
      "1407/1407 [==============================] - 29s 21ms/step - loss: 1.1322 - accuracy: 0.6017 - val_loss: 1.3660 - val_accuracy: 0.5256\n",
      "Epoch 41/200\n",
      "1407/1407 [==============================] - 30s 21ms/step - loss: 1.1261 - accuracy: 0.5989 - val_loss: 1.3705 - val_accuracy: 0.5326\n",
      "Epoch 42/200\n",
      "1407/1407 [==============================] - 29s 21ms/step - loss: 1.1286 - accuracy: 0.5982 - val_loss: 1.3731 - val_accuracy: 0.5260\n",
      "Epoch 43/200\n",
      "1407/1407 [==============================] - 29s 21ms/step - loss: 1.1175 - accuracy: 0.6035 - val_loss: 1.3672 - val_accuracy: 0.5230\n",
      "Epoch 44/200\n",
      "1407/1407 [==============================] - 34s 24ms/step - loss: 1.1100 - accuracy: 0.6058 - val_loss: 1.3603 - val_accuracy: 0.5280\n",
      "Epoch 45/200\n",
      "1407/1407 [==============================] - 32s 22ms/step - loss: 1.0998 - accuracy: 0.6098 - val_loss: 1.3790 - val_accuracy: 0.5278\n",
      "Epoch 46/200\n",
      "1407/1407 [==============================] - 33s 24ms/step - loss: 1.0910 - accuracy: 0.6117 - val_loss: 1.3912 - val_accuracy: 0.5232\n",
      "Epoch 47/200\n",
      "1407/1407 [==============================] - 32s 23ms/step - loss: 1.0937 - accuracy: 0.6130 - val_loss: 1.3771 - val_accuracy: 0.5276\n",
      "Epoch 48/200\n",
      "1407/1407 [==============================] - 32s 23ms/step - loss: 1.0881 - accuracy: 0.6140 - val_loss: 1.3740 - val_accuracy: 0.5240\n",
      "Epoch 49/200\n",
      "1407/1407 [==============================] - 32s 23ms/step - loss: 1.0811 - accuracy: 0.6166 - val_loss: 1.3800 - val_accuracy: 0.5238\n",
      "Epoch 50/200\n",
      "1407/1407 [==============================] - 32s 23ms/step - loss: 1.0761 - accuracy: 0.6173 - val_loss: 1.3793 - val_accuracy: 0.5302\n"
     ]
    },
    {
     "output_type": "execute_result",
     "data": {
      "text/plain": [
       "<tensorflow.python.keras.callbacks.History at 0x19334ecb130>"
      ]
     },
     "metadata": {},
     "execution_count": 16
    }
   ],
   "source": [
    "BN.fit(xtrain, ytrain, epochs=200, validation_data=(xval, yval), callbacks=bn_callbacks)"
   ]
  },
  {
   "cell_type": "code",
   "execution_count": 17,
   "metadata": {},
   "outputs": [
    {
     "output_type": "stream",
     "name": "stdout",
     "text": [
      "WARNING:tensorflow:Error in loading the saved optimizer state. As a result, your model is starting with a freshly initialized optimizer.\n",
      "157/157 [==============================] - 1s 4ms/step - loss: 1.3543 - accuracy: 0.1040\n"
     ]
    },
    {
     "output_type": "execute_result",
     "data": {
      "text/plain": [
       "[1.3542672395706177, 0.10400000214576721]"
      ]
     },
     "metadata": {},
     "execution_count": 17
    }
   ],
   "source": [
    "best_BN = keras.models.load_model(\"BN_cifar10.h5\")\n",
    "best_BN.evaluate(xval, yval)"
   ]
  },
  {
   "cell_type": "code",
   "execution_count": 19,
   "metadata": {},
   "outputs": [],
   "source": [
    "learning_rates = [1e-5, 3e-5, 5e-5, 1e-4, 3e-4, 5e-4, 1e-3, 3e-3]\n",
    "#opt = keras.optimizers.Nadam(lr=5e-5)"
   ]
  },
  {
   "cell_type": "code",
   "execution_count": 27,
   "metadata": {
    "tags": [
     "outputPrepend"
    ]
   },
   "outputs": [
    {
     "output_type": "stream",
     "name": "stdout",
     "text": [
      "l_accuracy: 0.4768\n",
      "Epoch 26/200\n",
      "1407/1407 [==============================] - 35s 25ms/step - loss: 1.4919 - accuracy: 0.4691 - val_loss: 1.4603 - val_accuracy: 0.4734\n",
      "Epoch 27/200\n",
      "1407/1407 [==============================] - 36s 25ms/step - loss: 1.4820 - accuracy: 0.4739 - val_loss: 1.4571 - val_accuracy: 0.4750\n",
      "Epoch 28/200\n",
      "1407/1407 [==============================] - 36s 26ms/step - loss: 1.4767 - accuracy: 0.4757 - val_loss: 1.4559 - val_accuracy: 0.4748\n",
      "Epoch 29/200\n",
      "1407/1407 [==============================] - 35s 25ms/step - loss: 1.4715 - accuracy: 0.4766 - val_loss: 1.4462 - val_accuracy: 0.4826\n",
      "Epoch 30/200\n",
      "1407/1407 [==============================] - 36s 25ms/step - loss: 1.4682 - accuracy: 0.4789 - val_loss: 1.4455 - val_accuracy: 0.4798\n",
      "Epoch 31/200\n",
      "1407/1407 [==============================] - 35s 25ms/step - loss: 1.4611 - accuracy: 0.4806 - val_loss: 1.4443 - val_accuracy: 0.4798\n",
      "Epoch 32/200\n",
      "1407/1407 [==============================] - 36s 25ms/step - loss: 1.4493 - accuracy: 0.4856 - val_loss: 1.4373 - val_accuracy: 0.4846\n",
      "Epoch 33/200\n",
      "1407/1407 [==============================] - 35s 25ms/step - loss: 1.4458 - accuracy: 0.4881 - val_loss: 1.4398 - val_accuracy: 0.4838\n",
      "Epoch 34/200\n",
      "1407/1407 [==============================] - 36s 25ms/step - loss: 1.4390 - accuracy: 0.4905 - val_loss: 1.4330 - val_accuracy: 0.4870\n",
      "Epoch 35/200\n",
      "1407/1407 [==============================] - 36s 25ms/step - loss: 1.4324 - accuracy: 0.4915 - val_loss: 1.4315 - val_accuracy: 0.4844\n",
      "Epoch 36/200\n",
      "1407/1407 [==============================] - 36s 26ms/step - loss: 1.4292 - accuracy: 0.4939 - val_loss: 1.4259 - val_accuracy: 0.4902\n",
      "Epoch 37/200\n",
      "1407/1407 [==============================] - 36s 25ms/step - loss: 1.4225 - accuracy: 0.4948 - val_loss: 1.4254 - val_accuracy: 0.4884\n",
      "Epoch 38/200\n",
      "1407/1407 [==============================] - 34s 24ms/step - loss: 1.4131 - accuracy: 0.4954 - val_loss: 1.4251 - val_accuracy: 0.4852\n",
      "Epoch 39/200\n",
      "1407/1407 [==============================] - 33s 24ms/step - loss: 1.4078 - accuracy: 0.5004 - val_loss: 1.4220 - val_accuracy: 0.4918\n",
      "Epoch 40/200\n",
      "1407/1407 [==============================] - 36s 26ms/step - loss: 1.4030 - accuracy: 0.5036 - val_loss: 1.4249 - val_accuracy: 0.4898\n",
      "Epoch 41/200\n",
      "1407/1407 [==============================] - 33s 24ms/step - loss: 1.3979 - accuracy: 0.5046 - val_loss: 1.4211 - val_accuracy: 0.4910\n",
      "Epoch 42/200\n",
      "1407/1407 [==============================] - 35s 25ms/step - loss: 1.3973 - accuracy: 0.5026 - val_loss: 1.4166 - val_accuracy: 0.4960\n",
      "Epoch 43/200\n",
      "1407/1407 [==============================] - 34s 24ms/step - loss: 1.3886 - accuracy: 0.5084 - val_loss: 1.4202 - val_accuracy: 0.4962\n",
      "Epoch 44/200\n",
      "1407/1407 [==============================] - 34s 24ms/step - loss: 1.3875 - accuracy: 0.5063 - val_loss: 1.4130 - val_accuracy: 0.5008\n",
      "Epoch 45/200\n",
      "1407/1407 [==============================] - 34s 24ms/step - loss: 1.3796 - accuracy: 0.5098 - val_loss: 1.4142 - val_accuracy: 0.4932\n",
      "Epoch 46/200\n",
      "1407/1407 [==============================] - 33s 24ms/step - loss: 1.3740 - accuracy: 0.5092 - val_loss: 1.4101 - val_accuracy: 0.4968\n",
      "Epoch 47/200\n",
      "1407/1407 [==============================] - 35s 25ms/step - loss: 1.3681 - accuracy: 0.5158 - val_loss: 1.4112 - val_accuracy: 0.4962\n",
      "Epoch 48/200\n",
      "1407/1407 [==============================] - 34s 24ms/step - loss: 1.3660 - accuracy: 0.5157 - val_loss: 1.4069 - val_accuracy: 0.4990\n",
      "Epoch 49/200\n",
      "1407/1407 [==============================] - 35s 25ms/step - loss: 1.3670 - accuracy: 0.5136 - val_loss: 1.4028 - val_accuracy: 0.5014\n",
      "Epoch 50/200\n",
      "1407/1407 [==============================] - 35s 25ms/step - loss: 1.3563 - accuracy: 0.5169 - val_loss: 1.4088 - val_accuracy: 0.4994\n",
      "Epoch 51/200\n",
      "1407/1407 [==============================] - 35s 25ms/step - loss: 1.3554 - accuracy: 0.5196 - val_loss: 1.4060 - val_accuracy: 0.4978\n",
      "Epoch 52/200\n",
      "1407/1407 [==============================] - 33s 24ms/step - loss: 1.3477 - accuracy: 0.5213 - val_loss: 1.4004 - val_accuracy: 0.5018\n",
      "Epoch 53/200\n",
      "1407/1407 [==============================] - 35s 25ms/step - loss: 1.3465 - accuracy: 0.5192 - val_loss: 1.3986 - val_accuracy: 0.4972\n",
      "Epoch 54/200\n",
      "1407/1407 [==============================] - 33s 24ms/step - loss: 1.3361 - accuracy: 0.5268 - val_loss: 1.3974 - val_accuracy: 0.5022\n",
      "Epoch 55/200\n",
      "1407/1407 [==============================] - 33s 24ms/step - loss: 1.3320 - accuracy: 0.5298 - val_loss: 1.3985 - val_accuracy: 0.5048\n",
      "Epoch 56/200\n",
      "1407/1407 [==============================] - 34s 24ms/step - loss: 1.3286 - accuracy: 0.5279 - val_loss: 1.3983 - val_accuracy: 0.5018\n",
      "Epoch 57/200\n",
      "1407/1407 [==============================] - 35s 25ms/step - loss: 1.3263 - accuracy: 0.5277 - val_loss: 1.3945 - val_accuracy: 0.5036\n",
      "Epoch 58/200\n",
      "1407/1407 [==============================] - 33s 23ms/step - loss: 1.3265 - accuracy: 0.5296 - val_loss: 1.3998 - val_accuracy: 0.5062\n",
      "Epoch 59/200\n",
      "1407/1407 [==============================] - 35s 25ms/step - loss: 1.3201 - accuracy: 0.5310 - val_loss: 1.3988 - val_accuracy: 0.5034\n",
      "Epoch 60/200\n",
      "1407/1407 [==============================] - 34s 24ms/step - loss: 1.3170 - accuracy: 0.5303 - val_loss: 1.3938 - val_accuracy: 0.5076\n",
      "Epoch 61/200\n",
      "1407/1407 [==============================] - 34s 24ms/step - loss: 1.3145 - accuracy: 0.5326 - val_loss: 1.3899 - val_accuracy: 0.5082\n",
      "Epoch 62/200\n",
      "1407/1407 [==============================] - 31s 22ms/step - loss: 1.3128 - accuracy: 0.5315 - val_loss: 1.3933 - val_accuracy: 0.5054\n",
      "Epoch 63/200\n",
      "1407/1407 [==============================] - 31s 22ms/step - loss: 1.3089 - accuracy: 0.5343 - val_loss: 1.3956 - val_accuracy: 0.5070\n",
      "Epoch 64/200\n",
      "1407/1407 [==============================] - 30s 21ms/step - loss: 1.3007 - accuracy: 0.5391 - val_loss: 1.3886 - val_accuracy: 0.5088\n",
      "Epoch 65/200\n",
      "1407/1407 [==============================] - 29s 21ms/step - loss: 1.2972 - accuracy: 0.5396 - val_loss: 1.3931 - val_accuracy: 0.5074\n",
      "Epoch 66/200\n",
      "1407/1407 [==============================] - 29s 21ms/step - loss: 1.2975 - accuracy: 0.5395 - val_loss: 1.3861 - val_accuracy: 0.5124\n",
      "Epoch 67/200\n",
      "1407/1407 [==============================] - 29s 21ms/step - loss: 1.2983 - accuracy: 0.5404 - val_loss: 1.3890 - val_accuracy: 0.5126\n",
      "Epoch 68/200\n",
      "1407/1407 [==============================] - 29s 21ms/step - loss: 1.2906 - accuracy: 0.5429 - val_loss: 1.3890 - val_accuracy: 0.5066\n",
      "Epoch 69/200\n",
      "1407/1407 [==============================] - 31s 22ms/step - loss: 1.2858 - accuracy: 0.5430 - val_loss: 1.3915 - val_accuracy: 0.5080\n",
      "Epoch 70/200\n",
      "1407/1407 [==============================] - 31s 22ms/step - loss: 1.2836 - accuracy: 0.5427 - val_loss: 1.3873 - val_accuracy: 0.5116\n",
      "Epoch 71/200\n",
      "1407/1407 [==============================] - 30s 21ms/step - loss: 1.2787 - accuracy: 0.5469 - val_loss: 1.3968 - val_accuracy: 0.5070\n",
      "Epoch 72/200\n",
      "1407/1407 [==============================] - 31s 22ms/step - loss: 1.2800 - accuracy: 0.5434 - val_loss: 1.3897 - val_accuracy: 0.5118\n",
      "Epoch 73/200\n",
      "1407/1407 [==============================] - 31s 22ms/step - loss: 1.2726 - accuracy: 0.5468 - val_loss: 1.3870 - val_accuracy: 0.5088\n",
      "Epoch 74/200\n",
      "1407/1407 [==============================] - 29s 21ms/step - loss: 1.2659 - accuracy: 0.5490 - val_loss: 1.3903 - val_accuracy: 0.5078\n",
      "Epoch 75/200\n",
      "1407/1407 [==============================] - 32s 23ms/step - loss: 1.2635 - accuracy: 0.5511 - val_loss: 1.3849 - val_accuracy: 0.5104\n",
      "Epoch 76/200\n",
      "1407/1407 [==============================] - 32s 22ms/step - loss: 1.2633 - accuracy: 0.5496 - val_loss: 1.3853 - val_accuracy: 0.5094\n",
      "Epoch 77/200\n",
      "1407/1407 [==============================] - 31s 22ms/step - loss: 1.2536 - accuracy: 0.5520 - val_loss: 1.3857 - val_accuracy: 0.5096\n",
      "Epoch 78/200\n",
      "1407/1407 [==============================] - 32s 23ms/step - loss: 1.2550 - accuracy: 0.5535 - val_loss: 1.3893 - val_accuracy: 0.5104\n",
      "Epoch 79/200\n",
      "1407/1407 [==============================] - 34s 24ms/step - loss: 1.2470 - accuracy: 0.5560 - val_loss: 1.3912 - val_accuracy: 0.5078\n",
      "Epoch 80/200\n",
      "1407/1407 [==============================] - 32s 23ms/step - loss: 1.2463 - accuracy: 0.5578 - val_loss: 1.3933 - val_accuracy: 0.5088\n",
      "Epoch 81/200\n",
      "1407/1407 [==============================] - 32s 23ms/step - loss: 1.2440 - accuracy: 0.5578 - val_loss: 1.3951 - val_accuracy: 0.5060\n",
      "Epoch 82/200\n",
      "1407/1407 [==============================] - 32s 23ms/step - loss: 1.2441 - accuracy: 0.5554 - val_loss: 1.3932 - val_accuracy: 0.5086\n",
      "Epoch 83/200\n",
      "1407/1407 [==============================] - 31s 22ms/step - loss: 1.2431 - accuracy: 0.5578 - val_loss: 1.3913 - val_accuracy: 0.5136\n",
      "Epoch 84/200\n",
      "1407/1407 [==============================] - 31s 22ms/step - loss: 1.2403 - accuracy: 0.5576 - val_loss: 1.3940 - val_accuracy: 0.5080\n",
      "Epoch 85/200\n",
      "1407/1407 [==============================] - 32s 22ms/step - loss: 1.2342 - accuracy: 0.5610 - val_loss: 1.3893 - val_accuracy: 0.5098\n",
      "Epoch 86/200\n",
      "1407/1407 [==============================] - 32s 23ms/step - loss: 1.2293 - accuracy: 0.5626 - val_loss: 1.3938 - val_accuracy: 0.5070\n",
      "Epoch 87/200\n",
      "1407/1407 [==============================] - 31s 22ms/step - loss: 1.2295 - accuracy: 0.5614 - val_loss: 1.3933 - val_accuracy: 0.5118\n",
      "Epoch 88/200\n",
      "1407/1407 [==============================] - 32s 22ms/step - loss: 1.2253 - accuracy: 0.5627 - val_loss: 1.3925 - val_accuracy: 0.5134\n",
      "Epoch 89/200\n",
      "1407/1407 [==============================] - 32s 23ms/step - loss: 1.2240 - accuracy: 0.5660 - val_loss: 1.3892 - val_accuracy: 0.5158\n",
      "Epoch 90/200\n",
      "1407/1407 [==============================] - 30s 22ms/step - loss: 1.2184 - accuracy: 0.5671 - val_loss: 1.3871 - val_accuracy: 0.5106\n",
      "157/157 [==============================] - 1s 3ms/step - loss: 1.3849 - accuracy: 0.5104\n",
      "learning Rate = 1e-05\n",
      "157/157 [==============================] - 1s 3ms/step - loss: 1.3543 - accuracy: 0.1040\n",
      "[1.3542672395706177, 0.10400000214576721]\n",
      "Epoch 1/200\n",
      "   2/1407 [..............................] - ETA: 1:27:41 - loss: 2.7238 - accuracy: 0.0781WARNING:tensorflow:Callbacks method `on_train_batch_end` is slow compared to the batch time (batch time: 0.0230s vs `on_train_batch_end` time: 7.4660s). Check your callbacks.\n",
      "1407/1407 [==============================] - 40s 29ms/step - loss: 2.1481 - accuracy: 0.2308 - val_loss: 1.8647 - val_accuracy: 0.3286\n",
      "Epoch 2/200\n",
      "1407/1407 [==============================] - 32s 23ms/step - loss: 1.8657 - accuracy: 0.3275 - val_loss: 1.7256 - val_accuracy: 0.3818\n",
      "Epoch 3/200\n",
      "1407/1407 [==============================] - 32s 23ms/step - loss: 1.7636 - accuracy: 0.3665 - val_loss: 1.6414 - val_accuracy: 0.4180\n",
      "Epoch 4/200\n",
      "1407/1407 [==============================] - 33s 24ms/step - loss: 1.7006 - accuracy: 0.3916 - val_loss: 1.5973 - val_accuracy: 0.4322\n",
      "Epoch 5/200\n",
      "1407/1407 [==============================] - 32s 23ms/step - loss: 1.6584 - accuracy: 0.4073 - val_loss: 1.5772 - val_accuracy: 0.4358\n",
      "Epoch 6/200\n",
      "1407/1407 [==============================] - 32s 23ms/step - loss: 1.6225 - accuracy: 0.4202 - val_loss: 1.5459 - val_accuracy: 0.4456\n",
      "Epoch 7/200\n",
      "1407/1407 [==============================] - 30s 22ms/step - loss: 1.5940 - accuracy: 0.4299 - val_loss: 1.5192 - val_accuracy: 0.4596\n",
      "Epoch 8/200\n",
      "1407/1407 [==============================] - 38s 27ms/step - loss: 1.5657 - accuracy: 0.4398 - val_loss: 1.4998 - val_accuracy: 0.4636\n",
      "Epoch 9/200\n",
      "1407/1407 [==============================] - 54s 38ms/step - loss: 1.5438 - accuracy: 0.4489 - val_loss: 1.4871 - val_accuracy: 0.4684\n",
      "Epoch 10/200\n",
      "1407/1407 [==============================] - 52s 37ms/step - loss: 1.5210 - accuracy: 0.4589 - val_loss: 1.4695 - val_accuracy: 0.4690\n",
      "Epoch 11/200\n",
      "1407/1407 [==============================] - 59s 42ms/step - loss: 1.5031 - accuracy: 0.4608 - val_loss: 1.4574 - val_accuracy: 0.4882\n",
      "Epoch 12/200\n",
      "1407/1407 [==============================] - 58s 41ms/step - loss: 1.4854 - accuracy: 0.4693 - val_loss: 1.4418 - val_accuracy: 0.4824\n",
      "Epoch 13/200\n",
      "1407/1407 [==============================] - 58s 41ms/step - loss: 1.4730 - accuracy: 0.4760 - val_loss: 1.4301 - val_accuracy: 0.4908\n",
      "Epoch 14/200\n",
      "1407/1407 [==============================] - 57s 41ms/step - loss: 1.4508 - accuracy: 0.4836 - val_loss: 1.4316 - val_accuracy: 0.4918\n",
      "Epoch 15/200\n",
      "1407/1407 [==============================] - 59s 42ms/step - loss: 1.4393 - accuracy: 0.4852 - val_loss: 1.4192 - val_accuracy: 0.4952\n",
      "Epoch 16/200\n",
      "1407/1407 [==============================] - 55s 39ms/step - loss: 1.4221 - accuracy: 0.4923 - val_loss: 1.4214 - val_accuracy: 0.4976\n",
      "Epoch 17/200\n",
      "1407/1407 [==============================] - 58s 42ms/step - loss: 1.4137 - accuracy: 0.4965 - val_loss: 1.4090 - val_accuracy: 0.5006\n",
      "Epoch 18/200\n",
      "1407/1407 [==============================] - 53s 38ms/step - loss: 1.3976 - accuracy: 0.5007 - val_loss: 1.4041 - val_accuracy: 0.5022\n",
      "Epoch 19/200\n",
      "1407/1407 [==============================] - 46s 33ms/step - loss: 1.3871 - accuracy: 0.5050 - val_loss: 1.4019 - val_accuracy: 0.4986\n",
      "Epoch 20/200\n",
      "1407/1407 [==============================] - 38s 27ms/step - loss: 1.3747 - accuracy: 0.5086 - val_loss: 1.3978 - val_accuracy: 0.5052\n",
      "Epoch 21/200\n",
      "1407/1407 [==============================] - 30s 21ms/step - loss: 1.3600 - accuracy: 0.5142 - val_loss: 1.3968 - val_accuracy: 0.5022\n",
      "Epoch 22/200\n",
      "1407/1407 [==============================] - 30s 22ms/step - loss: 1.3588 - accuracy: 0.5179 - val_loss: 1.3955 - val_accuracy: 0.5022\n",
      "Epoch 23/200\n",
      "1407/1407 [==============================] - 31s 22ms/step - loss: 1.3425 - accuracy: 0.5215 - val_loss: 1.3944 - val_accuracy: 0.5066\n",
      "Epoch 24/200\n",
      "1407/1407 [==============================] - 31s 22ms/step - loss: 1.3358 - accuracy: 0.5221 - val_loss: 1.3932 - val_accuracy: 0.5104\n",
      "Epoch 25/200\n",
      "1407/1407 [==============================] - 32s 23ms/step - loss: 1.3254 - accuracy: 0.5272 - val_loss: 1.3831 - val_accuracy: 0.5156\n",
      "Epoch 26/200\n",
      "1407/1407 [==============================] - 31s 22ms/step - loss: 1.3132 - accuracy: 0.5333 - val_loss: 1.3794 - val_accuracy: 0.5098\n",
      "Epoch 27/200\n",
      "1407/1407 [==============================] - 31s 22ms/step - loss: 1.3127 - accuracy: 0.5336 - val_loss: 1.3837 - val_accuracy: 0.5136\n",
      "Epoch 28/200\n",
      "1407/1407 [==============================] - 30s 22ms/step - loss: 1.3034 - accuracy: 0.5345 - val_loss: 1.3819 - val_accuracy: 0.5102\n",
      "Epoch 29/200\n",
      "1407/1407 [==============================] - 31s 22ms/step - loss: 1.2883 - accuracy: 0.5414 - val_loss: 1.3779 - val_accuracy: 0.5118\n",
      "Epoch 30/200\n",
      "1407/1407 [==============================] - 31s 22ms/step - loss: 1.2836 - accuracy: 0.5439 - val_loss: 1.3790 - val_accuracy: 0.5148\n",
      "Epoch 31/200\n",
      "1407/1407 [==============================] - 30s 21ms/step - loss: 1.2737 - accuracy: 0.5443 - val_loss: 1.3782 - val_accuracy: 0.5188\n",
      "Epoch 32/200\n",
      "1407/1407 [==============================] - 31s 22ms/step - loss: 1.2668 - accuracy: 0.5501 - val_loss: 1.3780 - val_accuracy: 0.5152\n",
      "Epoch 33/200\n",
      "1407/1407 [==============================] - 31s 22ms/step - loss: 1.2606 - accuracy: 0.5498 - val_loss: 1.3760 - val_accuracy: 0.5146\n",
      "Epoch 34/200\n",
      "1407/1407 [==============================] - 31s 22ms/step - loss: 1.2595 - accuracy: 0.5502 - val_loss: 1.3712 - val_accuracy: 0.5186\n",
      "Epoch 35/200\n",
      "1407/1407 [==============================] - 31s 22ms/step - loss: 1.2459 - accuracy: 0.5564 - val_loss: 1.3662 - val_accuracy: 0.5176\n",
      "Epoch 36/200\n",
      "1407/1407 [==============================] - 31s 22ms/step - loss: 1.2433 - accuracy: 0.5551 - val_loss: 1.3739 - val_accuracy: 0.5140\n",
      "Epoch 37/200\n",
      "1407/1407 [==============================] - 31s 22ms/step - loss: 1.2310 - accuracy: 0.5634 - val_loss: 1.3678 - val_accuracy: 0.5170\n",
      "Epoch 38/200\n",
      "1407/1407 [==============================] - 30s 22ms/step - loss: 1.2212 - accuracy: 0.5663 - val_loss: 1.3820 - val_accuracy: 0.5198\n",
      "Epoch 39/200\n",
      "1407/1407 [==============================] - 31s 22ms/step - loss: 1.2218 - accuracy: 0.5667 - val_loss: 1.3784 - val_accuracy: 0.5212\n",
      "Epoch 40/200\n",
      "1407/1407 [==============================] - 31s 22ms/step - loss: 1.2154 - accuracy: 0.5691 - val_loss: 1.3677 - val_accuracy: 0.5184\n",
      "Epoch 41/200\n",
      "1407/1407 [==============================] - 31s 22ms/step - loss: 1.2067 - accuracy: 0.5719 - val_loss: 1.3673 - val_accuracy: 0.5230\n",
      "Epoch 42/200\n",
      "1407/1407 [==============================] - 31s 22ms/step - loss: 1.2040 - accuracy: 0.5736 - val_loss: 1.3743 - val_accuracy: 0.5200\n",
      "Epoch 43/200\n",
      "1407/1407 [==============================] - 31s 22ms/step - loss: 1.1944 - accuracy: 0.5765 - val_loss: 1.3649 - val_accuracy: 0.5204\n",
      "Epoch 44/200\n",
      "1407/1407 [==============================] - 31s 22ms/step - loss: 1.1949 - accuracy: 0.5763 - val_loss: 1.3633 - val_accuracy: 0.5234\n",
      "Epoch 45/200\n",
      "1407/1407 [==============================] - 31s 22ms/step - loss: 1.1810 - accuracy: 0.5814 - val_loss: 1.3808 - val_accuracy: 0.5218\n",
      "Epoch 46/200\n",
      "1407/1407 [==============================] - 31s 22ms/step - loss: 1.1747 - accuracy: 0.5843 - val_loss: 1.3699 - val_accuracy: 0.5202\n",
      "Epoch 47/200\n",
      "1407/1407 [==============================] - 31s 22ms/step - loss: 1.1720 - accuracy: 0.5824 - val_loss: 1.3645 - val_accuracy: 0.5180\n",
      "Epoch 48/200\n",
      "1407/1407 [==============================] - 31s 22ms/step - loss: 1.1677 - accuracy: 0.5870 - val_loss: 1.3633 - val_accuracy: 0.5208\n",
      "Epoch 49/200\n",
      "1407/1407 [==============================] - 31s 22ms/step - loss: 1.1598 - accuracy: 0.5886 - val_loss: 1.3761 - val_accuracy: 0.5164\n",
      "Epoch 50/200\n",
      "1407/1407 [==============================] - 31s 22ms/step - loss: 1.1589 - accuracy: 0.5884 - val_loss: 1.3632 - val_accuracy: 0.5182\n",
      "Epoch 51/200\n",
      "1407/1407 [==============================] - 30s 22ms/step - loss: 1.1511 - accuracy: 0.5945 - val_loss: 1.3685 - val_accuracy: 0.5236\n",
      "Epoch 52/200\n",
      "1407/1407 [==============================] - 31s 22ms/step - loss: 1.1443 - accuracy: 0.5921 - val_loss: 1.3661 - val_accuracy: 0.5264\n",
      "Epoch 53/200\n",
      "1407/1407 [==============================] - 31s 22ms/step - loss: 1.1422 - accuracy: 0.5927 - val_loss: 1.3775 - val_accuracy: 0.5216\n",
      "Epoch 54/200\n",
      "1407/1407 [==============================] - 31s 22ms/step - loss: 1.1332 - accuracy: 0.5985 - val_loss: 1.3897 - val_accuracy: 0.5210\n",
      "Epoch 55/200\n",
      "1407/1407 [==============================] - 31s 22ms/step - loss: 1.1346 - accuracy: 0.5982 - val_loss: 1.3763 - val_accuracy: 0.5230\n",
      "Epoch 56/200\n",
      "1407/1407 [==============================] - 31s 22ms/step - loss: 1.1253 - accuracy: 0.5999 - val_loss: 1.3721 - val_accuracy: 0.5232\n",
      "Epoch 57/200\n",
      "1407/1407 [==============================] - 31s 22ms/step - loss: 1.1233 - accuracy: 0.5987 - val_loss: 1.3794 - val_accuracy: 0.5250\n",
      "Epoch 58/200\n",
      "1407/1407 [==============================] - 31s 22ms/step - loss: 1.1145 - accuracy: 0.6043 - val_loss: 1.3800 - val_accuracy: 0.5224\n",
      "Epoch 59/200\n",
      "1407/1407 [==============================] - 30s 22ms/step - loss: 1.1103 - accuracy: 0.6055 - val_loss: 1.3743 - val_accuracy: 0.5256\n",
      "Epoch 60/200\n",
      "1407/1407 [==============================] - 31s 22ms/step - loss: 1.1099 - accuracy: 0.6059 - val_loss: 1.3819 - val_accuracy: 0.5196\n",
      "Epoch 61/200\n",
      "1407/1407 [==============================] - 31s 22ms/step - loss: 1.1006 - accuracy: 0.6073 - val_loss: 1.3819 - val_accuracy: 0.5162\n",
      "Epoch 62/200\n",
      "1407/1407 [==============================] - 31s 22ms/step - loss: 1.0996 - accuracy: 0.6102 - val_loss: 1.3831 - val_accuracy: 0.5238\n",
      "Epoch 63/200\n",
      "1407/1407 [==============================] - 31s 22ms/step - loss: 1.0967 - accuracy: 0.6079 - val_loss: 1.3926 - val_accuracy: 0.5238\n",
      "Epoch 64/200\n",
      "1407/1407 [==============================] - 31s 22ms/step - loss: 1.0890 - accuracy: 0.6142 - val_loss: 1.3872 - val_accuracy: 0.5214\n",
      "Epoch 65/200\n",
      "1407/1407 [==============================] - 31s 22ms/step - loss: 1.0838 - accuracy: 0.6127 - val_loss: 1.3914 - val_accuracy: 0.5246\n",
      "157/157 [==============================] - 1s 4ms/step - loss: 1.3632 - accuracy: 0.5182\n",
      "learning Rate = 3e-05\n",
      "157/157 [==============================] - 1s 3ms/step - loss: 1.3543 - accuracy: 0.1040\n",
      "[1.3542672395706177, 0.10400000214576721]\n"
     ]
    },
    {
     "output_type": "error",
     "ename": "RuntimeError",
     "evalue": "You must compile your model before training/testing. Use `model.compile(optimizer, loss)`.",
     "traceback": [
      "\u001b[1;31m---------------------------------------------------------------------------\u001b[0m",
      "\u001b[1;31mRuntimeError\u001b[0m                              Traceback (most recent call last)",
      "\u001b[1;32m<ipython-input-27-f7844bbbe564>\u001b[0m in \u001b[0;36m<module>\u001b[1;34m\u001b[0m\n\u001b[0;32m     28\u001b[0m         \u001b[0mcur_best_model\u001b[0m \u001b[1;33m=\u001b[0m \u001b[0mkeras\u001b[0m\u001b[1;33m.\u001b[0m\u001b[0mmodels\u001b[0m\u001b[1;33m.\u001b[0m\u001b[0mclone_model\u001b[0m\u001b[1;33m(\u001b[0m\u001b[0mBN\u001b[0m\u001b[1;33m)\u001b[0m\u001b[1;33m\u001b[0m\u001b[1;33m\u001b[0m\u001b[0m\n\u001b[0;32m     29\u001b[0m     \u001b[1;32melse\u001b[0m\u001b[1;33m:\u001b[0m\u001b[1;33m\u001b[0m\u001b[1;33m\u001b[0m\u001b[0m\n\u001b[1;32m---> 30\u001b[1;33m         \u001b[0mbest_loss\u001b[0m\u001b[1;33m,\u001b[0m \u001b[0mbest_acc\u001b[0m \u001b[1;33m=\u001b[0m \u001b[0mcur_best_model\u001b[0m\u001b[1;33m.\u001b[0m\u001b[0mevaluate\u001b[0m\u001b[1;33m(\u001b[0m\u001b[0mxval\u001b[0m\u001b[1;33m,\u001b[0m \u001b[0myval\u001b[0m\u001b[1;33m)\u001b[0m\u001b[1;33m\u001b[0m\u001b[1;33m\u001b[0m\u001b[0m\n\u001b[0m\u001b[0;32m     31\u001b[0m         \u001b[1;32mif\u001b[0m \u001b[0mcur_acc\u001b[0m \u001b[1;33m>\u001b[0m \u001b[0mbest_acc\u001b[0m\u001b[1;33m:\u001b[0m\u001b[1;33m\u001b[0m\u001b[1;33m\u001b[0m\u001b[0m\n\u001b[0;32m     32\u001b[0m             \u001b[0mcur_best_model\u001b[0m \u001b[1;33m=\u001b[0m \u001b[0mkeras\u001b[0m\u001b[1;33m.\u001b[0m\u001b[0mmodels\u001b[0m\u001b[1;33m.\u001b[0m\u001b[0mclone_model\u001b[0m\u001b[1;33m(\u001b[0m\u001b[0mBN\u001b[0m\u001b[1;33m)\u001b[0m\u001b[1;33m\u001b[0m\u001b[1;33m\u001b[0m\u001b[0m\n",
      "\u001b[1;32m~\\AppData\\Local\\Programs\\Python\\Python38\\lib\\site-packages\\tensorflow\\python\\keras\\engine\\training.py\u001b[0m in \u001b[0;36m_method_wrapper\u001b[1;34m(self, *args, **kwargs)\u001b[0m\n\u001b[0;32m    106\u001b[0m   \u001b[1;32mdef\u001b[0m \u001b[0m_method_wrapper\u001b[0m\u001b[1;33m(\u001b[0m\u001b[0mself\u001b[0m\u001b[1;33m,\u001b[0m \u001b[1;33m*\u001b[0m\u001b[0margs\u001b[0m\u001b[1;33m,\u001b[0m \u001b[1;33m**\u001b[0m\u001b[0mkwargs\u001b[0m\u001b[1;33m)\u001b[0m\u001b[1;33m:\u001b[0m\u001b[1;33m\u001b[0m\u001b[1;33m\u001b[0m\u001b[0m\n\u001b[0;32m    107\u001b[0m     \u001b[1;32mif\u001b[0m \u001b[1;32mnot\u001b[0m \u001b[0mself\u001b[0m\u001b[1;33m.\u001b[0m\u001b[0m_in_multi_worker_mode\u001b[0m\u001b[1;33m(\u001b[0m\u001b[1;33m)\u001b[0m\u001b[1;33m:\u001b[0m  \u001b[1;31m# pylint: disable=protected-access\u001b[0m\u001b[1;33m\u001b[0m\u001b[1;33m\u001b[0m\u001b[0m\n\u001b[1;32m--> 108\u001b[1;33m       \u001b[1;32mreturn\u001b[0m \u001b[0mmethod\u001b[0m\u001b[1;33m(\u001b[0m\u001b[0mself\u001b[0m\u001b[1;33m,\u001b[0m \u001b[1;33m*\u001b[0m\u001b[0margs\u001b[0m\u001b[1;33m,\u001b[0m \u001b[1;33m**\u001b[0m\u001b[0mkwargs\u001b[0m\u001b[1;33m)\u001b[0m\u001b[1;33m\u001b[0m\u001b[1;33m\u001b[0m\u001b[0m\n\u001b[0m\u001b[0;32m    109\u001b[0m \u001b[1;33m\u001b[0m\u001b[0m\n\u001b[0;32m    110\u001b[0m     \u001b[1;31m# Running inside `run_distribute_coordinator` already.\u001b[0m\u001b[1;33m\u001b[0m\u001b[1;33m\u001b[0m\u001b[1;33m\u001b[0m\u001b[0m\n",
      "\u001b[1;32m~\\AppData\\Local\\Programs\\Python\\Python38\\lib\\site-packages\\tensorflow\\python\\keras\\engine\\training.py\u001b[0m in \u001b[0;36mevaluate\u001b[1;34m(self, x, y, batch_size, verbose, sample_weight, steps, callbacks, max_queue_size, workers, use_multiprocessing, return_dict)\u001b[0m\n\u001b[0;32m   1333\u001b[0m     \u001b[0m_keras_api_gauge\u001b[0m\u001b[1;33m.\u001b[0m\u001b[0mget_cell\u001b[0m\u001b[1;33m(\u001b[0m\u001b[1;34m'evaluate'\u001b[0m\u001b[1;33m)\u001b[0m\u001b[1;33m.\u001b[0m\u001b[0mset\u001b[0m\u001b[1;33m(\u001b[0m\u001b[1;32mTrue\u001b[0m\u001b[1;33m)\u001b[0m\u001b[1;33m\u001b[0m\u001b[1;33m\u001b[0m\u001b[0m\n\u001b[0;32m   1334\u001b[0m     \u001b[0mversion_utils\u001b[0m\u001b[1;33m.\u001b[0m\u001b[0mdisallow_legacy_graph\u001b[0m\u001b[1;33m(\u001b[0m\u001b[1;34m'Model'\u001b[0m\u001b[1;33m,\u001b[0m \u001b[1;34m'evaluate'\u001b[0m\u001b[1;33m)\u001b[0m\u001b[1;33m\u001b[0m\u001b[1;33m\u001b[0m\u001b[0m\n\u001b[1;32m-> 1335\u001b[1;33m     \u001b[0mself\u001b[0m\u001b[1;33m.\u001b[0m\u001b[0m_assert_compile_was_called\u001b[0m\u001b[1;33m(\u001b[0m\u001b[1;33m)\u001b[0m\u001b[1;33m\u001b[0m\u001b[1;33m\u001b[0m\u001b[0m\n\u001b[0m\u001b[0;32m   1336\u001b[0m     \u001b[0mself\u001b[0m\u001b[1;33m.\u001b[0m\u001b[0m_check_call_args\u001b[0m\u001b[1;33m(\u001b[0m\u001b[1;34m'evaluate'\u001b[0m\u001b[1;33m)\u001b[0m\u001b[1;33m\u001b[0m\u001b[1;33m\u001b[0m\u001b[0m\n\u001b[0;32m   1337\u001b[0m     \u001b[0m_disallow_inside_tf_function\u001b[0m\u001b[1;33m(\u001b[0m\u001b[1;34m'evaluate'\u001b[0m\u001b[1;33m)\u001b[0m\u001b[1;33m\u001b[0m\u001b[1;33m\u001b[0m\u001b[0m\n",
      "\u001b[1;32m~\\AppData\\Local\\Programs\\Python\\Python38\\lib\\site-packages\\tensorflow\\python\\keras\\engine\\training.py\u001b[0m in \u001b[0;36m_assert_compile_was_called\u001b[1;34m(self)\u001b[0m\n\u001b[0;32m   2567\u001b[0m     \u001b[1;31m# (i.e. whether the model is built and its inputs/outputs are set).\u001b[0m\u001b[1;33m\u001b[0m\u001b[1;33m\u001b[0m\u001b[1;33m\u001b[0m\u001b[0m\n\u001b[0;32m   2568\u001b[0m     \u001b[1;32mif\u001b[0m \u001b[1;32mnot\u001b[0m \u001b[0mself\u001b[0m\u001b[1;33m.\u001b[0m\u001b[0m_is_compiled\u001b[0m\u001b[1;33m:\u001b[0m\u001b[1;33m\u001b[0m\u001b[1;33m\u001b[0m\u001b[0m\n\u001b[1;32m-> 2569\u001b[1;33m       raise RuntimeError('You must compile your model before '\n\u001b[0m\u001b[0;32m   2570\u001b[0m                          \u001b[1;34m'training/testing. '\u001b[0m\u001b[1;33m\u001b[0m\u001b[1;33m\u001b[0m\u001b[0m\n\u001b[0;32m   2571\u001b[0m                          'Use `model.compile(optimizer, loss)`.')\n",
      "\u001b[1;31mRuntimeError\u001b[0m: You must compile your model before training/testing. Use `model.compile(optimizer, loss)`."
     ]
    }
   ],
   "source": [
    "for idx, lrate in enumerate(learning_rates):\n",
    "    BN = keras.models.Sequential()\n",
    "    BN.add(keras.layers.Flatten(input_shape=[32,32,3]))\n",
    "    BN.add(keras.layers.BatchNormalization())\n",
    "    for _ in range(20):\n",
    "        BN.add(keras.layers.Dense(100, kernel_initializer=\"he_normal\"))\n",
    "        BN.add(keras.layers.BatchNormalization())\n",
    "        BN.add(keras.layers.Activation(\"elu\"))\n",
    "    BN.add(keras.layers.Dense(10, activation=\"softmax\"))\n",
    "\n",
    "    opt = keras.optimizers.Nadam(lr=lrate)\n",
    "    BN.compile(loss=\"sparse_categorical_crossentropy\", optimizer=opt, metrics=[\"accuracy\"])\n",
    "\n",
    "    early_stopping_callback = keras.callbacks.EarlyStopping(patience=15)\n",
    "    logdir = os.path.join(os.curdir, \"cifar10_logs\", \"lr_runs_bn_{:03d}\".format(idx))\n",
    "    tensorboard_callbacks = keras.callbacks.TensorBoard(logdir)\n",
    "    best_bn_callback = keras.callbacks.ModelCheckpoint(\"BN_cifar10{}\".format(lrate), save_best_only=True, save_weights_only=True)  \n",
    "    bn_callbacks = [early_stopping_callback, best_bn_callback, tensorboard_callbacks]\n",
    "\n",
    "    BN.fit(xtrain, ytrain, epochs=200, validation_data=(xval, yval), callbacks=bn_callbacks)\n",
    "    BN.load_weights(\"BN_cifar10{}\".format(lrate))\n",
    "\n",
    "    cur_loss, cur_acc = BN.evaluate(xval, yval)\n",
    "    print(\"learning Rate = {}\".format(lrate))\n",
    "    print(best_BN.evaluate(xval, yval))\n",
    "    if idx == 0:\n",
    "        BN.save(\"Best_BN_Model\")\n",
    "    else:\n",
    "        cur_best_model = keras.models.load_model(\"Best_BN_Model\")\n",
    "        best_loss, best_acc = cur_best_model.evaluate(xval, yval)\n",
    "        if cur_acc > best_acc:\n",
    "            BN.save(\"Best_BN_Model\")"
   ]
  },
  {
   "source": [
    "Try replacing Batch Normalization with SELU, and make the necessary adjustements to ensure the network self-normalizes (i.e., standardize the input features, use LeCun normal initialization, make sure the DNN contains only a sequence of dense layers, etc.)."
   ],
   "cell_type": "markdown",
   "metadata": {}
  },
  {
   "cell_type": "code",
   "execution_count": 31,
   "metadata": {},
   "outputs": [
    {
     "output_type": "stream",
     "name": "stdout",
     "text": [
      "Epoch 1/100\n",
      "   2/1407 [..............................] - ETA: 47:49 - loss: 3.0144 - accuracy: 0.1094WARNING:tensorflow:Callbacks method `on_train_batch_end` is slow compared to the batch time (batch time: 0.0100s vs `on_train_batch_end` time: 4.0750s). Check your callbacks.\n",
      "1407/1407 [==============================] - 15s 11ms/step - loss: 1.9216 - accuracy: 0.3112 - val_loss: 1.8650 - val_accuracy: 0.3342\n",
      "Epoch 2/100\n",
      "1407/1407 [==============================] - 11s 8ms/step - loss: 1.7046 - accuracy: 0.3954 - val_loss: 1.6848 - val_accuracy: 0.3994\n",
      "Epoch 3/100\n",
      "1407/1407 [==============================] - 11s 8ms/step - loss: 1.6047 - accuracy: 0.4352 - val_loss: 1.6472 - val_accuracy: 0.4146\n",
      "Epoch 4/100\n",
      "1407/1407 [==============================] - 11s 8ms/step - loss: 1.5402 - accuracy: 0.4593 - val_loss: 1.5652 - val_accuracy: 0.4416\n",
      "Epoch 5/100\n",
      "1407/1407 [==============================] - 11s 8ms/step - loss: 1.4841 - accuracy: 0.4802 - val_loss: 1.5770 - val_accuracy: 0.4542\n",
      "Epoch 6/100\n",
      "1407/1407 [==============================] - 11s 8ms/step - loss: 1.4358 - accuracy: 0.5011 - val_loss: 1.5328 - val_accuracy: 0.4584\n",
      "Epoch 7/100\n",
      "1407/1407 [==============================] - 11s 8ms/step - loss: 1.3963 - accuracy: 0.5136 - val_loss: 1.5742 - val_accuracy: 0.4586\n",
      "Epoch 8/100\n",
      "1407/1407 [==============================] - 11s 8ms/step - loss: 1.3640 - accuracy: 0.5260 - val_loss: 1.4909 - val_accuracy: 0.4862\n",
      "Epoch 9/100\n",
      "1407/1407 [==============================] - 11s 8ms/step - loss: 1.3236 - accuracy: 0.5402 - val_loss: 1.4882 - val_accuracy: 0.4876\n",
      "Epoch 10/100\n",
      "1407/1407 [==============================] - 12s 8ms/step - loss: 1.2924 - accuracy: 0.5507 - val_loss: 1.5520 - val_accuracy: 0.4942\n",
      "Epoch 11/100\n",
      "1407/1407 [==============================] - 11s 8ms/step - loss: 1.2640 - accuracy: 0.5632 - val_loss: 1.4956 - val_accuracy: 0.4858\n",
      "Epoch 12/100\n",
      "1407/1407 [==============================] - 11s 8ms/step - loss: 1.2371 - accuracy: 0.5740 - val_loss: 1.5198 - val_accuracy: 0.4938\n",
      "Epoch 13/100\n",
      "1407/1407 [==============================] - 11s 8ms/step - loss: 1.2062 - accuracy: 0.5862 - val_loss: 1.5797 - val_accuracy: 0.4914\n",
      "Epoch 14/100\n",
      "1407/1407 [==============================] - 12s 8ms/step - loss: 1.1924 - accuracy: 0.5887 - val_loss: 1.4789 - val_accuracy: 0.5014\n",
      "Epoch 15/100\n",
      "1407/1407 [==============================] - 11s 8ms/step - loss: 1.1600 - accuracy: 0.6020 - val_loss: 1.5126 - val_accuracy: 0.5010\n",
      "Epoch 16/100\n",
      "1407/1407 [==============================] - 11s 8ms/step - loss: 1.1452 - accuracy: 0.6089 - val_loss: 1.5156 - val_accuracy: 0.5050\n",
      "Epoch 17/100\n",
      "1407/1407 [==============================] - 11s 8ms/step - loss: 1.1144 - accuracy: 0.6200 - val_loss: 1.5254 - val_accuracy: 0.5078\n",
      "Epoch 18/100\n",
      "1407/1407 [==============================] - 11s 8ms/step - loss: 1.1101 - accuracy: 0.6209 - val_loss: 1.5148 - val_accuracy: 0.5254\n",
      "Epoch 19/100\n",
      "1407/1407 [==============================] - 12s 8ms/step - loss: 1.0874 - accuracy: 0.6285 - val_loss: 1.5057 - val_accuracy: 0.5044\n",
      "Epoch 20/100\n",
      "1407/1407 [==============================] - 13s 9ms/step - loss: 1.0681 - accuracy: 0.6356 - val_loss: 1.5199 - val_accuracy: 0.5060\n",
      "Epoch 21/100\n",
      "1407/1407 [==============================] - 17s 12ms/step - loss: 1.0544 - accuracy: 0.6416 - val_loss: 1.5516 - val_accuracy: 0.5106\n",
      "Epoch 22/100\n",
      "1407/1407 [==============================] - 28s 20ms/step - loss: 1.0294 - accuracy: 0.6510 - val_loss: 1.5720 - val_accuracy: 0.5128\n",
      "Epoch 23/100\n",
      "1407/1407 [==============================] - 68s 49ms/step - loss: 1.0031 - accuracy: 0.6618 - val_loss: 1.6488 - val_accuracy: 0.5066\n",
      "Epoch 24/100\n",
      "1407/1407 [==============================] - 40s 29ms/step - loss: 0.9984 - accuracy: 0.6629 - val_loss: 1.5360 - val_accuracy: 0.5100\n",
      "Epoch 25/100\n",
      "1407/1407 [==============================] - 40s 28ms/step - loss: 0.9843 - accuracy: 0.6693 - val_loss: 1.5490 - val_accuracy: 0.5132\n",
      "Epoch 26/100\n",
      "1407/1407 [==============================] - 39s 28ms/step - loss: 0.9670 - accuracy: 0.6749 - val_loss: 1.6147 - val_accuracy: 0.5050\n",
      "Epoch 27/100\n",
      "1407/1407 [==============================] - 40s 29ms/step - loss: 0.9532 - accuracy: 0.6792 - val_loss: 1.6000 - val_accuracy: 0.5144\n",
      "Epoch 28/100\n",
      "1407/1407 [==============================] - 40s 28ms/step - loss: 0.9461 - accuracy: 0.6818 - val_loss: 1.6726 - val_accuracy: 0.4992\n",
      "Epoch 29/100\n",
      "1407/1407 [==============================] - 39s 28ms/step - loss: 0.9280 - accuracy: 0.6867 - val_loss: 1.6265 - val_accuracy: 0.5110\n",
      "Epoch 30/100\n",
      "1407/1407 [==============================] - 40s 28ms/step - loss: 17.1586 - accuracy: 0.6305 - val_loss: 1.5940 - val_accuracy: 0.5028\n",
      "Epoch 31/100\n",
      "1407/1407 [==============================] - 42s 29ms/step - loss: 0.9661 - accuracy: 0.6708 - val_loss: 1.5727 - val_accuracy: 0.5056\n",
      "Epoch 32/100\n",
      "1407/1407 [==============================] - 41s 29ms/step - loss: 0.9293 - accuracy: 0.6850 - val_loss: 1.6143 - val_accuracy: 0.5112\n",
      "Epoch 33/100\n",
      "1407/1407 [==============================] - 41s 29ms/step - loss: 0.9098 - accuracy: 0.6899 - val_loss: 1.6054 - val_accuracy: 0.5130\n",
      "Epoch 34/100\n",
      "1407/1407 [==============================] - 41s 29ms/step - loss: 0.8818 - accuracy: 0.7028 - val_loss: 1.7118 - val_accuracy: 0.5134\n",
      "INFO:tensorflow:Assets written to: my_cifar10_selu_model\\assets\n",
      "157/157 [==============================] - 1s 9ms/step - loss: 1.4789 - accuracy: 0.5014\n"
     ]
    },
    {
     "output_type": "execute_result",
     "data": {
      "text/plain": [
       "[1.47893226146698, 0.5013999938964844]"
      ]
     },
     "metadata": {},
     "execution_count": 31
    }
   ],
   "source": [
    "keras.backend.clear_session()\n",
    "model = keras.models.Sequential()\n",
    "model.add(keras.layers.Flatten(input_shape=[32, 32, 3]))\n",
    "for _ in range(20):\n",
    "    model.add(keras.layers.Dense(100, kernel_initializer=\"lecun_normal\", activation=\"selu\"))\n",
    "model.add(keras.layers.Dense(10, activation=\"softmax\"))\n",
    "\n",
    "optimizer = keras.optimizers.Nadam(lr=7e-4)\n",
    "model.compile(loss=\"sparse_categorical_crossentropy\", optimizer=optimizer, metrics=[\"accuracy\"])\n",
    "\n",
    "early_stopping_cb = keras.callbacks.EarlyStopping(patience=20)\n",
    "model_checkpoint_cb = keras.callbacks.ModelCheckpoint(\"my_cifar10_selu\", save_best_only=True, save_weights_only=True)\n",
    "run_index = 1 # increment every time you train the model\n",
    "run_logdir = os.path.join(os.curdir, \"my_cifar10_logs\", \"run_selu_{:03d}\".format(run_index))\n",
    "tensorboard_cb = keras.callbacks.TensorBoard(run_logdir)\n",
    "callbacks = [early_stopping_cb, model_checkpoint_cb, tensorboard_cb]\n",
    "\n",
    "X_means = xtrain.mean(axis=0)\n",
    "X_stds = xtrain.std(axis=0)\n",
    "X_train_scaled = (xtrain - X_means) / X_stds\n",
    "X_valid_scaled = (xval - X_means) / X_stds\n",
    "X_test_scaled = (xtest - X_means) / X_stds\n",
    "\n",
    "model.fit(X_train_scaled, ytrain, epochs=100, validation_data=(X_valid_scaled, yval), callbacks=callbacks)\n",
    "\n",
    "model.load_weights(\"my_cifar10_selu\")\n",
    "model.save(\"my_cifar10_selu_model\")\n",
    "model.evaluate(X_valid_scaled, yval)"
   ]
  },
  {
   "source": [
    "Try regularizing the model with alpha dropout. Then, without retraining your model, see if you can achieve better accuracy using MC Dropout."
   ],
   "cell_type": "markdown",
   "metadata": {}
  },
  {
   "cell_type": "code",
   "execution_count": 34,
   "metadata": {},
   "outputs": [
    {
     "output_type": "stream",
     "name": "stdout",
     "text": [
      "Epoch 1/100\n",
      "   2/1407 [..............................] - ETA: 33:04 - loss: 2.9547 - accuracy: 0.0781WARNING:tensorflow:Callbacks method `on_train_batch_end` is slow compared to the batch time (batch time: 0.0110s vs `on_train_batch_end` time: 2.8131s). Check your callbacks.\n",
      "1407/1407 [==============================] - 14s 10ms/step - loss: 1.8967 - accuracy: 0.3262 - val_loss: 1.7230 - val_accuracy: 0.3956\n",
      "Epoch 2/100\n",
      "1407/1407 [==============================] - 11s 8ms/step - loss: 1.6589 - accuracy: 0.4116 - val_loss: 1.6811 - val_accuracy: 0.4170\n",
      "Epoch 3/100\n",
      "1407/1407 [==============================] - 12s 8ms/step - loss: 1.5698 - accuracy: 0.4474 - val_loss: 1.5783 - val_accuracy: 0.4504\n",
      "Epoch 4/100\n",
      "1407/1407 [==============================] - 11s 8ms/step - loss: 1.4981 - accuracy: 0.4717 - val_loss: 1.6470 - val_accuracy: 0.4444\n",
      "Epoch 5/100\n",
      "1407/1407 [==============================] - 12s 9ms/step - loss: 1.4470 - accuracy: 0.4922 - val_loss: 1.5287 - val_accuracy: 0.4756\n",
      "Epoch 6/100\n",
      "1407/1407 [==============================] - 11s 8ms/step - loss: 1.4002 - accuracy: 0.5089 - val_loss: 1.5374 - val_accuracy: 0.4766\n",
      "Epoch 7/100\n",
      "1407/1407 [==============================] - 12s 8ms/step - loss: 1.3544 - accuracy: 0.5261 - val_loss: 1.6166 - val_accuracy: 0.4804\n",
      "Epoch 8/100\n",
      "1407/1407 [==============================] - 12s 8ms/step - loss: 1.3125 - accuracy: 0.5409 - val_loss: 1.5838 - val_accuracy: 0.4862\n",
      "Epoch 9/100\n",
      "1407/1407 [==============================] - 12s 9ms/step - loss: 1.2799 - accuracy: 0.5567 - val_loss: 1.5239 - val_accuracy: 0.4922\n",
      "Epoch 10/100\n",
      "1407/1407 [==============================] - 12s 9ms/step - loss: 1.2415 - accuracy: 0.5650 - val_loss: 1.5489 - val_accuracy: 0.4980\n",
      "Epoch 11/100\n",
      "1407/1407 [==============================] - 12s 9ms/step - loss: 1.2170 - accuracy: 0.5797 - val_loss: 1.5761 - val_accuracy: 0.4850\n",
      "Epoch 12/100\n",
      "1407/1407 [==============================] - 12s 8ms/step - loss: 1.1835 - accuracy: 0.5899 - val_loss: 1.5475 - val_accuracy: 0.5020\n",
      "Epoch 13/100\n",
      "1407/1407 [==============================] - 12s 8ms/step - loss: 1.1597 - accuracy: 0.5988 - val_loss: 1.5930 - val_accuracy: 0.4996\n",
      "Epoch 14/100\n",
      "1407/1407 [==============================] - 12s 9ms/step - loss: 1.1389 - accuracy: 0.6070 - val_loss: 1.5627 - val_accuracy: 0.4976\n",
      "Epoch 15/100\n",
      "1407/1407 [==============================] - 12s 8ms/step - loss: 1.1298 - accuracy: 0.6084 - val_loss: 1.6665 - val_accuracy: 0.4920\n",
      "Epoch 16/100\n",
      "1407/1407 [==============================] - 12s 9ms/step - loss: 1.0926 - accuracy: 0.6231 - val_loss: 1.6789 - val_accuracy: 0.4992\n",
      "Epoch 17/100\n",
      "1407/1407 [==============================] - 11s 8ms/step - loss: 1.0631 - accuracy: 0.6318 - val_loss: 1.6435 - val_accuracy: 0.5076\n",
      "Epoch 18/100\n",
      "1407/1407 [==============================] - 12s 9ms/step - loss: 1.0411 - accuracy: 0.6409 - val_loss: 1.7228 - val_accuracy: 0.5068\n",
      "Epoch 19/100\n",
      "1407/1407 [==============================] - 12s 8ms/step - loss: 1.0179 - accuracy: 0.6503 - val_loss: 1.6897 - val_accuracy: 0.5046\n",
      "Epoch 20/100\n",
      "1407/1407 [==============================] - 12s 9ms/step - loss: 1.0048 - accuracy: 0.6553 - val_loss: 1.7570 - val_accuracy: 0.5030\n",
      "Epoch 21/100\n",
      "1407/1407 [==============================] - 11s 8ms/step - loss: 0.9835 - accuracy: 0.6615 - val_loss: 1.8282 - val_accuracy: 0.4930\n",
      "Epoch 22/100\n",
      "1407/1407 [==============================] - 12s 8ms/step - loss: 0.9633 - accuracy: 0.6710 - val_loss: 1.6463 - val_accuracy: 0.5008\n",
      "Epoch 23/100\n",
      "1407/1407 [==============================] - 12s 8ms/step - loss: 0.9481 - accuracy: 0.6755 - val_loss: 1.7274 - val_accuracy: 0.5050\n",
      "Epoch 24/100\n",
      "1407/1407 [==============================] - 12s 8ms/step - loss: 0.9263 - accuracy: 0.6826 - val_loss: 1.7028 - val_accuracy: 0.5058\n",
      "Epoch 25/100\n",
      "1407/1407 [==============================] - 13s 9ms/step - loss: 0.9023 - accuracy: 0.6946 - val_loss: 1.7870 - val_accuracy: 0.5084\n",
      "Epoch 26/100\n",
      "1407/1407 [==============================] - 12s 8ms/step - loss: 0.8851 - accuracy: 0.6973 - val_loss: 1.8430 - val_accuracy: 0.5050\n",
      "Epoch 27/100\n",
      "1407/1407 [==============================] - 12s 9ms/step - loss: 0.8726 - accuracy: 0.7027 - val_loss: 1.8449 - val_accuracy: 0.5030\n",
      "Epoch 28/100\n",
      "1407/1407 [==============================] - 12s 9ms/step - loss: 0.8523 - accuracy: 0.7088 - val_loss: 1.9498 - val_accuracy: 0.4942\n",
      "Epoch 29/100\n",
      "1407/1407 [==============================] - 13s 9ms/step - loss: 0.8419 - accuracy: 0.7133 - val_loss: 1.8758 - val_accuracy: 0.5116\n",
      "INFO:tensorflow:Assets written to: my_cifar10_alpha_dropout_model\\assets\n",
      "157/157 [==============================] - 0s 2ms/step - loss: 1.5239 - accuracy: 0.4922\n"
     ]
    },
    {
     "output_type": "execute_result",
     "data": {
      "text/plain": [
       "[1.5239230394363403, 0.49219998717308044]"
      ]
     },
     "metadata": {},
     "execution_count": 34
    }
   ],
   "source": [
    "keras.backend.clear_session()\n",
    "model = keras.models.Sequential()\n",
    "model.add(keras.layers.Flatten(input_shape=[32, 32, 3]))\n",
    "for _ in range(20):\n",
    "    model.add(keras.layers.Dense(100, kernel_initializer=\"lecun_normal\", activation=\"selu\"))\n",
    "model.add(keras.layers.AlphaDropout(rate=0.1))\n",
    "model.add(keras.layers.Dense(10, activation=\"softmax\"))\n",
    "\n",
    "optimizer = keras.optimizers.Nadam(lr=5e-4)\n",
    "model.compile(loss=\"sparse_categorical_crossentropy\", optimizer=optimizer, metrics=[\"accuracy\"])\n",
    "\n",
    "early_stopping_cb = keras.callbacks.EarlyStopping(patience=20)\n",
    "model_checkpoint_cb = keras.callbacks.ModelCheckpoint(\"my_cifar10_alpha_dropout\", save_best_only=True, save_weights_only=True)\n",
    "run_index = 1 # increment every time you train the model\n",
    "run_logdir = os.path.join(os.curdir, \"my_cifar10_logs\", \"run_alpha_dropout_{:03d}\".format(run_index))\n",
    "tensorboard_cb = keras.callbacks.TensorBoard(run_logdir)\n",
    "callbacks = [early_stopping_cb, model_checkpoint_cb, tensorboard_cb]\n",
    "\n",
    "X_means = xtrain.mean(axis=0)\n",
    "X_stds = xtrain.std(axis=0)\n",
    "X_train_scaled = (xtrain - X_means) / X_stds\n",
    "X_valid_scaled = (xval - X_means) / X_stds\n",
    "X_test_scaled = (xtest - X_means) / X_stds\n",
    "\n",
    "model.fit(X_train_scaled, ytrain, epochs=100, validation_data=(X_valid_scaled, yval), callbacks=callbacks)\n",
    "\n",
    "model.load_weights(\"my_cifar10_alpha_dropout\")\n",
    "model.save(\"my_cifar10_alpha_dropout_model\")\n",
    "model.evaluate(X_valid_scaled, yval)"
   ]
  },
  {
   "cell_type": "code",
   "execution_count": 35,
   "metadata": {},
   "outputs": [],
   "source": [
    "class MCAlphaDropout(keras.layers.AlphaDropout):\n",
    "    def call(self, inputs):\n",
    "        return super().call(inputs, training=True)"
   ]
  },
  {
   "cell_type": "code",
   "execution_count": 36,
   "metadata": {},
   "outputs": [],
   "source": [
    "mc_model = keras.models.Sequential([\n",
    "    MCAlphaDropout(layer.rate) if isinstance(layer, keras.layers.AlphaDropout) else layer\n",
    "    for layer in model.layers\n",
    "])"
   ]
  },
  {
   "cell_type": "code",
   "execution_count": 37,
   "metadata": {},
   "outputs": [],
   "source": [
    "def mc_dropout_predict_probas(mc_model, X, n_samples=10):\n",
    "    Y_probas = [mc_model.predict(X) for sample in range(n_samples)]\n",
    "    return np.mean(Y_probas, axis=0)\n",
    "\n",
    "def mc_dropout_predict_classes(mc_model, X, n_samples=10):\n",
    "    Y_probas = mc_dropout_predict_probas(mc_model, X, n_samples)\n",
    "    return np.argmax(Y_probas, axis=1)"
   ]
  },
  {
   "cell_type": "code",
   "execution_count": 38,
   "metadata": {},
   "outputs": [
    {
     "output_type": "execute_result",
     "data": {
      "text/plain": [
       "0.491"
      ]
     },
     "metadata": {},
     "execution_count": 38
    }
   ],
   "source": [
    "keras.backend.clear_session()\n",
    "\n",
    "y_pred = mc_dropout_predict_classes(mc_model, X_valid_scaled)\n",
    "accuracy = np.mean(y_pred == yval[:, 0])\n",
    "accuracy"
   ]
  },
  {
   "source": [
    "# 1Cycle Scheduling LR\n",
    "Retrain your model using 1cycle scheduling and see if it improves training speed and model accuracy."
   ],
   "cell_type": "markdown",
   "metadata": {}
  },
  {
   "cell_type": "code",
   "execution_count": 39,
   "metadata": {},
   "outputs": [],
   "source": [
    "keras.backend.clear_session()\n",
    "\n",
    "model = keras.models.Sequential()\n",
    "model.add(keras.layers.Flatten(input_shape=[32, 32, 3]))\n",
    "for _ in range(20):\n",
    "    model.add(keras.layers.Dense(100, kernel_initializer=\"lecun_normal\", activation=\"selu\"))\n",
    "model.add(keras.layers.AlphaDropout(rate=0.1))\n",
    "model.add(keras.layers.Dense(10, activation=\"softmax\"))\n",
    "\n",
    "optimizer = keras.optimizers.SGD(lr=1e-3)\n",
    "model.compile(loss=\"sparse_categorical_crossentropy\", optimizer=optimizer, metrics=[\"accuracy\"])"
   ]
  },
  {
   "cell_type": "code",
   "execution_count": 11,
   "metadata": {},
   "outputs": [],
   "source": [
    "K = keras.backend\n",
    "\n",
    "class ExponentialLearningRate(keras.callbacks.Callback):\n",
    "    def __init__(self, factor):\n",
    "        self.factor = factor\n",
    "        self.rates = []\n",
    "        self.losses = []\n",
    "    def on_batch_end(self, batch, logs):\n",
    "        self.rates.append(K.get_value(self.model.optimizer.lr))\n",
    "        self.losses.append(logs[\"loss\"])\n",
    "        K.set_value(self.model.optimizer.lr, self.model.optimizer.lr * self.factor)\n",
    "\n",
    "def find_learning_rate(model, X, y, epochs=1, batch_size=32, min_rate=10**-5, max_rate=10):\n",
    "    init_weights = model.get_weights()\n",
    "    iterations = len(X) // batch_size * epochs\n",
    "    factor = np.exp(np.log(max_rate / min_rate) / iterations)\n",
    "    init_lr = K.get_value(model.optimizer.lr)\n",
    "    K.set_value(model.optimizer.lr, min_rate)\n",
    "    exp_lr = ExponentialLearningRate(factor)\n",
    "    history = model.fit(X, y, epochs=epochs, batch_size=batch_size,\n",
    "                        callbacks=[exp_lr])\n",
    "    K.set_value(model.optimizer.lr, init_lr)\n",
    "    model.set_weights(init_weights)\n",
    "    return exp_lr.rates, exp_lr.losses\n",
    "\n",
    "def plot_lr_vs_loss(rates, losses):\n",
    "    plt.plot(rates, losses)\n",
    "    plt.gca().set_xscale('log')\n",
    "    plt.hlines(min(losses), min(rates), max(rates))\n",
    "    plt.axis([min(rates), max(rates), min(losses), (losses[0] + min(losses)) / 2])\n",
    "    plt.xlabel(\"Learning rate\")\n",
    "    plt.ylabel(\"Loss\")"
   ]
  },
  {
   "cell_type": "code",
   "execution_count": 12,
   "metadata": {},
   "outputs": [
    {
     "output_type": "stream",
     "name": "stdout",
     "text": [
      "352/352 [==============================] - 2s 6ms/step - loss: nan - accuracy: 0.1396\n"
     ]
    },
    {
     "output_type": "execute_result",
     "data": {
      "text/plain": [
       "[1e-05, 9.999868, 2.567208766937256, 3.7718941484178816]"
      ]
     },
     "metadata": {},
     "execution_count": 12
    },
    {
     "output_type": "display_data",
     "data": {
      "text/plain": "<Figure size 432x288 with 1 Axes>",
      "image/svg+xml": "<?xml version=\"1.0\" encoding=\"utf-8\" standalone=\"no\"?>\r\n<!DOCTYPE svg PUBLIC \"-//W3C//DTD SVG 1.1//EN\"\r\n  \"http://www.w3.org/Graphics/SVG/1.1/DTD/svg11.dtd\">\r\n<!-- Created with matplotlib (https://matplotlib.org/) -->\r\n<svg height=\"262.19625pt\" version=\"1.1\" viewBox=\"0 0 385.78125 262.19625\" width=\"385.78125pt\" xmlns=\"http://www.w3.org/2000/svg\" xmlns:xlink=\"http://www.w3.org/1999/xlink\">\r\n <defs>\r\n  <style type=\"text/css\">\r\n*{stroke-linecap:butt;stroke-linejoin:round;}\r\n  </style>\r\n </defs>\r\n <g id=\"figure_1\">\r\n  <g id=\"patch_1\">\r\n   <path d=\"M 0 262.19625 \r\nL 385.78125 262.19625 \r\nL 385.78125 0 \r\nL 0 0 \r\nz\r\n\" style=\"fill:none;\"/>\r\n  </g>\r\n  <g id=\"axes_1\">\r\n   <g id=\"patch_2\">\r\n    <path d=\"M 43.78125 224.64 \r\nL 378.58125 224.64 \r\nL 378.58125 7.2 \r\nL 43.78125 7.2 \r\nz\r\n\" style=\"fill:#ffffff;\"/>\r\n   </g>\r\n   <g id=\"matplotlib.axis_1\">\r\n    <g id=\"xtick_1\">\r\n     <g id=\"line2d_1\">\r\n      <defs>\r\n       <path d=\"M 0 0 \r\nL 0 3.5 \r\n\" id=\"m55552f027c\" style=\"stroke:#000000;stroke-width:0.8;\"/>\r\n      </defs>\r\n      <g>\r\n       <use style=\"stroke:#000000;stroke-width:0.8;\" x=\"43.781251\" xlink:href=\"#m55552f027c\" y=\"224.64\"/>\r\n      </g>\r\n     </g>\r\n     <g id=\"text_1\">\r\n      <!-- $\\mathdefault{10^{-5}}$ -->\r\n      <defs>\r\n       <path d=\"M 12.40625 8.296875 \r\nL 28.515625 8.296875 \r\nL 28.515625 63.921875 \r\nL 10.984375 60.40625 \r\nL 10.984375 69.390625 \r\nL 28.421875 72.90625 \r\nL 38.28125 72.90625 \r\nL 38.28125 8.296875 \r\nL 54.390625 8.296875 \r\nL 54.390625 0 \r\nL 12.40625 0 \r\nz\r\n\" id=\"DejaVuSans-49\"/>\r\n       <path d=\"M 31.78125 66.40625 \r\nQ 24.171875 66.40625 20.328125 58.90625 \r\nQ 16.5 51.421875 16.5 36.375 \r\nQ 16.5 21.390625 20.328125 13.890625 \r\nQ 24.171875 6.390625 31.78125 6.390625 \r\nQ 39.453125 6.390625 43.28125 13.890625 \r\nQ 47.125 21.390625 47.125 36.375 \r\nQ 47.125 51.421875 43.28125 58.90625 \r\nQ 39.453125 66.40625 31.78125 66.40625 \r\nz\r\nM 31.78125 74.21875 \r\nQ 44.046875 74.21875 50.515625 64.515625 \r\nQ 56.984375 54.828125 56.984375 36.375 \r\nQ 56.984375 17.96875 50.515625 8.265625 \r\nQ 44.046875 -1.421875 31.78125 -1.421875 \r\nQ 19.53125 -1.421875 13.0625 8.265625 \r\nQ 6.59375 17.96875 6.59375 36.375 \r\nQ 6.59375 54.828125 13.0625 64.515625 \r\nQ 19.53125 74.21875 31.78125 74.21875 \r\nz\r\n\" id=\"DejaVuSans-48\"/>\r\n       <path d=\"M 10.59375 35.5 \r\nL 73.1875 35.5 \r\nL 73.1875 27.203125 \r\nL 10.59375 27.203125 \r\nz\r\n\" id=\"DejaVuSans-8722\"/>\r\n       <path d=\"M 10.796875 72.90625 \r\nL 49.515625 72.90625 \r\nL 49.515625 64.59375 \r\nL 19.828125 64.59375 \r\nL 19.828125 46.734375 \r\nQ 21.96875 47.46875 24.109375 47.828125 \r\nQ 26.265625 48.1875 28.421875 48.1875 \r\nQ 40.625 48.1875 47.75 41.5 \r\nQ 54.890625 34.8125 54.890625 23.390625 \r\nQ 54.890625 11.625 47.5625 5.09375 \r\nQ 40.234375 -1.421875 26.90625 -1.421875 \r\nQ 22.3125 -1.421875 17.546875 -0.640625 \r\nQ 12.796875 0.140625 7.71875 1.703125 \r\nL 7.71875 11.625 \r\nQ 12.109375 9.234375 16.796875 8.0625 \r\nQ 21.484375 6.890625 26.703125 6.890625 \r\nQ 35.15625 6.890625 40.078125 11.328125 \r\nQ 45.015625 15.765625 45.015625 23.390625 \r\nQ 45.015625 31 40.078125 35.4375 \r\nQ 35.15625 39.890625 26.703125 39.890625 \r\nQ 22.75 39.890625 18.8125 39.015625 \r\nQ 14.890625 38.140625 10.796875 36.28125 \r\nz\r\n\" id=\"DejaVuSans-53\"/>\r\n      </defs>\r\n      <g transform=\"translate(32.031251 239.238437)scale(0.1 -0.1)\">\r\n       <use transform=\"translate(0 0.684375)\" xlink:href=\"#DejaVuSans-49\"/>\r\n       <use transform=\"translate(63.623047 0.684375)\" xlink:href=\"#DejaVuSans-48\"/>\r\n       <use transform=\"translate(128.203125 38.965625)scale(0.7)\" xlink:href=\"#DejaVuSans-8722\"/>\r\n       <use transform=\"translate(186.855469 38.965625)scale(0.7)\" xlink:href=\"#DejaVuSans-53\"/>\r\n      </g>\r\n     </g>\r\n    </g>\r\n    <g id=\"xtick_2\">\r\n     <g id=\"line2d_2\">\r\n      <g>\r\n       <use style=\"stroke:#000000;stroke-width:0.8;\" x=\"99.581304\" xlink:href=\"#m55552f027c\" y=\"224.64\"/>\r\n      </g>\r\n     </g>\r\n     <g id=\"text_2\">\r\n      <!-- $\\mathdefault{10^{-4}}$ -->\r\n      <defs>\r\n       <path d=\"M 37.796875 64.3125 \r\nL 12.890625 25.390625 \r\nL 37.796875 25.390625 \r\nz\r\nM 35.203125 72.90625 \r\nL 47.609375 72.90625 \r\nL 47.609375 25.390625 \r\nL 58.015625 25.390625 \r\nL 58.015625 17.1875 \r\nL 47.609375 17.1875 \r\nL 47.609375 0 \r\nL 37.796875 0 \r\nL 37.796875 17.1875 \r\nL 4.890625 17.1875 \r\nL 4.890625 26.703125 \r\nz\r\n\" id=\"DejaVuSans-52\"/>\r\n      </defs>\r\n      <g transform=\"translate(87.831304 239.238437)scale(0.1 -0.1)\">\r\n       <use transform=\"translate(0 0.684375)\" xlink:href=\"#DejaVuSans-49\"/>\r\n       <use transform=\"translate(63.623047 0.684375)\" xlink:href=\"#DejaVuSans-48\"/>\r\n       <use transform=\"translate(128.203125 38.965625)scale(0.7)\" xlink:href=\"#DejaVuSans-8722\"/>\r\n       <use transform=\"translate(186.855469 38.965625)scale(0.7)\" xlink:href=\"#DejaVuSans-52\"/>\r\n      </g>\r\n     </g>\r\n    </g>\r\n    <g id=\"xtick_3\">\r\n     <g id=\"line2d_3\">\r\n      <g>\r\n       <use style=\"stroke:#000000;stroke-width:0.8;\" x=\"155.381357\" xlink:href=\"#m55552f027c\" y=\"224.64\"/>\r\n      </g>\r\n     </g>\r\n     <g id=\"text_3\">\r\n      <!-- $\\mathdefault{10^{-3}}$ -->\r\n      <defs>\r\n       <path d=\"M 40.578125 39.3125 \r\nQ 47.65625 37.796875 51.625 33 \r\nQ 55.609375 28.21875 55.609375 21.1875 \r\nQ 55.609375 10.40625 48.1875 4.484375 \r\nQ 40.765625 -1.421875 27.09375 -1.421875 \r\nQ 22.515625 -1.421875 17.65625 -0.515625 \r\nQ 12.796875 0.390625 7.625 2.203125 \r\nL 7.625 11.71875 \r\nQ 11.71875 9.328125 16.59375 8.109375 \r\nQ 21.484375 6.890625 26.8125 6.890625 \r\nQ 36.078125 6.890625 40.9375 10.546875 \r\nQ 45.796875 14.203125 45.796875 21.1875 \r\nQ 45.796875 27.640625 41.28125 31.265625 \r\nQ 36.765625 34.90625 28.71875 34.90625 \r\nL 20.21875 34.90625 \r\nL 20.21875 43.015625 \r\nL 29.109375 43.015625 \r\nQ 36.375 43.015625 40.234375 45.921875 \r\nQ 44.09375 48.828125 44.09375 54.296875 \r\nQ 44.09375 59.90625 40.109375 62.90625 \r\nQ 36.140625 65.921875 28.71875 65.921875 \r\nQ 24.65625 65.921875 20.015625 65.03125 \r\nQ 15.375 64.15625 9.8125 62.3125 \r\nL 9.8125 71.09375 \r\nQ 15.4375 72.65625 20.34375 73.4375 \r\nQ 25.25 74.21875 29.59375 74.21875 \r\nQ 40.828125 74.21875 47.359375 69.109375 \r\nQ 53.90625 64.015625 53.90625 55.328125 \r\nQ 53.90625 49.265625 50.4375 45.09375 \r\nQ 46.96875 40.921875 40.578125 39.3125 \r\nz\r\n\" id=\"DejaVuSans-51\"/>\r\n      </defs>\r\n      <g transform=\"translate(143.631357 239.238437)scale(0.1 -0.1)\">\r\n       <use transform=\"translate(0 0.765625)\" xlink:href=\"#DejaVuSans-49\"/>\r\n       <use transform=\"translate(63.623047 0.765625)\" xlink:href=\"#DejaVuSans-48\"/>\r\n       <use transform=\"translate(128.203125 39.046875)scale(0.7)\" xlink:href=\"#DejaVuSans-8722\"/>\r\n       <use transform=\"translate(186.855469 39.046875)scale(0.7)\" xlink:href=\"#DejaVuSans-51\"/>\r\n      </g>\r\n     </g>\r\n    </g>\r\n    <g id=\"xtick_4\">\r\n     <g id=\"line2d_4\">\r\n      <g>\r\n       <use style=\"stroke:#000000;stroke-width:0.8;\" x=\"211.18141\" xlink:href=\"#m55552f027c\" y=\"224.64\"/>\r\n      </g>\r\n     </g>\r\n     <g id=\"text_4\">\r\n      <!-- $\\mathdefault{10^{-2}}$ -->\r\n      <defs>\r\n       <path d=\"M 19.1875 8.296875 \r\nL 53.609375 8.296875 \r\nL 53.609375 0 \r\nL 7.328125 0 \r\nL 7.328125 8.296875 \r\nQ 12.9375 14.109375 22.625 23.890625 \r\nQ 32.328125 33.6875 34.8125 36.53125 \r\nQ 39.546875 41.84375 41.421875 45.53125 \r\nQ 43.3125 49.21875 43.3125 52.78125 \r\nQ 43.3125 58.59375 39.234375 62.25 \r\nQ 35.15625 65.921875 28.609375 65.921875 \r\nQ 23.96875 65.921875 18.8125 64.3125 \r\nQ 13.671875 62.703125 7.8125 59.421875 \r\nL 7.8125 69.390625 \r\nQ 13.765625 71.78125 18.9375 73 \r\nQ 24.125 74.21875 28.421875 74.21875 \r\nQ 39.75 74.21875 46.484375 68.546875 \r\nQ 53.21875 62.890625 53.21875 53.421875 \r\nQ 53.21875 48.921875 51.53125 44.890625 \r\nQ 49.859375 40.875 45.40625 35.40625 \r\nQ 44.1875 33.984375 37.640625 27.21875 \r\nQ 31.109375 20.453125 19.1875 8.296875 \r\nz\r\n\" id=\"DejaVuSans-50\"/>\r\n      </defs>\r\n      <g transform=\"translate(199.43141 239.238437)scale(0.1 -0.1)\">\r\n       <use transform=\"translate(0 0.765625)\" xlink:href=\"#DejaVuSans-49\"/>\r\n       <use transform=\"translate(63.623047 0.765625)\" xlink:href=\"#DejaVuSans-48\"/>\r\n       <use transform=\"translate(128.203125 39.046875)scale(0.7)\" xlink:href=\"#DejaVuSans-8722\"/>\r\n       <use transform=\"translate(186.855469 39.046875)scale(0.7)\" xlink:href=\"#DejaVuSans-50\"/>\r\n      </g>\r\n     </g>\r\n    </g>\r\n    <g id=\"xtick_5\">\r\n     <g id=\"line2d_5\">\r\n      <g>\r\n       <use style=\"stroke:#000000;stroke-width:0.8;\" x=\"266.981463\" xlink:href=\"#m55552f027c\" y=\"224.64\"/>\r\n      </g>\r\n     </g>\r\n     <g id=\"text_5\">\r\n      <!-- $\\mathdefault{10^{-1}}$ -->\r\n      <g transform=\"translate(255.231463 239.238437)scale(0.1 -0.1)\">\r\n       <use transform=\"translate(0 0.684375)\" xlink:href=\"#DejaVuSans-49\"/>\r\n       <use transform=\"translate(63.623047 0.684375)\" xlink:href=\"#DejaVuSans-48\"/>\r\n       <use transform=\"translate(128.203125 38.965625)scale(0.7)\" xlink:href=\"#DejaVuSans-8722\"/>\r\n       <use transform=\"translate(186.855469 38.965625)scale(0.7)\" xlink:href=\"#DejaVuSans-49\"/>\r\n      </g>\r\n     </g>\r\n    </g>\r\n    <g id=\"xtick_6\">\r\n     <g id=\"line2d_6\">\r\n      <g>\r\n       <use style=\"stroke:#000000;stroke-width:0.8;\" x=\"322.781516\" xlink:href=\"#m55552f027c\" y=\"224.64\"/>\r\n      </g>\r\n     </g>\r\n     <g id=\"text_6\">\r\n      <!-- $\\mathdefault{10^{0}}$ -->\r\n      <g transform=\"translate(313.981516 239.238437)scale(0.1 -0.1)\">\r\n       <use transform=\"translate(0 0.765625)\" xlink:href=\"#DejaVuSans-49\"/>\r\n       <use transform=\"translate(63.623047 0.765625)\" xlink:href=\"#DejaVuSans-48\"/>\r\n       <use transform=\"translate(128.203125 39.046875)scale(0.7)\" xlink:href=\"#DejaVuSans-48\"/>\r\n      </g>\r\n     </g>\r\n    </g>\r\n    <g id=\"xtick_7\">\r\n     <g id=\"line2d_7\">\r\n      <defs>\r\n       <path d=\"M 0 0 \r\nL 0 2 \r\n\" id=\"m3e8de299b8\" style=\"stroke:#000000;stroke-width:0.6;\"/>\r\n      </defs>\r\n      <g>\r\n       <use style=\"stroke:#000000;stroke-width:0.6;\" x=\"60.57874\" xlink:href=\"#m3e8de299b8\" y=\"224.64\"/>\r\n      </g>\r\n     </g>\r\n    </g>\r\n    <g id=\"xtick_8\">\r\n     <g id=\"line2d_8\">\r\n      <g>\r\n       <use style=\"stroke:#000000;stroke-width:0.6;\" x=\"70.404642\" xlink:href=\"#m3e8de299b8\" y=\"224.64\"/>\r\n      </g>\r\n     </g>\r\n    </g>\r\n    <g id=\"xtick_9\">\r\n     <g id=\"line2d_9\">\r\n      <g>\r\n       <use style=\"stroke:#000000;stroke-width:0.6;\" x=\"77.37623\" xlink:href=\"#m3e8de299b8\" y=\"224.64\"/>\r\n      </g>\r\n     </g>\r\n    </g>\r\n    <g id=\"xtick_10\">\r\n     <g id=\"line2d_10\">\r\n      <g>\r\n       <use style=\"stroke:#000000;stroke-width:0.6;\" x=\"82.783814\" xlink:href=\"#m3e8de299b8\" y=\"224.64\"/>\r\n      </g>\r\n     </g>\r\n    </g>\r\n    <g id=\"xtick_11\">\r\n     <g id=\"line2d_11\">\r\n      <g>\r\n       <use style=\"stroke:#000000;stroke-width:0.6;\" x=\"87.202132\" xlink:href=\"#m3e8de299b8\" y=\"224.64\"/>\r\n      </g>\r\n     </g>\r\n    </g>\r\n    <g id=\"xtick_12\">\r\n     <g id=\"line2d_12\">\r\n      <g>\r\n       <use style=\"stroke:#000000;stroke-width:0.6;\" x=\"90.937766\" xlink:href=\"#m3e8de299b8\" y=\"224.64\"/>\r\n      </g>\r\n     </g>\r\n    </g>\r\n    <g id=\"xtick_13\">\r\n     <g id=\"line2d_13\">\r\n      <g>\r\n       <use style=\"stroke:#000000;stroke-width:0.6;\" x=\"94.17372\" xlink:href=\"#m3e8de299b8\" y=\"224.64\"/>\r\n      </g>\r\n     </g>\r\n    </g>\r\n    <g id=\"xtick_14\">\r\n     <g id=\"line2d_14\">\r\n      <g>\r\n       <use style=\"stroke:#000000;stroke-width:0.6;\" x=\"97.028033\" xlink:href=\"#m3e8de299b8\" y=\"224.64\"/>\r\n      </g>\r\n     </g>\r\n    </g>\r\n    <g id=\"xtick_15\">\r\n     <g id=\"line2d_15\">\r\n      <g>\r\n       <use style=\"stroke:#000000;stroke-width:0.6;\" x=\"116.378793\" xlink:href=\"#m3e8de299b8\" y=\"224.64\"/>\r\n      </g>\r\n     </g>\r\n    </g>\r\n    <g id=\"xtick_16\">\r\n     <g id=\"line2d_16\">\r\n      <g>\r\n       <use style=\"stroke:#000000;stroke-width:0.6;\" x=\"126.204695\" xlink:href=\"#m3e8de299b8\" y=\"224.64\"/>\r\n      </g>\r\n     </g>\r\n    </g>\r\n    <g id=\"xtick_17\">\r\n     <g id=\"line2d_17\">\r\n      <g>\r\n       <use style=\"stroke:#000000;stroke-width:0.6;\" x=\"133.176283\" xlink:href=\"#m3e8de299b8\" y=\"224.64\"/>\r\n      </g>\r\n     </g>\r\n    </g>\r\n    <g id=\"xtick_18\">\r\n     <g id=\"line2d_18\">\r\n      <g>\r\n       <use style=\"stroke:#000000;stroke-width:0.6;\" x=\"138.583867\" xlink:href=\"#m3e8de299b8\" y=\"224.64\"/>\r\n      </g>\r\n     </g>\r\n    </g>\r\n    <g id=\"xtick_19\">\r\n     <g id=\"line2d_19\">\r\n      <g>\r\n       <use style=\"stroke:#000000;stroke-width:0.6;\" x=\"143.002185\" xlink:href=\"#m3e8de299b8\" y=\"224.64\"/>\r\n      </g>\r\n     </g>\r\n    </g>\r\n    <g id=\"xtick_20\">\r\n     <g id=\"line2d_20\">\r\n      <g>\r\n       <use style=\"stroke:#000000;stroke-width:0.6;\" x=\"146.737819\" xlink:href=\"#m3e8de299b8\" y=\"224.64\"/>\r\n      </g>\r\n     </g>\r\n    </g>\r\n    <g id=\"xtick_21\">\r\n     <g id=\"line2d_21\">\r\n      <g>\r\n       <use style=\"stroke:#000000;stroke-width:0.6;\" x=\"149.973773\" xlink:href=\"#m3e8de299b8\" y=\"224.64\"/>\r\n      </g>\r\n     </g>\r\n    </g>\r\n    <g id=\"xtick_22\">\r\n     <g id=\"line2d_22\">\r\n      <g>\r\n       <use style=\"stroke:#000000;stroke-width:0.6;\" x=\"152.828086\" xlink:href=\"#m3e8de299b8\" y=\"224.64\"/>\r\n      </g>\r\n     </g>\r\n    </g>\r\n    <g id=\"xtick_23\">\r\n     <g id=\"line2d_23\">\r\n      <g>\r\n       <use style=\"stroke:#000000;stroke-width:0.6;\" x=\"172.178846\" xlink:href=\"#m3e8de299b8\" y=\"224.64\"/>\r\n      </g>\r\n     </g>\r\n    </g>\r\n    <g id=\"xtick_24\">\r\n     <g id=\"line2d_24\">\r\n      <g>\r\n       <use style=\"stroke:#000000;stroke-width:0.6;\" x=\"182.004748\" xlink:href=\"#m3e8de299b8\" y=\"224.64\"/>\r\n      </g>\r\n     </g>\r\n    </g>\r\n    <g id=\"xtick_25\">\r\n     <g id=\"line2d_25\">\r\n      <g>\r\n       <use style=\"stroke:#000000;stroke-width:0.6;\" x=\"188.976336\" xlink:href=\"#m3e8de299b8\" y=\"224.64\"/>\r\n      </g>\r\n     </g>\r\n    </g>\r\n    <g id=\"xtick_26\">\r\n     <g id=\"line2d_26\">\r\n      <g>\r\n       <use style=\"stroke:#000000;stroke-width:0.6;\" x=\"194.38392\" xlink:href=\"#m3e8de299b8\" y=\"224.64\"/>\r\n      </g>\r\n     </g>\r\n    </g>\r\n    <g id=\"xtick_27\">\r\n     <g id=\"line2d_27\">\r\n      <g>\r\n       <use style=\"stroke:#000000;stroke-width:0.6;\" x=\"198.802238\" xlink:href=\"#m3e8de299b8\" y=\"224.64\"/>\r\n      </g>\r\n     </g>\r\n    </g>\r\n    <g id=\"xtick_28\">\r\n     <g id=\"line2d_28\">\r\n      <g>\r\n       <use style=\"stroke:#000000;stroke-width:0.6;\" x=\"202.537872\" xlink:href=\"#m3e8de299b8\" y=\"224.64\"/>\r\n      </g>\r\n     </g>\r\n    </g>\r\n    <g id=\"xtick_29\">\r\n     <g id=\"line2d_29\">\r\n      <g>\r\n       <use style=\"stroke:#000000;stroke-width:0.6;\" x=\"205.773826\" xlink:href=\"#m3e8de299b8\" y=\"224.64\"/>\r\n      </g>\r\n     </g>\r\n    </g>\r\n    <g id=\"xtick_30\">\r\n     <g id=\"line2d_30\">\r\n      <g>\r\n       <use style=\"stroke:#000000;stroke-width:0.6;\" x=\"208.628139\" xlink:href=\"#m3e8de299b8\" y=\"224.64\"/>\r\n      </g>\r\n     </g>\r\n    </g>\r\n    <g id=\"xtick_31\">\r\n     <g id=\"line2d_31\">\r\n      <g>\r\n       <use style=\"stroke:#000000;stroke-width:0.6;\" x=\"227.9789\" xlink:href=\"#m3e8de299b8\" y=\"224.64\"/>\r\n      </g>\r\n     </g>\r\n    </g>\r\n    <g id=\"xtick_32\">\r\n     <g id=\"line2d_32\">\r\n      <g>\r\n       <use style=\"stroke:#000000;stroke-width:0.6;\" x=\"237.804801\" xlink:href=\"#m3e8de299b8\" y=\"224.64\"/>\r\n      </g>\r\n     </g>\r\n    </g>\r\n    <g id=\"xtick_33\">\r\n     <g id=\"line2d_33\">\r\n      <g>\r\n       <use style=\"stroke:#000000;stroke-width:0.6;\" x=\"244.776389\" xlink:href=\"#m3e8de299b8\" y=\"224.64\"/>\r\n      </g>\r\n     </g>\r\n    </g>\r\n    <g id=\"xtick_34\">\r\n     <g id=\"line2d_34\">\r\n      <g>\r\n       <use style=\"stroke:#000000;stroke-width:0.6;\" x=\"250.183973\" xlink:href=\"#m3e8de299b8\" y=\"224.64\"/>\r\n      </g>\r\n     </g>\r\n    </g>\r\n    <g id=\"xtick_35\">\r\n     <g id=\"line2d_35\">\r\n      <g>\r\n       <use style=\"stroke:#000000;stroke-width:0.6;\" x=\"254.602291\" xlink:href=\"#m3e8de299b8\" y=\"224.64\"/>\r\n      </g>\r\n     </g>\r\n    </g>\r\n    <g id=\"xtick_36\">\r\n     <g id=\"line2d_36\">\r\n      <g>\r\n       <use style=\"stroke:#000000;stroke-width:0.6;\" x=\"258.337925\" xlink:href=\"#m3e8de299b8\" y=\"224.64\"/>\r\n      </g>\r\n     </g>\r\n    </g>\r\n    <g id=\"xtick_37\">\r\n     <g id=\"line2d_37\">\r\n      <g>\r\n       <use style=\"stroke:#000000;stroke-width:0.6;\" x=\"261.573879\" xlink:href=\"#m3e8de299b8\" y=\"224.64\"/>\r\n      </g>\r\n     </g>\r\n    </g>\r\n    <g id=\"xtick_38\">\r\n     <g id=\"line2d_38\">\r\n      <g>\r\n       <use style=\"stroke:#000000;stroke-width:0.6;\" x=\"264.428192\" xlink:href=\"#m3e8de299b8\" y=\"224.64\"/>\r\n      </g>\r\n     </g>\r\n    </g>\r\n    <g id=\"xtick_39\">\r\n     <g id=\"line2d_39\">\r\n      <g>\r\n       <use style=\"stroke:#000000;stroke-width:0.6;\" x=\"283.778953\" xlink:href=\"#m3e8de299b8\" y=\"224.64\"/>\r\n      </g>\r\n     </g>\r\n    </g>\r\n    <g id=\"xtick_40\">\r\n     <g id=\"line2d_40\">\r\n      <g>\r\n       <use style=\"stroke:#000000;stroke-width:0.6;\" x=\"293.604854\" xlink:href=\"#m3e8de299b8\" y=\"224.64\"/>\r\n      </g>\r\n     </g>\r\n    </g>\r\n    <g id=\"xtick_41\">\r\n     <g id=\"line2d_41\">\r\n      <g>\r\n       <use style=\"stroke:#000000;stroke-width:0.6;\" x=\"300.576442\" xlink:href=\"#m3e8de299b8\" y=\"224.64\"/>\r\n      </g>\r\n     </g>\r\n    </g>\r\n    <g id=\"xtick_42\">\r\n     <g id=\"line2d_42\">\r\n      <g>\r\n       <use style=\"stroke:#000000;stroke-width:0.6;\" x=\"305.984026\" xlink:href=\"#m3e8de299b8\" y=\"224.64\"/>\r\n      </g>\r\n     </g>\r\n    </g>\r\n    <g id=\"xtick_43\">\r\n     <g id=\"line2d_43\">\r\n      <g>\r\n       <use style=\"stroke:#000000;stroke-width:0.6;\" x=\"310.402344\" xlink:href=\"#m3e8de299b8\" y=\"224.64\"/>\r\n      </g>\r\n     </g>\r\n    </g>\r\n    <g id=\"xtick_44\">\r\n     <g id=\"line2d_44\">\r\n      <g>\r\n       <use style=\"stroke:#000000;stroke-width:0.6;\" x=\"314.137978\" xlink:href=\"#m3e8de299b8\" y=\"224.64\"/>\r\n      </g>\r\n     </g>\r\n    </g>\r\n    <g id=\"xtick_45\">\r\n     <g id=\"line2d_45\">\r\n      <g>\r\n       <use style=\"stroke:#000000;stroke-width:0.6;\" x=\"317.373932\" xlink:href=\"#m3e8de299b8\" y=\"224.64\"/>\r\n      </g>\r\n     </g>\r\n    </g>\r\n    <g id=\"xtick_46\">\r\n     <g id=\"line2d_46\">\r\n      <g>\r\n       <use style=\"stroke:#000000;stroke-width:0.6;\" x=\"320.228245\" xlink:href=\"#m3e8de299b8\" y=\"224.64\"/>\r\n      </g>\r\n     </g>\r\n    </g>\r\n    <g id=\"xtick_47\">\r\n     <g id=\"line2d_47\">\r\n      <g>\r\n       <use style=\"stroke:#000000;stroke-width:0.6;\" x=\"339.579006\" xlink:href=\"#m3e8de299b8\" y=\"224.64\"/>\r\n      </g>\r\n     </g>\r\n    </g>\r\n    <g id=\"xtick_48\">\r\n     <g id=\"line2d_48\">\r\n      <g>\r\n       <use style=\"stroke:#000000;stroke-width:0.6;\" x=\"349.404907\" xlink:href=\"#m3e8de299b8\" y=\"224.64\"/>\r\n      </g>\r\n     </g>\r\n    </g>\r\n    <g id=\"xtick_49\">\r\n     <g id=\"line2d_49\">\r\n      <g>\r\n       <use style=\"stroke:#000000;stroke-width:0.6;\" x=\"356.376495\" xlink:href=\"#m3e8de299b8\" y=\"224.64\"/>\r\n      </g>\r\n     </g>\r\n    </g>\r\n    <g id=\"xtick_50\">\r\n     <g id=\"line2d_50\">\r\n      <g>\r\n       <use style=\"stroke:#000000;stroke-width:0.6;\" x=\"361.784079\" xlink:href=\"#m3e8de299b8\" y=\"224.64\"/>\r\n      </g>\r\n     </g>\r\n    </g>\r\n    <g id=\"xtick_51\">\r\n     <g id=\"line2d_51\">\r\n      <g>\r\n       <use style=\"stroke:#000000;stroke-width:0.6;\" x=\"366.202397\" xlink:href=\"#m3e8de299b8\" y=\"224.64\"/>\r\n      </g>\r\n     </g>\r\n    </g>\r\n    <g id=\"xtick_52\">\r\n     <g id=\"line2d_52\">\r\n      <g>\r\n       <use style=\"stroke:#000000;stroke-width:0.6;\" x=\"369.938031\" xlink:href=\"#m3e8de299b8\" y=\"224.64\"/>\r\n      </g>\r\n     </g>\r\n    </g>\r\n    <g id=\"xtick_53\">\r\n     <g id=\"line2d_53\">\r\n      <g>\r\n       <use style=\"stroke:#000000;stroke-width:0.6;\" x=\"373.173985\" xlink:href=\"#m3e8de299b8\" y=\"224.64\"/>\r\n      </g>\r\n     </g>\r\n    </g>\r\n    <g id=\"xtick_54\">\r\n     <g id=\"line2d_54\">\r\n      <g>\r\n       <use style=\"stroke:#000000;stroke-width:0.6;\" x=\"376.028299\" xlink:href=\"#m3e8de299b8\" y=\"224.64\"/>\r\n      </g>\r\n     </g>\r\n    </g>\r\n    <g id=\"text_7\">\r\n     <!-- Learning rate -->\r\n     <defs>\r\n      <path d=\"M 9.8125 72.90625 \r\nL 19.671875 72.90625 \r\nL 19.671875 8.296875 \r\nL 55.171875 8.296875 \r\nL 55.171875 0 \r\nL 9.8125 0 \r\nz\r\n\" id=\"DejaVuSans-76\"/>\r\n      <path d=\"M 56.203125 29.59375 \r\nL 56.203125 25.203125 \r\nL 14.890625 25.203125 \r\nQ 15.484375 15.921875 20.484375 11.0625 \r\nQ 25.484375 6.203125 34.421875 6.203125 \r\nQ 39.59375 6.203125 44.453125 7.46875 \r\nQ 49.3125 8.734375 54.109375 11.28125 \r\nL 54.109375 2.78125 \r\nQ 49.265625 0.734375 44.1875 -0.34375 \r\nQ 39.109375 -1.421875 33.890625 -1.421875 \r\nQ 20.796875 -1.421875 13.15625 6.1875 \r\nQ 5.515625 13.8125 5.515625 26.8125 \r\nQ 5.515625 40.234375 12.765625 48.109375 \r\nQ 20.015625 56 32.328125 56 \r\nQ 43.359375 56 49.78125 48.890625 \r\nQ 56.203125 41.796875 56.203125 29.59375 \r\nz\r\nM 47.21875 32.234375 \r\nQ 47.125 39.59375 43.09375 43.984375 \r\nQ 39.0625 48.390625 32.421875 48.390625 \r\nQ 24.90625 48.390625 20.390625 44.140625 \r\nQ 15.875 39.890625 15.1875 32.171875 \r\nz\r\n\" id=\"DejaVuSans-101\"/>\r\n      <path d=\"M 34.28125 27.484375 \r\nQ 23.390625 27.484375 19.1875 25 \r\nQ 14.984375 22.515625 14.984375 16.5 \r\nQ 14.984375 11.71875 18.140625 8.90625 \r\nQ 21.296875 6.109375 26.703125 6.109375 \r\nQ 34.1875 6.109375 38.703125 11.40625 \r\nQ 43.21875 16.703125 43.21875 25.484375 \r\nL 43.21875 27.484375 \r\nz\r\nM 52.203125 31.203125 \r\nL 52.203125 0 \r\nL 43.21875 0 \r\nL 43.21875 8.296875 \r\nQ 40.140625 3.328125 35.546875 0.953125 \r\nQ 30.953125 -1.421875 24.3125 -1.421875 \r\nQ 15.921875 -1.421875 10.953125 3.296875 \r\nQ 6 8.015625 6 15.921875 \r\nQ 6 25.140625 12.171875 29.828125 \r\nQ 18.359375 34.515625 30.609375 34.515625 \r\nL 43.21875 34.515625 \r\nL 43.21875 35.40625 \r\nQ 43.21875 41.609375 39.140625 45 \r\nQ 35.0625 48.390625 27.6875 48.390625 \r\nQ 23 48.390625 18.546875 47.265625 \r\nQ 14.109375 46.140625 10.015625 43.890625 \r\nL 10.015625 52.203125 \r\nQ 14.9375 54.109375 19.578125 55.046875 \r\nQ 24.21875 56 28.609375 56 \r\nQ 40.484375 56 46.34375 49.84375 \r\nQ 52.203125 43.703125 52.203125 31.203125 \r\nz\r\n\" id=\"DejaVuSans-97\"/>\r\n      <path d=\"M 41.109375 46.296875 \r\nQ 39.59375 47.171875 37.8125 47.578125 \r\nQ 36.03125 48 33.890625 48 \r\nQ 26.265625 48 22.1875 43.046875 \r\nQ 18.109375 38.09375 18.109375 28.8125 \r\nL 18.109375 0 \r\nL 9.078125 0 \r\nL 9.078125 54.6875 \r\nL 18.109375 54.6875 \r\nL 18.109375 46.1875 \r\nQ 20.953125 51.171875 25.484375 53.578125 \r\nQ 30.03125 56 36.53125 56 \r\nQ 37.453125 56 38.578125 55.875 \r\nQ 39.703125 55.765625 41.0625 55.515625 \r\nz\r\n\" id=\"DejaVuSans-114\"/>\r\n      <path d=\"M 54.890625 33.015625 \r\nL 54.890625 0 \r\nL 45.90625 0 \r\nL 45.90625 32.71875 \r\nQ 45.90625 40.484375 42.875 44.328125 \r\nQ 39.84375 48.1875 33.796875 48.1875 \r\nQ 26.515625 48.1875 22.3125 43.546875 \r\nQ 18.109375 38.921875 18.109375 30.90625 \r\nL 18.109375 0 \r\nL 9.078125 0 \r\nL 9.078125 54.6875 \r\nL 18.109375 54.6875 \r\nL 18.109375 46.1875 \r\nQ 21.34375 51.125 25.703125 53.5625 \r\nQ 30.078125 56 35.796875 56 \r\nQ 45.21875 56 50.046875 50.171875 \r\nQ 54.890625 44.34375 54.890625 33.015625 \r\nz\r\n\" id=\"DejaVuSans-110\"/>\r\n      <path d=\"M 9.421875 54.6875 \r\nL 18.40625 54.6875 \r\nL 18.40625 0 \r\nL 9.421875 0 \r\nz\r\nM 9.421875 75.984375 \r\nL 18.40625 75.984375 \r\nL 18.40625 64.59375 \r\nL 9.421875 64.59375 \r\nz\r\n\" id=\"DejaVuSans-105\"/>\r\n      <path d=\"M 45.40625 27.984375 \r\nQ 45.40625 37.75 41.375 43.109375 \r\nQ 37.359375 48.484375 30.078125 48.484375 \r\nQ 22.859375 48.484375 18.828125 43.109375 \r\nQ 14.796875 37.75 14.796875 27.984375 \r\nQ 14.796875 18.265625 18.828125 12.890625 \r\nQ 22.859375 7.515625 30.078125 7.515625 \r\nQ 37.359375 7.515625 41.375 12.890625 \r\nQ 45.40625 18.265625 45.40625 27.984375 \r\nz\r\nM 54.390625 6.78125 \r\nQ 54.390625 -7.171875 48.1875 -13.984375 \r\nQ 42 -20.796875 29.203125 -20.796875 \r\nQ 24.46875 -20.796875 20.265625 -20.09375 \r\nQ 16.0625 -19.390625 12.109375 -17.921875 \r\nL 12.109375 -9.1875 \r\nQ 16.0625 -11.328125 19.921875 -12.34375 \r\nQ 23.78125 -13.375 27.78125 -13.375 \r\nQ 36.625 -13.375 41.015625 -8.765625 \r\nQ 45.40625 -4.15625 45.40625 5.171875 \r\nL 45.40625 9.625 \r\nQ 42.625 4.78125 38.28125 2.390625 \r\nQ 33.9375 0 27.875 0 \r\nQ 17.828125 0 11.671875 7.65625 \r\nQ 5.515625 15.328125 5.515625 27.984375 \r\nQ 5.515625 40.671875 11.671875 48.328125 \r\nQ 17.828125 56 27.875 56 \r\nQ 33.9375 56 38.28125 53.609375 \r\nQ 42.625 51.21875 45.40625 46.390625 \r\nL 45.40625 54.6875 \r\nL 54.390625 54.6875 \r\nz\r\n\" id=\"DejaVuSans-103\"/>\r\n      <path id=\"DejaVuSans-32\"/>\r\n      <path d=\"M 18.3125 70.21875 \r\nL 18.3125 54.6875 \r\nL 36.8125 54.6875 \r\nL 36.8125 47.703125 \r\nL 18.3125 47.703125 \r\nL 18.3125 18.015625 \r\nQ 18.3125 11.328125 20.140625 9.421875 \r\nQ 21.96875 7.515625 27.59375 7.515625 \r\nL 36.8125 7.515625 \r\nL 36.8125 0 \r\nL 27.59375 0 \r\nQ 17.1875 0 13.234375 3.875 \r\nQ 9.28125 7.765625 9.28125 18.015625 \r\nL 9.28125 47.703125 \r\nL 2.6875 47.703125 \r\nL 2.6875 54.6875 \r\nL 9.28125 54.6875 \r\nL 9.28125 70.21875 \r\nz\r\n\" id=\"DejaVuSans-116\"/>\r\n     </defs>\r\n     <g transform=\"translate(177.554688 252.916562)scale(0.1 -0.1)\">\r\n      <use xlink:href=\"#DejaVuSans-76\"/>\r\n      <use x=\"55.697266\" xlink:href=\"#DejaVuSans-101\"/>\r\n      <use x=\"117.220703\" xlink:href=\"#DejaVuSans-97\"/>\r\n      <use x=\"178.5\" xlink:href=\"#DejaVuSans-114\"/>\r\n      <use x=\"219.597656\" xlink:href=\"#DejaVuSans-110\"/>\r\n      <use x=\"282.976562\" xlink:href=\"#DejaVuSans-105\"/>\r\n      <use x=\"310.759766\" xlink:href=\"#DejaVuSans-110\"/>\r\n      <use x=\"374.138672\" xlink:href=\"#DejaVuSans-103\"/>\r\n      <use x=\"437.615234\" xlink:href=\"#DejaVuSans-32\"/>\r\n      <use x=\"469.402344\" xlink:href=\"#DejaVuSans-114\"/>\r\n      <use x=\"510.515625\" xlink:href=\"#DejaVuSans-97\"/>\r\n      <use x=\"571.794922\" xlink:href=\"#DejaVuSans-116\"/>\r\n      <use x=\"611.003906\" xlink:href=\"#DejaVuSans-101\"/>\r\n     </g>\r\n    </g>\r\n   </g>\r\n   <g id=\"matplotlib.axis_2\">\r\n    <g id=\"ytick_1\">\r\n     <g id=\"line2d_55\">\r\n      <defs>\r\n       <path d=\"M 0 0 \r\nL -3.5 0 \r\n\" id=\"m7bd7f9604b\" style=\"stroke:#000000;stroke-width:0.8;\"/>\r\n      </defs>\r\n      <g>\r\n       <use style=\"stroke:#000000;stroke-width:0.8;\" x=\"43.78125\" xlink:href=\"#m7bd7f9604b\" y=\"218.721338\"/>\r\n      </g>\r\n     </g>\r\n     <g id=\"text_8\">\r\n      <!-- 2.6 -->\r\n      <defs>\r\n       <path d=\"M 10.6875 12.40625 \r\nL 21 12.40625 \r\nL 21 0 \r\nL 10.6875 0 \r\nz\r\n\" id=\"DejaVuSans-46\"/>\r\n       <path d=\"M 33.015625 40.375 \r\nQ 26.375 40.375 22.484375 35.828125 \r\nQ 18.609375 31.296875 18.609375 23.390625 \r\nQ 18.609375 15.53125 22.484375 10.953125 \r\nQ 26.375 6.390625 33.015625 6.390625 \r\nQ 39.65625 6.390625 43.53125 10.953125 \r\nQ 47.40625 15.53125 47.40625 23.390625 \r\nQ 47.40625 31.296875 43.53125 35.828125 \r\nQ 39.65625 40.375 33.015625 40.375 \r\nz\r\nM 52.59375 71.296875 \r\nL 52.59375 62.3125 \r\nQ 48.875 64.0625 45.09375 64.984375 \r\nQ 41.3125 65.921875 37.59375 65.921875 \r\nQ 27.828125 65.921875 22.671875 59.328125 \r\nQ 17.53125 52.734375 16.796875 39.40625 \r\nQ 19.671875 43.65625 24.015625 45.921875 \r\nQ 28.375 48.1875 33.59375 48.1875 \r\nQ 44.578125 48.1875 50.953125 41.515625 \r\nQ 57.328125 34.859375 57.328125 23.390625 \r\nQ 57.328125 12.15625 50.6875 5.359375 \r\nQ 44.046875 -1.421875 33.015625 -1.421875 \r\nQ 20.359375 -1.421875 13.671875 8.265625 \r\nQ 6.984375 17.96875 6.984375 36.375 \r\nQ 6.984375 53.65625 15.1875 63.9375 \r\nQ 23.390625 74.21875 37.203125 74.21875 \r\nQ 40.921875 74.21875 44.703125 73.484375 \r\nQ 48.484375 72.75 52.59375 71.296875 \r\nz\r\n\" id=\"DejaVuSans-54\"/>\r\n      </defs>\r\n      <g transform=\"translate(20.878125 222.520557)scale(0.1 -0.1)\">\r\n       <use xlink:href=\"#DejaVuSans-50\"/>\r\n       <use x=\"63.623047\" xlink:href=\"#DejaVuSans-46\"/>\r\n       <use x=\"95.410156\" xlink:href=\"#DejaVuSans-54\"/>\r\n      </g>\r\n     </g>\r\n    </g>\r\n    <g id=\"ytick_2\">\r\n     <g id=\"line2d_56\">\r\n      <g>\r\n       <use style=\"stroke:#000000;stroke-width:0.8;\" x=\"43.78125\" xlink:href=\"#m7bd7f9604b\" y=\"182.622286\"/>\r\n      </g>\r\n     </g>\r\n     <g id=\"text_9\">\r\n      <!-- 2.8 -->\r\n      <defs>\r\n       <path d=\"M 31.78125 34.625 \r\nQ 24.75 34.625 20.71875 30.859375 \r\nQ 16.703125 27.09375 16.703125 20.515625 \r\nQ 16.703125 13.921875 20.71875 10.15625 \r\nQ 24.75 6.390625 31.78125 6.390625 \r\nQ 38.8125 6.390625 42.859375 10.171875 \r\nQ 46.921875 13.96875 46.921875 20.515625 \r\nQ 46.921875 27.09375 42.890625 30.859375 \r\nQ 38.875 34.625 31.78125 34.625 \r\nz\r\nM 21.921875 38.8125 \r\nQ 15.578125 40.375 12.03125 44.71875 \r\nQ 8.5 49.078125 8.5 55.328125 \r\nQ 8.5 64.0625 14.71875 69.140625 \r\nQ 20.953125 74.21875 31.78125 74.21875 \r\nQ 42.671875 74.21875 48.875 69.140625 \r\nQ 55.078125 64.0625 55.078125 55.328125 \r\nQ 55.078125 49.078125 51.53125 44.71875 \r\nQ 48 40.375 41.703125 38.8125 \r\nQ 48.828125 37.15625 52.796875 32.3125 \r\nQ 56.78125 27.484375 56.78125 20.515625 \r\nQ 56.78125 9.90625 50.3125 4.234375 \r\nQ 43.84375 -1.421875 31.78125 -1.421875 \r\nQ 19.734375 -1.421875 13.25 4.234375 \r\nQ 6.78125 9.90625 6.78125 20.515625 \r\nQ 6.78125 27.484375 10.78125 32.3125 \r\nQ 14.796875 37.15625 21.921875 38.8125 \r\nz\r\nM 18.3125 54.390625 \r\nQ 18.3125 48.734375 21.84375 45.5625 \r\nQ 25.390625 42.390625 31.78125 42.390625 \r\nQ 38.140625 42.390625 41.71875 45.5625 \r\nQ 45.3125 48.734375 45.3125 54.390625 \r\nQ 45.3125 60.0625 41.71875 63.234375 \r\nQ 38.140625 66.40625 31.78125 66.40625 \r\nQ 25.390625 66.40625 21.84375 63.234375 \r\nQ 18.3125 60.0625 18.3125 54.390625 \r\nz\r\n\" id=\"DejaVuSans-56\"/>\r\n      </defs>\r\n      <g transform=\"translate(20.878125 186.421505)scale(0.1 -0.1)\">\r\n       <use xlink:href=\"#DejaVuSans-50\"/>\r\n       <use x=\"63.623047\" xlink:href=\"#DejaVuSans-46\"/>\r\n       <use x=\"95.410156\" xlink:href=\"#DejaVuSans-56\"/>\r\n      </g>\r\n     </g>\r\n    </g>\r\n    <g id=\"ytick_3\">\r\n     <g id=\"line2d_57\">\r\n      <g>\r\n       <use style=\"stroke:#000000;stroke-width:0.8;\" x=\"43.78125\" xlink:href=\"#m7bd7f9604b\" y=\"146.523234\"/>\r\n      </g>\r\n     </g>\r\n     <g id=\"text_10\">\r\n      <!-- 3.0 -->\r\n      <g transform=\"translate(20.878125 150.322453)scale(0.1 -0.1)\">\r\n       <use xlink:href=\"#DejaVuSans-51\"/>\r\n       <use x=\"63.623047\" xlink:href=\"#DejaVuSans-46\"/>\r\n       <use x=\"95.410156\" xlink:href=\"#DejaVuSans-48\"/>\r\n      </g>\r\n     </g>\r\n    </g>\r\n    <g id=\"ytick_4\">\r\n     <g id=\"line2d_58\">\r\n      <g>\r\n       <use style=\"stroke:#000000;stroke-width:0.8;\" x=\"43.78125\" xlink:href=\"#m7bd7f9604b\" y=\"110.424182\"/>\r\n      </g>\r\n     </g>\r\n     <g id=\"text_11\">\r\n      <!-- 3.2 -->\r\n      <g transform=\"translate(20.878125 114.223401)scale(0.1 -0.1)\">\r\n       <use xlink:href=\"#DejaVuSans-51\"/>\r\n       <use x=\"63.623047\" xlink:href=\"#DejaVuSans-46\"/>\r\n       <use x=\"95.410156\" xlink:href=\"#DejaVuSans-50\"/>\r\n      </g>\r\n     </g>\r\n    </g>\r\n    <g id=\"ytick_5\">\r\n     <g id=\"line2d_59\">\r\n      <g>\r\n       <use style=\"stroke:#000000;stroke-width:0.8;\" x=\"43.78125\" xlink:href=\"#m7bd7f9604b\" y=\"74.325131\"/>\r\n      </g>\r\n     </g>\r\n     <g id=\"text_12\">\r\n      <!-- 3.4 -->\r\n      <g transform=\"translate(20.878125 78.124349)scale(0.1 -0.1)\">\r\n       <use xlink:href=\"#DejaVuSans-51\"/>\r\n       <use x=\"63.623047\" xlink:href=\"#DejaVuSans-46\"/>\r\n       <use x=\"95.410156\" xlink:href=\"#DejaVuSans-52\"/>\r\n      </g>\r\n     </g>\r\n    </g>\r\n    <g id=\"ytick_6\">\r\n     <g id=\"line2d_60\">\r\n      <g>\r\n       <use style=\"stroke:#000000;stroke-width:0.8;\" x=\"43.78125\" xlink:href=\"#m7bd7f9604b\" y=\"38.226079\"/>\r\n      </g>\r\n     </g>\r\n     <g id=\"text_13\">\r\n      <!-- 3.6 -->\r\n      <g transform=\"translate(20.878125 42.025298)scale(0.1 -0.1)\">\r\n       <use xlink:href=\"#DejaVuSans-51\"/>\r\n       <use x=\"63.623047\" xlink:href=\"#DejaVuSans-46\"/>\r\n       <use x=\"95.410156\" xlink:href=\"#DejaVuSans-54\"/>\r\n      </g>\r\n     </g>\r\n    </g>\r\n    <g id=\"text_14\">\r\n     <!-- Loss -->\r\n     <defs>\r\n      <path d=\"M 30.609375 48.390625 \r\nQ 23.390625 48.390625 19.1875 42.75 \r\nQ 14.984375 37.109375 14.984375 27.296875 \r\nQ 14.984375 17.484375 19.15625 11.84375 \r\nQ 23.34375 6.203125 30.609375 6.203125 \r\nQ 37.796875 6.203125 41.984375 11.859375 \r\nQ 46.1875 17.53125 46.1875 27.296875 \r\nQ 46.1875 37.015625 41.984375 42.703125 \r\nQ 37.796875 48.390625 30.609375 48.390625 \r\nz\r\nM 30.609375 56 \r\nQ 42.328125 56 49.015625 48.375 \r\nQ 55.71875 40.765625 55.71875 27.296875 \r\nQ 55.71875 13.875 49.015625 6.21875 \r\nQ 42.328125 -1.421875 30.609375 -1.421875 \r\nQ 18.84375 -1.421875 12.171875 6.21875 \r\nQ 5.515625 13.875 5.515625 27.296875 \r\nQ 5.515625 40.765625 12.171875 48.375 \r\nQ 18.84375 56 30.609375 56 \r\nz\r\n\" id=\"DejaVuSans-111\"/>\r\n      <path d=\"M 44.28125 53.078125 \r\nL 44.28125 44.578125 \r\nQ 40.484375 46.53125 36.375 47.5 \r\nQ 32.28125 48.484375 27.875 48.484375 \r\nQ 21.1875 48.484375 17.84375 46.4375 \r\nQ 14.5 44.390625 14.5 40.28125 \r\nQ 14.5 37.15625 16.890625 35.375 \r\nQ 19.28125 33.59375 26.515625 31.984375 \r\nL 29.59375 31.296875 \r\nQ 39.15625 29.25 43.1875 25.515625 \r\nQ 47.21875 21.78125 47.21875 15.09375 \r\nQ 47.21875 7.46875 41.1875 3.015625 \r\nQ 35.15625 -1.421875 24.609375 -1.421875 \r\nQ 20.21875 -1.421875 15.453125 -0.5625 \r\nQ 10.6875 0.296875 5.421875 2 \r\nL 5.421875 11.28125 \r\nQ 10.40625 8.6875 15.234375 7.390625 \r\nQ 20.0625 6.109375 24.8125 6.109375 \r\nQ 31.15625 6.109375 34.5625 8.28125 \r\nQ 37.984375 10.453125 37.984375 14.40625 \r\nQ 37.984375 18.0625 35.515625 20.015625 \r\nQ 33.0625 21.96875 24.703125 23.78125 \r\nL 21.578125 24.515625 \r\nQ 13.234375 26.265625 9.515625 29.90625 \r\nQ 5.8125 33.546875 5.8125 39.890625 \r\nQ 5.8125 47.609375 11.28125 51.796875 \r\nQ 16.75 56 26.8125 56 \r\nQ 31.78125 56 36.171875 55.265625 \r\nQ 40.578125 54.546875 44.28125 53.078125 \r\nz\r\n\" id=\"DejaVuSans-115\"/>\r\n     </defs>\r\n     <g transform=\"translate(14.798438 126.973906)rotate(-90)scale(0.1 -0.1)\">\r\n      <use xlink:href=\"#DejaVuSans-76\"/>\r\n      <use x=\"55.697266\" xlink:href=\"#DejaVuSans-111\"/>\r\n      <use x=\"116.878906\" xlink:href=\"#DejaVuSans-115\"/>\r\n      <use x=\"168.978516\" xlink:href=\"#DejaVuSans-115\"/>\r\n     </g>\r\n    </g>\r\n   </g>\r\n   <g id=\"LineCollection_1\">\r\n    <path clip-path=\"url(#p67cf39ae34)\" d=\"M 43.78125 224.64 \r\nL 378.58125 224.64 \r\n\" style=\"fill:none;stroke:#000000;stroke-width:1.5;\"/>\r\n   </g>\r\n   <g id=\"line2d_61\">\r\n    <path clip-path=\"url(#p67cf39ae34)\" d=\"M 43.78125 198.245407 \r\nL 44.735096 173.526105 \r\nL 45.688942 172.999462 \r\nL 46.642789 167.594034 \r\nL 47.596634 169.243203 \r\nL 48.55048 169.71287 \r\nL 50.458172 169.459963 \r\nL 51.412019 170.093372 \r\nL 52.365864 169.574303 \r\nL 53.31971 168.540855 \r\nL 54.273557 168.126142 \r\nL 55.227402 166.316974 \r\nL 56.181247 168.609665 \r\nL 57.135093 167.373918 \r\nL 58.08894 169.970899 \r\nL 59.042787 169.115523 \r\nL 59.996634 170.903519 \r\nL 60.950481 171.381749 \r\nL 61.904327 171.662887 \r\nL 62.858172 173.171251 \r\nL 63.812019 173.293337 \r\nL 64.765865 172.580919 \r\nL 65.719711 172.856376 \r\nL 66.673558 173.573786 \r\nL 67.627404 174.872965 \r\nL 69.535096 173.540779 \r\nL 70.488943 173.514142 \r\nL 71.44279 173.020677 \r\nL 72.396638 172.979064 \r\nL 73.350482 172.071919 \r\nL 75.258174 171.949532 \r\nL 76.212021 172.602823 \r\nL 77.165867 172.246979 \r\nL 78.119713 171.327613 \r\nL 79.07356 170.848307 \r\nL 80.027405 170.599359 \r\nL 80.981251 170.532054 \r\nL 81.935098 170.245366 \r\nL 82.888943 170.472023 \r\nL 83.842789 170.215285 \r\nL 85.750481 171.87431 \r\nL 86.704327 171.478187 \r\nL 87.658172 172.029187 \r\nL 88.612017 172.903712 \r\nL 89.565863 172.882067 \r\nL 90.519709 172.728222 \r\nL 91.473555 173.128261 \r\nL 92.427401 173.668244 \r\nL 93.381248 173.754612 \r\nL 94.335094 174.169627 \r\nL 95.28894 173.79657 \r\nL 96.242786 174.093802 \r\nL 97.196632 174.261116 \r\nL 98.150478 174.027272 \r\nL 99.104323 174.399167 \r\nL 101.012015 174.305957 \r\nL 101.965862 174.028649 \r\nL 102.919708 174.140192 \r\nL 103.873555 174.033555 \r\nL 104.827401 174.381868 \r\nL 105.781248 174.496552 \r\nL 106.735094 175.003787 \r\nL 107.68894 175.047509 \r\nL 108.642786 174.84693 \r\nL 110.550479 175.019752 \r\nL 112.458172 176.082807 \r\nL 113.412017 175.92212 \r\nL 117.227404 176.375391 \r\nL 118.18125 176.444675 \r\nL 119.135097 176.666211 \r\nL 120.088943 177.387967 \r\nL 123.904328 178.957439 \r\nL 124.858175 179.003098 \r\nL 126.765866 179.524663 \r\nL 127.719713 179.391345 \r\nL 128.67356 179.584178 \r\nL 129.627406 179.98852 \r\nL 130.581251 180.05974 \r\nL 131.535097 180.340404 \r\nL 132.488943 180.224688 \r\nL 135.350482 180.899753 \r\nL 136.304328 180.971877 \r\nL 139.165866 182.128787 \r\nL 140.119711 182.310087 \r\nL 141.073558 182.903647 \r\nL 142.981251 183.648082 \r\nL 143.935097 183.53357 \r\nL 144.888942 184.134963 \r\nL 145.842788 184.457584 \r\nL 146.796635 184.535302 \r\nL 147.750482 184.904314 \r\nL 152.519714 185.833578 \r\nL 153.47356 186.326956 \r\nL 155.381253 186.81956 \r\nL 156.3351 187.254412 \r\nL 157.288947 187.300114 \r\nL 159.196639 188.278005 \r\nL 163.012022 189.06896 \r\nL 163.965868 189.489784 \r\nL 164.919715 189.778237 \r\nL 165.873562 190.227893 \r\nL 167.781254 190.803938 \r\nL 170.642793 191.786305 \r\nL 172.550485 192.206699 \r\nL 174.458175 193.00243 \r\nL 175.412023 193.455658 \r\nL 176.365869 193.769371 \r\nL 177.319717 194.312453 \r\nL 179.227408 194.904163 \r\nL 180.181255 195.604489 \r\nL 182.088947 196.477336 \r\nL 183.996638 197.232228 \r\nL 185.904331 198.305611 \r\nL 187.812023 199.440918 \r\nL 188.76587 199.771888 \r\nL 191.627409 201.415421 \r\nL 192.581256 201.842614 \r\nL 194.488948 202.50606 \r\nL 195.442795 203.084515 \r\nL 197.350488 203.754287 \r\nL 199.25818 204.799828 \r\nL 200.212026 205.033972 \r\nL 204.027411 206.948529 \r\nL 204.981257 207.192529 \r\nL 206.888949 207.92853 \r\nL 208.796641 208.480648 \r\nL 210.704334 209.434011 \r\nL 211.658181 210.114929 \r\nL 213.565873 210.727251 \r\nL 215.473564 211.664907 \r\nL 218.335102 212.38619 \r\nL 220.242795 213.111991 \r\nL 222.150487 213.810295 \r\nL 223.104334 213.884829 \r\nL 227.873565 215.681087 \r\nL 229.781257 216.642195 \r\nL 232.642795 217.709467 \r\nL 238.365871 220.119468 \r\nL 239.319716 220.218316 \r\nL 242.181253 221.041416 \r\nL 245.042792 221.737051 \r\nL 247.904331 222.203103 \r\nL 249.812022 222.762495 \r\nL 252.673559 223.614987 \r\nL 256.488946 223.530684 \r\nL 259.350483 223.870993 \r\nL 261.258176 223.929303 \r\nL 262.212021 224.157724 \r\nL 263.165866 224.252097 \r\nL 264.119712 224.520883 \r\nL 266.027406 224.64 \r\nL 268.888944 224.31712 \r\nL 271.750483 224.257046 \r\nL 273.658176 223.671662 \r\nL 274.612021 223.273215 \r\nL 276.519714 222.822526 \r\nL 277.47356 222.404629 \r\nL 278.427406 221.846701 \r\nL 279.381253 220.680882 \r\nL 280.335101 220.043256 \r\nL 281.288947 219.593255 \r\nL 282.242793 218.656719 \r\nL 283.196638 218.290461 \r\nL 284.150485 201.685886 \r\nL 285.104331 122.515318 \r\nL 285.104331 -1 \r\nL 285.104331 -1 \r\n\" style=\"fill:none;stroke:#1f77b4;stroke-linecap:square;stroke-width:1.5;\"/>\r\n   </g>\r\n   <g id=\"patch_3\">\r\n    <path d=\"M 43.78125 224.64 \r\nL 43.78125 7.2 \r\n\" style=\"fill:none;stroke:#000000;stroke-linecap:square;stroke-linejoin:miter;stroke-width:0.8;\"/>\r\n   </g>\r\n   <g id=\"patch_4\">\r\n    <path d=\"M 378.58125 224.64 \r\nL 378.58125 7.2 \r\n\" style=\"fill:none;stroke:#000000;stroke-linecap:square;stroke-linejoin:miter;stroke-width:0.8;\"/>\r\n   </g>\r\n   <g id=\"patch_5\">\r\n    <path d=\"M 43.78125 224.64 \r\nL 378.58125 224.64 \r\n\" style=\"fill:none;stroke:#000000;stroke-linecap:square;stroke-linejoin:miter;stroke-width:0.8;\"/>\r\n   </g>\r\n   <g id=\"patch_6\">\r\n    <path d=\"M 43.78125 7.2 \r\nL 378.58125 7.2 \r\n\" style=\"fill:none;stroke:#000000;stroke-linecap:square;stroke-linejoin:miter;stroke-width:0.8;\"/>\r\n   </g>\r\n  </g>\r\n </g>\r\n <defs>\r\n  <clipPath id=\"p67cf39ae34\">\r\n   <rect height=\"217.44\" width=\"334.8\" x=\"43.78125\" y=\"7.2\"/>\r\n  </clipPath>\r\n </defs>\r\n</svg>\r\n",
      "image/png": "[encoded data removed]"
     },
     "metadata": {
      "needs_background": "light"
     }
    }
   ],
   "source": [
    "batch_size = 128\n",
    "rates, losses = find_learning_rate(model, X_train_scaled, ytrain, epochs=1, batch_size=batch_size)\n",
    "plot_lr_vs_loss(rates, losses)\n",
    "plt.axis([min(rates), max(rates), min(losses), (losses[0] + min(losses)) / 1.4])"
   ]
  },
  {
   "cell_type": "code",
   "execution_count": 15,
   "metadata": {},
   "outputs": [],
   "source": [
    "keras.backend.clear_session()\n",
    "\n",
    "model = keras.models.Sequential()\n",
    "model.add(keras.layers.Flatten(input_shape=[32, 32, 3]))\n",
    "for _ in range(20):\n",
    "    model.add(keras.layers.Dense(100, kernel_initializer=\"lecun_normal\", activation=\"selu\"))\n",
    "\n",
    "model.add(keras.layers.AlphaDropout(rate=0.1))\n",
    "model.add(keras.layers.Dense(10, activation=\"softmax\"))\n",
    "\n",
    "optimizer = keras.optimizers.SGD(lr=1e-2, momentum=0.9, nesterov=True)\n",
    "model.compile(loss=\"sparse_categorical_crossentropy\", optimizer=optimizer, metrics=[\"accuracy\"])"
   ]
  },
  {
   "cell_type": "code",
   "execution_count": 16,
   "metadata": {},
   "outputs": [],
   "source": [
    "class OneCycleScheduler(keras.callbacks.Callback):\n",
    "    def __init__(self, iterations, max_rate, start_rate=None,\n",
    "                 last_iterations=None, last_rate=None):\n",
    "        self.iterations = iterations\n",
    "        self.max_rate = max_rate\n",
    "        self.start_rate = start_rate or max_rate / 10\n",
    "        self.last_iterations = last_iterations or iterations // 10 + 1\n",
    "        self.half_iteration = (iterations - self.last_iterations) // 2\n",
    "        self.last_rate = last_rate or self.start_rate / 1000\n",
    "        self.iteration = 0\n",
    "    def _interpolate(self, iter1, iter2, rate1, rate2):\n",
    "        return ((rate2 - rate1) * (self.iteration - iter1)\n",
    "                / (iter2 - iter1) + rate1)\n",
    "    def on_batch_begin(self, batch, logs):\n",
    "        if self.iteration < self.half_iteration:\n",
    "            rate = self._interpolate(0, self.half_iteration, self.start_rate, self.max_rate)\n",
    "        elif self.iteration < 2 * self.half_iteration:\n",
    "            rate = self._interpolate(self.half_iteration, 2 * self.half_iteration,\n",
    "                                     self.max_rate, self.start_rate)\n",
    "        else:\n",
    "            rate = self._interpolate(2 * self.half_iteration, self.iterations,\n",
    "                                     self.start_rate, self.last_rate)\n",
    "            rate = max(rate, self.last_rate)\n",
    "        self.iteration += 1\n",
    "        K.set_value(self.model.optimizer.lr, rate)"
   ]
  },
  {
   "cell_type": "code",
   "execution_count": 17,
   "metadata": {},
   "outputs": [
    {
     "output_type": "stream",
     "name": "stdout",
     "text": [
      "Epoch 1/20\n",
      "352/352 [==============================] - 2s 6ms/step - loss: 1.8719 - accuracy: 0.3362 - val_loss: 1.7554 - val_accuracy: 0.3576\n",
      "Epoch 2/20\n",
      "352/352 [==============================] - 2s 6ms/step - loss: 1.6399 - accuracy: 0.4161 - val_loss: 1.6604 - val_accuracy: 0.4094\n",
      "Epoch 3/20\n",
      "352/352 [==============================] - 2s 6ms/step - loss: 1.5775 - accuracy: 0.4443 - val_loss: 1.5959 - val_accuracy: 0.4464\n",
      "Epoch 4/20\n",
      "352/352 [==============================] - 2s 6ms/step - loss: 1.5394 - accuracy: 0.4600 - val_loss: 1.7017 - val_accuracy: 0.4466\n",
      "Epoch 5/20\n",
      "352/352 [==============================] - 2s 6ms/step - loss: 1.5147 - accuracy: 0.4694 - val_loss: 1.5615 - val_accuracy: 0.4664\n",
      "Epoch 6/20\n",
      "352/352 [==============================] - 2s 6ms/step - loss: 1.4949 - accuracy: 0.4816 - val_loss: 1.6387 - val_accuracy: 0.4518\n",
      "Epoch 7/20\n",
      "352/352 [==============================] - 2s 6ms/step - loss: 1.4917 - accuracy: 0.4861 - val_loss: 1.6420 - val_accuracy: 0.4302\n",
      "Epoch 8/20\n",
      "352/352 [==============================] - 2s 5ms/step - loss: 1.4847 - accuracy: 0.4915 - val_loss: 1.6273 - val_accuracy: 0.4508\n",
      "Epoch 9/20\n",
      "352/352 [==============================] - 2s 6ms/step - loss: 1.4763 - accuracy: 0.4932 - val_loss: 1.6594 - val_accuracy: 0.4586\n",
      "Epoch 10/20\n",
      "352/352 [==============================] - 2s 6ms/step - loss: 1.4473 - accuracy: 0.5068 - val_loss: 1.6322 - val_accuracy: 0.4656\n",
      "Epoch 11/20\n",
      "352/352 [==============================] - 2s 6ms/step - loss: 1.3773 - accuracy: 0.5276 - val_loss: 1.6199 - val_accuracy: 0.4720\n",
      "Epoch 12/20\n",
      "352/352 [==============================] - 2s 6ms/step - loss: 1.3148 - accuracy: 0.5491 - val_loss: 1.6177 - val_accuracy: 0.4918\n",
      "Epoch 13/20\n",
      "352/352 [==============================] - 2s 6ms/step - loss: 1.2431 - accuracy: 0.5767 - val_loss: 1.5706 - val_accuracy: 0.4998\n",
      "Epoch 14/20\n",
      "352/352 [==============================] - 2s 6ms/step - loss: 1.1757 - accuracy: 0.5989 - val_loss: 1.5517 - val_accuracy: 0.5136\n",
      "Epoch 15/20\n",
      "352/352 [==============================] - 2s 6ms/step - loss: 1.1111 - accuracy: 0.6225 - val_loss: 1.5200 - val_accuracy: 0.5284\n",
      "Epoch 16/20\n",
      "352/352 [==============================] - 2s 6ms/step - loss: 1.0371 - accuracy: 0.6484 - val_loss: 1.5323 - val_accuracy: 0.5322\n",
      "Epoch 17/20\n",
      "352/352 [==============================] - 2s 6ms/step - loss: 0.9700 - accuracy: 0.6700 - val_loss: 1.5361 - val_accuracy: 0.5380\n",
      "Epoch 18/20\n",
      "352/352 [==============================] - 2s 6ms/step - loss: 0.8910 - accuracy: 0.6971 - val_loss: 1.5779 - val_accuracy: 0.5418\n",
      "Epoch 19/20\n",
      "352/352 [==============================] - 2s 6ms/step - loss: 0.8235 - accuracy: 0.7196 - val_loss: 1.6499 - val_accuracy: 0.5424\n",
      "Epoch 20/20\n",
      "352/352 [==============================] - 2s 6ms/step - loss: 0.7787 - accuracy: 0.7380 - val_loss: 1.6642 - val_accuracy: 0.5394\n"
     ]
    }
   ],
   "source": [
    "n_epochs = 20\n",
    "onecycle = OneCycleScheduler(len(X_train_scaled) // batch_size * n_epochs, max_rate=0.05)\n",
    "history = model.fit(X_train_scaled, ytrain, epochs=n_epochs, batch_size=batch_size,\n",
    "                    validation_data=(X_valid_scaled, yval),\n",
    "                    callbacks=[onecycle])"
   ]
  },
  {
   "cell_type": "code",
   "execution_count": 19,
   "metadata": {},
   "outputs": [
    {
     "output_type": "stream",
     "name": "stdout",
     "text": [
      "157/157 [==============================] - 0s 2ms/step - loss: 1.6642 - accuracy: 0.5394\n"
     ]
    },
    {
     "output_type": "execute_result",
     "data": {
      "text/plain": [
       "[1.6642210483551025, 0.5393999814987183]"
      ]
     },
     "metadata": {},
     "execution_count": 19
    }
   ],
   "source": [
    "model.evaluate(X_valid_scaled, yval)"
   ]
  },
  {
   "cell_type": "code",
   "execution_count": null,
   "metadata": {},
   "outputs": [],
   "source": []
  }
 ]
}