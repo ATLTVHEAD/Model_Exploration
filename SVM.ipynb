{
 "metadata": {
  "language_info": {
   "codemirror_mode": {
    "name": "ipython",
    "version": 3
   },
   "file_extension": ".py",
   "mimetype": "text/x-python",
   "name": "python",
   "nbconvert_exporter": "python",
   "pygments_lexer": "ipython3",
   "version": "3.8.2-final"
  },
  "orig_nbformat": 2,
  "kernelspec": {
   "name": "python_defaultSpec_1599753231842",
   "display_name": "Python 3.8.2 64-bit"
  }
 },
 "nbformat": 4,
 "nbformat_minor": 2,
 "cells": [
  {
   "cell_type": "code",
   "execution_count": 1,
   "metadata": {},
   "outputs": [],
   "source": [
    "import numpy as np\n",
    "from sklearn import datasets\n",
    "from sklearn.pipeline import Pipeline\n",
    "from sklearn.preprocessing import StandardScaler\n",
    "from sklearn.svm import LinearSVC \n",
    "from sklearn.svm import LinearSVR\n",
    "from sklearn.svm import SVC\n",
    "from sklearn.svm import SVR\n",
    "from sklearn.preprocessing import PolynomialFeatures\n",
    "from sklearn.linear_model import SGDClassifier\n",
    "\n",
    "import matplotlib.pyplot as plt\n",
    "\n",
    "from sklearn.model_selection import train_test_split\n",
    "from sklearn.metrics import mean_squared_error\n",
    "from sklearn.metrics import accuracy_score\n",
    "from sklearn.model_selection import RandomizedSearchCV\n",
    "from scipy.stats import reciprocal, uniform"
   ]
  },
  {
   "cell_type": "code",
   "execution_count": 2,
   "metadata": {},
   "outputs": [],
   "source": [
    "iris = datasets.load_iris()  "
   ]
  },
  {
   "cell_type": "code",
   "execution_count": 3,
   "metadata": {},
   "outputs": [],
   "source": [
    "#seperate training sets\n",
    "X=iris['data'][:, (2, 3)] #petal len and petal width\n",
    "y=iris['target']\n",
    "\n",
    "setosa_or_versicolor = (y == 0) | (y == 1)\n",
    "X = X[setosa_or_versicolor]\n",
    "y = y[setosa_or_versicolor]"
   ]
  },
  {
   "cell_type": "code",
   "execution_count": 4,
   "metadata": {},
   "outputs": [],
   "source": [
    "#Scale the data to insure no loss of small features\n",
    "scaler = StandardScaler()\n",
    "X_scaled = scaler.fit_transform(X)"
   ]
  },
  {
   "cell_type": "code",
   "execution_count": 8,
   "metadata": {},
   "outputs": [],
   "source": [
    "#set C and alpha hyperparams for the svcs and sgdc \n",
    "c = 5\n",
    "alf = 1 / (c * len(X))\n",
    "\n",
    "lin_svc = LinearSVC(loss='hinge', C=c)\n",
    "svc = SVC(kernel='linear', C=c, degree=3, coef0=0.0)\n",
    "sgdc = SGDClassifier(loss='hinge', learning_rate='constant', eta0=0.001, alpha=alf, max_iter=1000, tol=1e-3)"
   ]
  },
  {
   "cell_type": "code",
   "execution_count": 9,
   "metadata": {},
   "outputs": [
    {
     "output_type": "execute_result",
     "data": {
      "text/plain": "SGDClassifier(alpha=0.002, average=False, class_weight=None,\n              early_stopping=False, epsilon=0.1, eta0=0.001, fit_intercept=True,\n              l1_ratio=0.15, learning_rate='constant', loss='hinge',\n              max_iter=1000, n_iter_no_change=5, n_jobs=None, penalty='l2',\n              power_t=0.5, random_state=None, shuffle=True, tol=0.001,\n              validation_fraction=0.1, verbose=0, warm_start=False)"
     },
     "metadata": {},
     "execution_count": 9
    }
   ],
   "source": [
    "#Train the models\n",
    "lin_svc.fit(X_scaled,y)\n",
    "svc.fit(X_scaled,y)\n",
    "sgdc.fit(X_scaled,y)"
   ]
  },
  {
   "cell_type": "code",
   "execution_count": 10,
   "metadata": {},
   "outputs": [],
   "source": [
    "#slope and bias of the linear svc\n",
    "w1 = -lin_svc.coef_[0, 0] / lin_svc.coef_[0, 1]\n",
    "b1 = -lin_svc.intercept_[0] / lin_svc.coef_[0, 1]\n",
    "#slope and bias of the svc with a linear kernel\n",
    "w2 = -svc.coef_[0, 0] / svc.coef_[0, 1]\n",
    "b2 = -svc.intercept_[0] / svc.coef_[0, 1]\n",
    "#Slope and bias of the sgdc \n",
    "w3 = -sgdc.coef_[0, 0] / sgdc.coef_[0 ,1]\n",
    "b3 = -sgdc.intercept_[0] /  sgdc.coef_[0, 1]"
   ]
  },
  {
   "cell_type": "code",
   "execution_count": 11,
   "metadata": {},
   "outputs": [],
   "source": [
    "#transform the boundry decision line of the linear svc back to the original scale\n",
    "line1 = scaler.inverse_transform([[-10, -10 * w1 + b1], [10, 10 * w1 + b1]])\n",
    "#transform the boundry decision line of the svc with linear kernal back to the original scale\n",
    "line2 = scaler.inverse_transform([[-10, -10 * w2 + b2], [10, 10 * w2 + b2]])\n",
    "#transform the boundry decision line of the sgdc back to the original scale\n",
    "line3 = scaler.inverse_transform([[-10, -10 * w3 + b3], [10, 10 * w3 + b3]])"
   ]
  },
  {
   "cell_type": "code",
   "execution_count": 15,
   "metadata": {},
   "outputs": [
    {
     "output_type": "display_data",
     "data": {
      "text/plain": "<Figure size 792x360 with 1 Axes>",
      "image/svg+xml": "<?xml version=\"1.0\" encoding=\"utf-8\" standalone=\"no\"?>\r\n<!DOCTYPE svg PUBLIC \"-//W3C//DTD SVG 1.1//EN\"\r\n  \"http://www.w3.org/Graphics/SVG/1.1/DTD/svg11.dtd\">\r\n<!-- Created with matplotlib (https://matplotlib.org/) -->\r\n<svg height=\"324.226719pt\" version=\"1.1\" viewBox=\"0 0 675.015 324.226719\" width=\"675.015pt\" xmlns=\"http://www.w3.org/2000/svg\" xmlns:xlink=\"http://www.w3.org/1999/xlink\">\r\n <defs>\r\n  <style type=\"text/css\">\r\n*{stroke-linecap:butt;stroke-linejoin:round;}\r\n  </style>\r\n </defs>\r\n <g id=\"figure_1\">\r\n  <g id=\"patch_1\">\r\n   <path d=\"M 0 324.226719 \r\nL 675.015 324.226719 \r\nL 675.015 0 \r\nL 0 0 \r\nz\r\n\" style=\"fill:none;\"/>\r\n  </g>\r\n  <g id=\"axes_1\">\r\n   <g id=\"patch_2\">\r\n    <path d=\"M 54.015 282.799219 \r\nL 667.815 282.799219 \r\nL 667.815 10.999219 \r\nL 54.015 10.999219 \r\nz\r\n\" style=\"fill:#ffffff;\"/>\r\n   </g>\r\n   <g id=\"matplotlib.axis_1\">\r\n    <g id=\"xtick_1\">\r\n     <g id=\"line2d_1\">\r\n      <defs>\r\n       <path d=\"M 0 0 \r\nL 0 3.5 \r\n\" id=\"mb309931f7b\" style=\"stroke:#000000;stroke-width:0.8;\"/>\r\n      </defs>\r\n      <g>\r\n       <use style=\"stroke:#000000;stroke-width:0.8;\" x=\"54.015\" xlink:href=\"#mb309931f7b\" y=\"282.799219\"/>\r\n      </g>\r\n     </g>\r\n     <g id=\"text_1\">\r\n      <!-- 0 -->\r\n      <defs>\r\n       <path d=\"M 31.78125 66.40625 \r\nQ 24.171875 66.40625 20.328125 58.90625 \r\nQ 16.5 51.421875 16.5 36.375 \r\nQ 16.5 21.390625 20.328125 13.890625 \r\nQ 24.171875 6.390625 31.78125 6.390625 \r\nQ 39.453125 6.390625 43.28125 13.890625 \r\nQ 47.125 21.390625 47.125 36.375 \r\nQ 47.125 51.421875 43.28125 58.90625 \r\nQ 39.453125 66.40625 31.78125 66.40625 \r\nz\r\nM 31.78125 74.21875 \r\nQ 44.046875 74.21875 50.515625 64.515625 \r\nQ 56.984375 54.828125 56.984375 36.375 \r\nQ 56.984375 17.96875 50.515625 8.265625 \r\nQ 44.046875 -1.421875 31.78125 -1.421875 \r\nQ 19.53125 -1.421875 13.0625 8.265625 \r\nQ 6.59375 17.96875 6.59375 36.375 \r\nQ 6.59375 54.828125 13.0625 64.515625 \r\nQ 19.53125 74.21875 31.78125 74.21875 \r\nz\r\n\" id=\"DejaVuSans-48\"/>\r\n      </defs>\r\n      <g transform=\"translate(50.83375 297.397656)scale(0.1 -0.1)\">\r\n       <use xlink:href=\"#DejaVuSans-48\"/>\r\n      </g>\r\n     </g>\r\n    </g>\r\n    <g id=\"xtick_2\">\r\n     <g id=\"line2d_2\">\r\n      <g>\r\n       <use style=\"stroke:#000000;stroke-width:0.8;\" x=\"165.615\" xlink:href=\"#mb309931f7b\" y=\"282.799219\"/>\r\n      </g>\r\n     </g>\r\n     <g id=\"text_2\">\r\n      <!-- 1 -->\r\n      <defs>\r\n       <path d=\"M 12.40625 8.296875 \r\nL 28.515625 8.296875 \r\nL 28.515625 63.921875 \r\nL 10.984375 60.40625 \r\nL 10.984375 69.390625 \r\nL 28.421875 72.90625 \r\nL 38.28125 72.90625 \r\nL 38.28125 8.296875 \r\nL 54.390625 8.296875 \r\nL 54.390625 0 \r\nL 12.40625 0 \r\nz\r\n\" id=\"DejaVuSans-49\"/>\r\n      </defs>\r\n      <g transform=\"translate(162.43375 297.397656)scale(0.1 -0.1)\">\r\n       <use xlink:href=\"#DejaVuSans-49\"/>\r\n      </g>\r\n     </g>\r\n    </g>\r\n    <g id=\"xtick_3\">\r\n     <g id=\"line2d_3\">\r\n      <g>\r\n       <use style=\"stroke:#000000;stroke-width:0.8;\" x=\"277.215\" xlink:href=\"#mb309931f7b\" y=\"282.799219\"/>\r\n      </g>\r\n     </g>\r\n     <g id=\"text_3\">\r\n      <!-- 2 -->\r\n      <defs>\r\n       <path d=\"M 19.1875 8.296875 \r\nL 53.609375 8.296875 \r\nL 53.609375 0 \r\nL 7.328125 0 \r\nL 7.328125 8.296875 \r\nQ 12.9375 14.109375 22.625 23.890625 \r\nQ 32.328125 33.6875 34.8125 36.53125 \r\nQ 39.546875 41.84375 41.421875 45.53125 \r\nQ 43.3125 49.21875 43.3125 52.78125 \r\nQ 43.3125 58.59375 39.234375 62.25 \r\nQ 35.15625 65.921875 28.609375 65.921875 \r\nQ 23.96875 65.921875 18.8125 64.3125 \r\nQ 13.671875 62.703125 7.8125 59.421875 \r\nL 7.8125 69.390625 \r\nQ 13.765625 71.78125 18.9375 73 \r\nQ 24.125 74.21875 28.421875 74.21875 \r\nQ 39.75 74.21875 46.484375 68.546875 \r\nQ 53.21875 62.890625 53.21875 53.421875 \r\nQ 53.21875 48.921875 51.53125 44.890625 \r\nQ 49.859375 40.875 45.40625 35.40625 \r\nQ 44.1875 33.984375 37.640625 27.21875 \r\nQ 31.109375 20.453125 19.1875 8.296875 \r\nz\r\n\" id=\"DejaVuSans-50\"/>\r\n      </defs>\r\n      <g transform=\"translate(274.03375 297.397656)scale(0.1 -0.1)\">\r\n       <use xlink:href=\"#DejaVuSans-50\"/>\r\n      </g>\r\n     </g>\r\n    </g>\r\n    <g id=\"xtick_4\">\r\n     <g id=\"line2d_4\">\r\n      <g>\r\n       <use style=\"stroke:#000000;stroke-width:0.8;\" x=\"388.815\" xlink:href=\"#mb309931f7b\" y=\"282.799219\"/>\r\n      </g>\r\n     </g>\r\n     <g id=\"text_4\">\r\n      <!-- 3 -->\r\n      <defs>\r\n       <path d=\"M 40.578125 39.3125 \r\nQ 47.65625 37.796875 51.625 33 \r\nQ 55.609375 28.21875 55.609375 21.1875 \r\nQ 55.609375 10.40625 48.1875 4.484375 \r\nQ 40.765625 -1.421875 27.09375 -1.421875 \r\nQ 22.515625 -1.421875 17.65625 -0.515625 \r\nQ 12.796875 0.390625 7.625 2.203125 \r\nL 7.625 11.71875 \r\nQ 11.71875 9.328125 16.59375 8.109375 \r\nQ 21.484375 6.890625 26.8125 6.890625 \r\nQ 36.078125 6.890625 40.9375 10.546875 \r\nQ 45.796875 14.203125 45.796875 21.1875 \r\nQ 45.796875 27.640625 41.28125 31.265625 \r\nQ 36.765625 34.90625 28.71875 34.90625 \r\nL 20.21875 34.90625 \r\nL 20.21875 43.015625 \r\nL 29.109375 43.015625 \r\nQ 36.375 43.015625 40.234375 45.921875 \r\nQ 44.09375 48.828125 44.09375 54.296875 \r\nQ 44.09375 59.90625 40.109375 62.90625 \r\nQ 36.140625 65.921875 28.71875 65.921875 \r\nQ 24.65625 65.921875 20.015625 65.03125 \r\nQ 15.375 64.15625 9.8125 62.3125 \r\nL 9.8125 71.09375 \r\nQ 15.4375 72.65625 20.34375 73.4375 \r\nQ 25.25 74.21875 29.59375 74.21875 \r\nQ 40.828125 74.21875 47.359375 69.109375 \r\nQ 53.90625 64.015625 53.90625 55.328125 \r\nQ 53.90625 49.265625 50.4375 45.09375 \r\nQ 46.96875 40.921875 40.578125 39.3125 \r\nz\r\n\" id=\"DejaVuSans-51\"/>\r\n      </defs>\r\n      <g transform=\"translate(385.63375 297.397656)scale(0.1 -0.1)\">\r\n       <use xlink:href=\"#DejaVuSans-51\"/>\r\n      </g>\r\n     </g>\r\n    </g>\r\n    <g id=\"xtick_5\">\r\n     <g id=\"line2d_5\">\r\n      <g>\r\n       <use style=\"stroke:#000000;stroke-width:0.8;\" x=\"500.415\" xlink:href=\"#mb309931f7b\" y=\"282.799219\"/>\r\n      </g>\r\n     </g>\r\n     <g id=\"text_5\">\r\n      <!-- 4 -->\r\n      <defs>\r\n       <path d=\"M 37.796875 64.3125 \r\nL 12.890625 25.390625 \r\nL 37.796875 25.390625 \r\nz\r\nM 35.203125 72.90625 \r\nL 47.609375 72.90625 \r\nL 47.609375 25.390625 \r\nL 58.015625 25.390625 \r\nL 58.015625 17.1875 \r\nL 47.609375 17.1875 \r\nL 47.609375 0 \r\nL 37.796875 0 \r\nL 37.796875 17.1875 \r\nL 4.890625 17.1875 \r\nL 4.890625 26.703125 \r\nz\r\n\" id=\"DejaVuSans-52\"/>\r\n      </defs>\r\n      <g transform=\"translate(497.23375 297.397656)scale(0.1 -0.1)\">\r\n       <use xlink:href=\"#DejaVuSans-52\"/>\r\n      </g>\r\n     </g>\r\n    </g>\r\n    <g id=\"xtick_6\">\r\n     <g id=\"line2d_6\">\r\n      <g>\r\n       <use style=\"stroke:#000000;stroke-width:0.8;\" x=\"612.015\" xlink:href=\"#mb309931f7b\" y=\"282.799219\"/>\r\n      </g>\r\n     </g>\r\n     <g id=\"text_6\">\r\n      <!-- 5 -->\r\n      <defs>\r\n       <path d=\"M 10.796875 72.90625 \r\nL 49.515625 72.90625 \r\nL 49.515625 64.59375 \r\nL 19.828125 64.59375 \r\nL 19.828125 46.734375 \r\nQ 21.96875 47.46875 24.109375 47.828125 \r\nQ 26.265625 48.1875 28.421875 48.1875 \r\nQ 40.625 48.1875 47.75 41.5 \r\nQ 54.890625 34.8125 54.890625 23.390625 \r\nQ 54.890625 11.625 47.5625 5.09375 \r\nQ 40.234375 -1.421875 26.90625 -1.421875 \r\nQ 22.3125 -1.421875 17.546875 -0.640625 \r\nQ 12.796875 0.140625 7.71875 1.703125 \r\nL 7.71875 11.625 \r\nQ 12.109375 9.234375 16.796875 8.0625 \r\nQ 21.484375 6.890625 26.703125 6.890625 \r\nQ 35.15625 6.890625 40.078125 11.328125 \r\nQ 45.015625 15.765625 45.015625 23.390625 \r\nQ 45.015625 31 40.078125 35.4375 \r\nQ 35.15625 39.890625 26.703125 39.890625 \r\nQ 22.75 39.890625 18.8125 39.015625 \r\nQ 14.890625 38.140625 10.796875 36.28125 \r\nz\r\n\" id=\"DejaVuSans-53\"/>\r\n      </defs>\r\n      <g transform=\"translate(608.83375 297.397656)scale(0.1 -0.1)\">\r\n       <use xlink:href=\"#DejaVuSans-53\"/>\r\n      </g>\r\n     </g>\r\n    </g>\r\n    <g id=\"text_7\">\r\n     <!-- Petal Width -->\r\n     <defs>\r\n      <path d=\"M 19.671875 64.796875 \r\nL 19.671875 37.40625 \r\nL 32.078125 37.40625 \r\nQ 38.96875 37.40625 42.71875 40.96875 \r\nQ 46.484375 44.53125 46.484375 51.125 \r\nQ 46.484375 57.671875 42.71875 61.234375 \r\nQ 38.96875 64.796875 32.078125 64.796875 \r\nz\r\nM 9.8125 72.90625 \r\nL 32.078125 72.90625 \r\nQ 44.34375 72.90625 50.609375 67.359375 \r\nQ 56.890625 61.8125 56.890625 51.125 \r\nQ 56.890625 40.328125 50.609375 34.8125 \r\nQ 44.34375 29.296875 32.078125 29.296875 \r\nL 19.671875 29.296875 \r\nL 19.671875 0 \r\nL 9.8125 0 \r\nz\r\n\" id=\"DejaVuSans-80\"/>\r\n      <path d=\"M 56.203125 29.59375 \r\nL 56.203125 25.203125 \r\nL 14.890625 25.203125 \r\nQ 15.484375 15.921875 20.484375 11.0625 \r\nQ 25.484375 6.203125 34.421875 6.203125 \r\nQ 39.59375 6.203125 44.453125 7.46875 \r\nQ 49.3125 8.734375 54.109375 11.28125 \r\nL 54.109375 2.78125 \r\nQ 49.265625 0.734375 44.1875 -0.34375 \r\nQ 39.109375 -1.421875 33.890625 -1.421875 \r\nQ 20.796875 -1.421875 13.15625 6.1875 \r\nQ 5.515625 13.8125 5.515625 26.8125 \r\nQ 5.515625 40.234375 12.765625 48.109375 \r\nQ 20.015625 56 32.328125 56 \r\nQ 43.359375 56 49.78125 48.890625 \r\nQ 56.203125 41.796875 56.203125 29.59375 \r\nz\r\nM 47.21875 32.234375 \r\nQ 47.125 39.59375 43.09375 43.984375 \r\nQ 39.0625 48.390625 32.421875 48.390625 \r\nQ 24.90625 48.390625 20.390625 44.140625 \r\nQ 15.875 39.890625 15.1875 32.171875 \r\nz\r\n\" id=\"DejaVuSans-101\"/>\r\n      <path d=\"M 18.3125 70.21875 \r\nL 18.3125 54.6875 \r\nL 36.8125 54.6875 \r\nL 36.8125 47.703125 \r\nL 18.3125 47.703125 \r\nL 18.3125 18.015625 \r\nQ 18.3125 11.328125 20.140625 9.421875 \r\nQ 21.96875 7.515625 27.59375 7.515625 \r\nL 36.8125 7.515625 \r\nL 36.8125 0 \r\nL 27.59375 0 \r\nQ 17.1875 0 13.234375 3.875 \r\nQ 9.28125 7.765625 9.28125 18.015625 \r\nL 9.28125 47.703125 \r\nL 2.6875 47.703125 \r\nL 2.6875 54.6875 \r\nL 9.28125 54.6875 \r\nL 9.28125 70.21875 \r\nz\r\n\" id=\"DejaVuSans-116\"/>\r\n      <path d=\"M 34.28125 27.484375 \r\nQ 23.390625 27.484375 19.1875 25 \r\nQ 14.984375 22.515625 14.984375 16.5 \r\nQ 14.984375 11.71875 18.140625 8.90625 \r\nQ 21.296875 6.109375 26.703125 6.109375 \r\nQ 34.1875 6.109375 38.703125 11.40625 \r\nQ 43.21875 16.703125 43.21875 25.484375 \r\nL 43.21875 27.484375 \r\nz\r\nM 52.203125 31.203125 \r\nL 52.203125 0 \r\nL 43.21875 0 \r\nL 43.21875 8.296875 \r\nQ 40.140625 3.328125 35.546875 0.953125 \r\nQ 30.953125 -1.421875 24.3125 -1.421875 \r\nQ 15.921875 -1.421875 10.953125 3.296875 \r\nQ 6 8.015625 6 15.921875 \r\nQ 6 25.140625 12.171875 29.828125 \r\nQ 18.359375 34.515625 30.609375 34.515625 \r\nL 43.21875 34.515625 \r\nL 43.21875 35.40625 \r\nQ 43.21875 41.609375 39.140625 45 \r\nQ 35.0625 48.390625 27.6875 48.390625 \r\nQ 23 48.390625 18.546875 47.265625 \r\nQ 14.109375 46.140625 10.015625 43.890625 \r\nL 10.015625 52.203125 \r\nQ 14.9375 54.109375 19.578125 55.046875 \r\nQ 24.21875 56 28.609375 56 \r\nQ 40.484375 56 46.34375 49.84375 \r\nQ 52.203125 43.703125 52.203125 31.203125 \r\nz\r\n\" id=\"DejaVuSans-97\"/>\r\n      <path d=\"M 9.421875 75.984375 \r\nL 18.40625 75.984375 \r\nL 18.40625 0 \r\nL 9.421875 0 \r\nz\r\n\" id=\"DejaVuSans-108\"/>\r\n      <path id=\"DejaVuSans-32\"/>\r\n      <path d=\"M 3.328125 72.90625 \r\nL 13.28125 72.90625 \r\nL 28.609375 11.28125 \r\nL 43.890625 72.90625 \r\nL 54.984375 72.90625 \r\nL 70.3125 11.28125 \r\nL 85.59375 72.90625 \r\nL 95.609375 72.90625 \r\nL 77.296875 0 \r\nL 64.890625 0 \r\nL 49.515625 63.28125 \r\nL 33.984375 0 \r\nL 21.578125 0 \r\nz\r\n\" id=\"DejaVuSans-87\"/>\r\n      <path d=\"M 9.421875 54.6875 \r\nL 18.40625 54.6875 \r\nL 18.40625 0 \r\nL 9.421875 0 \r\nz\r\nM 9.421875 75.984375 \r\nL 18.40625 75.984375 \r\nL 18.40625 64.59375 \r\nL 9.421875 64.59375 \r\nz\r\n\" id=\"DejaVuSans-105\"/>\r\n      <path d=\"M 45.40625 46.390625 \r\nL 45.40625 75.984375 \r\nL 54.390625 75.984375 \r\nL 54.390625 0 \r\nL 45.40625 0 \r\nL 45.40625 8.203125 \r\nQ 42.578125 3.328125 38.25 0.953125 \r\nQ 33.9375 -1.421875 27.875 -1.421875 \r\nQ 17.96875 -1.421875 11.734375 6.484375 \r\nQ 5.515625 14.40625 5.515625 27.296875 \r\nQ 5.515625 40.1875 11.734375 48.09375 \r\nQ 17.96875 56 27.875 56 \r\nQ 33.9375 56 38.25 53.625 \r\nQ 42.578125 51.265625 45.40625 46.390625 \r\nz\r\nM 14.796875 27.296875 \r\nQ 14.796875 17.390625 18.875 11.75 \r\nQ 22.953125 6.109375 30.078125 6.109375 \r\nQ 37.203125 6.109375 41.296875 11.75 \r\nQ 45.40625 17.390625 45.40625 27.296875 \r\nQ 45.40625 37.203125 41.296875 42.84375 \r\nQ 37.203125 48.484375 30.078125 48.484375 \r\nQ 22.953125 48.484375 18.875 42.84375 \r\nQ 14.796875 37.203125 14.796875 27.296875 \r\nz\r\n\" id=\"DejaVuSans-100\"/>\r\n      <path d=\"M 54.890625 33.015625 \r\nL 54.890625 0 \r\nL 45.90625 0 \r\nL 45.90625 32.71875 \r\nQ 45.90625 40.484375 42.875 44.328125 \r\nQ 39.84375 48.1875 33.796875 48.1875 \r\nQ 26.515625 48.1875 22.3125 43.546875 \r\nQ 18.109375 38.921875 18.109375 30.90625 \r\nL 18.109375 0 \r\nL 9.078125 0 \r\nL 9.078125 75.984375 \r\nL 18.109375 75.984375 \r\nL 18.109375 46.1875 \r\nQ 21.34375 51.125 25.703125 53.5625 \r\nQ 30.078125 56 35.796875 56 \r\nQ 45.21875 56 50.046875 50.171875 \r\nQ 54.890625 44.34375 54.890625 33.015625 \r\nz\r\n\" id=\"DejaVuSans-104\"/>\r\n     </defs>\r\n     <g transform=\"translate(320.698906 314.115156)scale(0.14 -0.14)\">\r\n      <use xlink:href=\"#DejaVuSans-80\"/>\r\n      <use x=\"60.255859\" xlink:href=\"#DejaVuSans-101\"/>\r\n      <use x=\"121.779297\" xlink:href=\"#DejaVuSans-116\"/>\r\n      <use x=\"160.988281\" xlink:href=\"#DejaVuSans-97\"/>\r\n      <use x=\"222.267578\" xlink:href=\"#DejaVuSans-108\"/>\r\n      <use x=\"250.050781\" xlink:href=\"#DejaVuSans-32\"/>\r\n      <use x=\"281.837891\" xlink:href=\"#DejaVuSans-87\"/>\r\n      <use x=\"380.683594\" xlink:href=\"#DejaVuSans-105\"/>\r\n      <use x=\"408.466797\" xlink:href=\"#DejaVuSans-100\"/>\r\n      <use x=\"471.943359\" xlink:href=\"#DejaVuSans-116\"/>\r\n      <use x=\"511.152344\" xlink:href=\"#DejaVuSans-104\"/>\r\n     </g>\r\n    </g>\r\n   </g>\r\n   <g id=\"matplotlib.axis_2\">\r\n    <g id=\"ytick_1\">\r\n     <g id=\"line2d_7\">\r\n      <defs>\r\n       <path d=\"M 0 0 \r\nL -3.5 0 \r\n\" id=\"mc6b6575fb8\" style=\"stroke:#000000;stroke-width:0.8;\"/>\r\n      </defs>\r\n      <g>\r\n       <use style=\"stroke:#000000;stroke-width:0.8;\" x=\"54.015\" xlink:href=\"#mc6b6575fb8\" y=\"282.799219\"/>\r\n      </g>\r\n     </g>\r\n     <g id=\"text_8\">\r\n      <!-- 0.00 -->\r\n      <defs>\r\n       <path d=\"M 10.6875 12.40625 \r\nL 21 12.40625 \r\nL 21 0 \r\nL 10.6875 0 \r\nz\r\n\" id=\"DejaVuSans-46\"/>\r\n      </defs>\r\n      <g transform=\"translate(24.749375 286.598437)scale(0.1 -0.1)\">\r\n       <use xlink:href=\"#DejaVuSans-48\"/>\r\n       <use x=\"63.623047\" xlink:href=\"#DejaVuSans-46\"/>\r\n       <use x=\"95.410156\" xlink:href=\"#DejaVuSans-48\"/>\r\n       <use x=\"159.033203\" xlink:href=\"#DejaVuSans-48\"/>\r\n      </g>\r\n     </g>\r\n    </g>\r\n    <g id=\"ytick_2\">\r\n     <g id=\"line2d_8\">\r\n      <g>\r\n       <use style=\"stroke:#000000;stroke-width:0.8;\" x=\"54.015\" xlink:href=\"#mc6b6575fb8\" y=\"248.824219\"/>\r\n      </g>\r\n     </g>\r\n     <g id=\"text_9\">\r\n      <!-- 0.25 -->\r\n      <g transform=\"translate(24.749375 252.623437)scale(0.1 -0.1)\">\r\n       <use xlink:href=\"#DejaVuSans-48\"/>\r\n       <use x=\"63.623047\" xlink:href=\"#DejaVuSans-46\"/>\r\n       <use x=\"95.410156\" xlink:href=\"#DejaVuSans-50\"/>\r\n       <use x=\"159.033203\" xlink:href=\"#DejaVuSans-53\"/>\r\n      </g>\r\n     </g>\r\n    </g>\r\n    <g id=\"ytick_3\">\r\n     <g id=\"line2d_9\">\r\n      <g>\r\n       <use style=\"stroke:#000000;stroke-width:0.8;\" x=\"54.015\" xlink:href=\"#mc6b6575fb8\" y=\"214.849219\"/>\r\n      </g>\r\n     </g>\r\n     <g id=\"text_10\">\r\n      <!-- 0.50 -->\r\n      <g transform=\"translate(24.749375 218.648437)scale(0.1 -0.1)\">\r\n       <use xlink:href=\"#DejaVuSans-48\"/>\r\n       <use x=\"63.623047\" xlink:href=\"#DejaVuSans-46\"/>\r\n       <use x=\"95.410156\" xlink:href=\"#DejaVuSans-53\"/>\r\n       <use x=\"159.033203\" xlink:href=\"#DejaVuSans-48\"/>\r\n      </g>\r\n     </g>\r\n    </g>\r\n    <g id=\"ytick_4\">\r\n     <g id=\"line2d_10\">\r\n      <g>\r\n       <use style=\"stroke:#000000;stroke-width:0.8;\" x=\"54.015\" xlink:href=\"#mc6b6575fb8\" y=\"180.874219\"/>\r\n      </g>\r\n     </g>\r\n     <g id=\"text_11\">\r\n      <!-- 0.75 -->\r\n      <defs>\r\n       <path d=\"M 8.203125 72.90625 \r\nL 55.078125 72.90625 \r\nL 55.078125 68.703125 \r\nL 28.609375 0 \r\nL 18.3125 0 \r\nL 43.21875 64.59375 \r\nL 8.203125 64.59375 \r\nz\r\n\" id=\"DejaVuSans-55\"/>\r\n      </defs>\r\n      <g transform=\"translate(24.749375 184.673437)scale(0.1 -0.1)\">\r\n       <use xlink:href=\"#DejaVuSans-48\"/>\r\n       <use x=\"63.623047\" xlink:href=\"#DejaVuSans-46\"/>\r\n       <use x=\"95.410156\" xlink:href=\"#DejaVuSans-55\"/>\r\n       <use x=\"159.033203\" xlink:href=\"#DejaVuSans-53\"/>\r\n      </g>\r\n     </g>\r\n    </g>\r\n    <g id=\"ytick_5\">\r\n     <g id=\"line2d_11\">\r\n      <g>\r\n       <use style=\"stroke:#000000;stroke-width:0.8;\" x=\"54.015\" xlink:href=\"#mc6b6575fb8\" y=\"146.899219\"/>\r\n      </g>\r\n     </g>\r\n     <g id=\"text_12\">\r\n      <!-- 1.00 -->\r\n      <g transform=\"translate(24.749375 150.698437)scale(0.1 -0.1)\">\r\n       <use xlink:href=\"#DejaVuSans-49\"/>\r\n       <use x=\"63.623047\" xlink:href=\"#DejaVuSans-46\"/>\r\n       <use x=\"95.410156\" xlink:href=\"#DejaVuSans-48\"/>\r\n       <use x=\"159.033203\" xlink:href=\"#DejaVuSans-48\"/>\r\n      </g>\r\n     </g>\r\n    </g>\r\n    <g id=\"ytick_6\">\r\n     <g id=\"line2d_12\">\r\n      <g>\r\n       <use style=\"stroke:#000000;stroke-width:0.8;\" x=\"54.015\" xlink:href=\"#mc6b6575fb8\" y=\"112.924219\"/>\r\n      </g>\r\n     </g>\r\n     <g id=\"text_13\">\r\n      <!-- 1.25 -->\r\n      <g transform=\"translate(24.749375 116.723437)scale(0.1 -0.1)\">\r\n       <use xlink:href=\"#DejaVuSans-49\"/>\r\n       <use x=\"63.623047\" xlink:href=\"#DejaVuSans-46\"/>\r\n       <use x=\"95.410156\" xlink:href=\"#DejaVuSans-50\"/>\r\n       <use x=\"159.033203\" xlink:href=\"#DejaVuSans-53\"/>\r\n      </g>\r\n     </g>\r\n    </g>\r\n    <g id=\"ytick_7\">\r\n     <g id=\"line2d_13\">\r\n      <g>\r\n       <use style=\"stroke:#000000;stroke-width:0.8;\" x=\"54.015\" xlink:href=\"#mc6b6575fb8\" y=\"78.949219\"/>\r\n      </g>\r\n     </g>\r\n     <g id=\"text_14\">\r\n      <!-- 1.50 -->\r\n      <g transform=\"translate(24.749375 82.748437)scale(0.1 -0.1)\">\r\n       <use xlink:href=\"#DejaVuSans-49\"/>\r\n       <use x=\"63.623047\" xlink:href=\"#DejaVuSans-46\"/>\r\n       <use x=\"95.410156\" xlink:href=\"#DejaVuSans-53\"/>\r\n       <use x=\"159.033203\" xlink:href=\"#DejaVuSans-48\"/>\r\n      </g>\r\n     </g>\r\n    </g>\r\n    <g id=\"ytick_8\">\r\n     <g id=\"line2d_14\">\r\n      <g>\r\n       <use style=\"stroke:#000000;stroke-width:0.8;\" x=\"54.015\" xlink:href=\"#mc6b6575fb8\" y=\"44.974219\"/>\r\n      </g>\r\n     </g>\r\n     <g id=\"text_15\">\r\n      <!-- 1.75 -->\r\n      <g transform=\"translate(24.749375 48.773438)scale(0.1 -0.1)\">\r\n       <use xlink:href=\"#DejaVuSans-49\"/>\r\n       <use x=\"63.623047\" xlink:href=\"#DejaVuSans-46\"/>\r\n       <use x=\"95.410156\" xlink:href=\"#DejaVuSans-55\"/>\r\n       <use x=\"159.033203\" xlink:href=\"#DejaVuSans-53\"/>\r\n      </g>\r\n     </g>\r\n    </g>\r\n    <g id=\"ytick_9\">\r\n     <g id=\"line2d_15\">\r\n      <g>\r\n       <use style=\"stroke:#000000;stroke-width:0.8;\" x=\"54.015\" xlink:href=\"#mc6b6575fb8\" y=\"10.999219\"/>\r\n      </g>\r\n     </g>\r\n     <g id=\"text_16\">\r\n      <!-- 2.00 -->\r\n      <g transform=\"translate(24.749375 14.798437)scale(0.1 -0.1)\">\r\n       <use xlink:href=\"#DejaVuSans-50\"/>\r\n       <use x=\"63.623047\" xlink:href=\"#DejaVuSans-46\"/>\r\n       <use x=\"95.410156\" xlink:href=\"#DejaVuSans-48\"/>\r\n       <use x=\"159.033203\" xlink:href=\"#DejaVuSans-48\"/>\r\n      </g>\r\n     </g>\r\n    </g>\r\n    <g id=\"text_17\">\r\n     <!-- Petal length -->\r\n     <defs>\r\n      <path d=\"M 54.890625 33.015625 \r\nL 54.890625 0 \r\nL 45.90625 0 \r\nL 45.90625 32.71875 \r\nQ 45.90625 40.484375 42.875 44.328125 \r\nQ 39.84375 48.1875 33.796875 48.1875 \r\nQ 26.515625 48.1875 22.3125 43.546875 \r\nQ 18.109375 38.921875 18.109375 30.90625 \r\nL 18.109375 0 \r\nL 9.078125 0 \r\nL 9.078125 54.6875 \r\nL 18.109375 54.6875 \r\nL 18.109375 46.1875 \r\nQ 21.34375 51.125 25.703125 53.5625 \r\nQ 30.078125 56 35.796875 56 \r\nQ 45.21875 56 50.046875 50.171875 \r\nQ 54.890625 44.34375 54.890625 33.015625 \r\nz\r\n\" id=\"DejaVuSans-110\"/>\r\n      <path d=\"M 45.40625 27.984375 \r\nQ 45.40625 37.75 41.375 43.109375 \r\nQ 37.359375 48.484375 30.078125 48.484375 \r\nQ 22.859375 48.484375 18.828125 43.109375 \r\nQ 14.796875 37.75 14.796875 27.984375 \r\nQ 14.796875 18.265625 18.828125 12.890625 \r\nQ 22.859375 7.515625 30.078125 7.515625 \r\nQ 37.359375 7.515625 41.375 12.890625 \r\nQ 45.40625 18.265625 45.40625 27.984375 \r\nz\r\nM 54.390625 6.78125 \r\nQ 54.390625 -7.171875 48.1875 -13.984375 \r\nQ 42 -20.796875 29.203125 -20.796875 \r\nQ 24.46875 -20.796875 20.265625 -20.09375 \r\nQ 16.0625 -19.390625 12.109375 -17.921875 \r\nL 12.109375 -9.1875 \r\nQ 16.0625 -11.328125 19.921875 -12.34375 \r\nQ 23.78125 -13.375 27.78125 -13.375 \r\nQ 36.625 -13.375 41.015625 -8.765625 \r\nQ 45.40625 -4.15625 45.40625 5.171875 \r\nL 45.40625 9.625 \r\nQ 42.625 4.78125 38.28125 2.390625 \r\nQ 33.9375 0 27.875 0 \r\nQ 17.828125 0 11.671875 7.65625 \r\nQ 5.515625 15.328125 5.515625 27.984375 \r\nQ 5.515625 40.671875 11.671875 48.328125 \r\nQ 17.828125 56 27.875 56 \r\nQ 33.9375 56 38.28125 53.609375 \r\nQ 42.625 51.21875 45.40625 46.390625 \r\nL 45.40625 54.6875 \r\nL 54.390625 54.6875 \r\nz\r\n\" id=\"DejaVuSans-103\"/>\r\n     </defs>\r\n     <g transform=\"translate(17.837812 188.939687)rotate(-90)scale(0.14 -0.14)\">\r\n      <use xlink:href=\"#DejaVuSans-80\"/>\r\n      <use x=\"60.255859\" xlink:href=\"#DejaVuSans-101\"/>\r\n      <use x=\"121.779297\" xlink:href=\"#DejaVuSans-116\"/>\r\n      <use x=\"160.988281\" xlink:href=\"#DejaVuSans-97\"/>\r\n      <use x=\"222.267578\" xlink:href=\"#DejaVuSans-108\"/>\r\n      <use x=\"250.050781\" xlink:href=\"#DejaVuSans-32\"/>\r\n      <use x=\"281.837891\" xlink:href=\"#DejaVuSans-108\"/>\r\n      <use x=\"309.621094\" xlink:href=\"#DejaVuSans-101\"/>\r\n      <use x=\"371.144531\" xlink:href=\"#DejaVuSans-110\"/>\r\n      <use x=\"434.523438\" xlink:href=\"#DejaVuSans-103\"/>\r\n      <use x=\"498\" xlink:href=\"#DejaVuSans-116\"/>\r\n      <use x=\"537.208984\" xlink:href=\"#DejaVuSans-104\"/>\r\n     </g>\r\n    </g>\r\n   </g>\r\n   <g id=\"line2d_16\">\r\n    <path clip-path=\"url(#p8e3226f399)\" d=\"M -1 25.409695 \r\nL 657.693004 325.226719 \r\n\" style=\"fill:none;stroke:#000000;stroke-dasharray:1.5,2.475;stroke-dashoffset:0;stroke-width:1.5;\"/>\r\n   </g>\r\n   <g id=\"line2d_17\">\r\n    <path clip-path=\"url(#p8e3226f399)\" d=\"M -1 5.73317 \r\nL 615.427703 325.226719 \r\n\" style=\"fill:none;stroke:#0000ff;stroke-dasharray:5.55,2.4;stroke-dashoffset:0;stroke-width:1.5;\"/>\r\n   </g>\r\n   <g id=\"line2d_18\">\r\n    <path clip-path=\"url(#p8e3226f399)\" d=\"M -0.929772 -1 \r\nL 644.205278 325.226719 \r\n\" style=\"fill:none;stroke:#ff0000;stroke-linecap:square;stroke-width:1.5;\"/>\r\n   </g>\r\n   <g id=\"line2d_19\">\r\n    <defs>\r\n     <path d=\"M -3 3 \r\nL 3 3 \r\nL 3 -3 \r\nL -3 -3 \r\nz\r\n\" id=\"m5c381b48a9\" style=\"stroke:#0000ff;stroke-linejoin:miter;\"/>\r\n    </defs>\r\n    <g clip-path=\"url(#p8e3226f399)\">\r\n     <use style=\"fill:#0000ff;stroke:#0000ff;stroke-linejoin:miter;\" x=\"578.535\" xlink:href=\"#m5c381b48a9\" y=\"92.539219\"/>\r\n     <use style=\"fill:#0000ff;stroke:#0000ff;stroke-linejoin:miter;\" x=\"556.215\" xlink:href=\"#m5c381b48a9\" y=\"78.949219\"/>\r\n     <use style=\"fill:#0000ff;stroke:#0000ff;stroke-linejoin:miter;\" x=\"600.855\" xlink:href=\"#m5c381b48a9\" y=\"78.949219\"/>\r\n     <use style=\"fill:#0000ff;stroke:#0000ff;stroke-linejoin:miter;\" x=\"500.415\" xlink:href=\"#m5c381b48a9\" y=\"106.129219\"/>\r\n     <use style=\"fill:#0000ff;stroke:#0000ff;stroke-linejoin:miter;\" x=\"567.375\" xlink:href=\"#m5c381b48a9\" y=\"78.949219\"/>\r\n     <use style=\"fill:#0000ff;stroke:#0000ff;stroke-linejoin:miter;\" x=\"556.215\" xlink:href=\"#m5c381b48a9\" y=\"106.129219\"/>\r\n     <use style=\"fill:#0000ff;stroke:#0000ff;stroke-linejoin:miter;\" x=\"578.535\" xlink:href=\"#m5c381b48a9\" y=\"65.359219\"/>\r\n     <use style=\"fill:#0000ff;stroke:#0000ff;stroke-linejoin:miter;\" x=\"422.295\" xlink:href=\"#m5c381b48a9\" y=\"146.899219\"/>\r\n     <use style=\"fill:#0000ff;stroke:#0000ff;stroke-linejoin:miter;\" x=\"567.375\" xlink:href=\"#m5c381b48a9\" y=\"106.129219\"/>\r\n     <use style=\"fill:#0000ff;stroke:#0000ff;stroke-linejoin:miter;\" x=\"489.255\" xlink:href=\"#m5c381b48a9\" y=\"92.539219\"/>\r\n     <use style=\"fill:#0000ff;stroke:#0000ff;stroke-linejoin:miter;\" x=\"444.615\" xlink:href=\"#m5c381b48a9\" y=\"146.899219\"/>\r\n     <use style=\"fill:#0000ff;stroke:#0000ff;stroke-linejoin:miter;\" x=\"522.735\" xlink:href=\"#m5c381b48a9\" y=\"78.949219\"/>\r\n     <use style=\"fill:#0000ff;stroke:#0000ff;stroke-linejoin:miter;\" x=\"500.415\" xlink:href=\"#m5c381b48a9\" y=\"146.899219\"/>\r\n     <use style=\"fill:#0000ff;stroke:#0000ff;stroke-linejoin:miter;\" x=\"578.535\" xlink:href=\"#m5c381b48a9\" y=\"92.539219\"/>\r\n     <use style=\"fill:#0000ff;stroke:#0000ff;stroke-linejoin:miter;\" x=\"455.775\" xlink:href=\"#m5c381b48a9\" y=\"106.129219\"/>\r\n     <use style=\"fill:#0000ff;stroke:#0000ff;stroke-linejoin:miter;\" x=\"545.055\" xlink:href=\"#m5c381b48a9\" y=\"92.539219\"/>\r\n     <use style=\"fill:#0000ff;stroke:#0000ff;stroke-linejoin:miter;\" x=\"556.215\" xlink:href=\"#m5c381b48a9\" y=\"78.949219\"/>\r\n     <use style=\"fill:#0000ff;stroke:#0000ff;stroke-linejoin:miter;\" x=\"511.575\" xlink:href=\"#m5c381b48a9\" y=\"146.899219\"/>\r\n     <use style=\"fill:#0000ff;stroke:#0000ff;stroke-linejoin:miter;\" x=\"556.215\" xlink:href=\"#m5c381b48a9\" y=\"78.949219\"/>\r\n     <use style=\"fill:#0000ff;stroke:#0000ff;stroke-linejoin:miter;\" x=\"489.255\" xlink:href=\"#m5c381b48a9\" y=\"133.309219\"/>\r\n     <use style=\"fill:#0000ff;stroke:#0000ff;stroke-linejoin:miter;\" x=\"589.695\" xlink:href=\"#m5c381b48a9\" y=\"38.179219\"/>\r\n     <use style=\"fill:#0000ff;stroke:#0000ff;stroke-linejoin:miter;\" x=\"500.415\" xlink:href=\"#m5c381b48a9\" y=\"106.129219\"/>\r\n     <use style=\"fill:#0000ff;stroke:#0000ff;stroke-linejoin:miter;\" x=\"600.855\" xlink:href=\"#m5c381b48a9\" y=\"78.949219\"/>\r\n     <use style=\"fill:#0000ff;stroke:#0000ff;stroke-linejoin:miter;\" x=\"578.535\" xlink:href=\"#m5c381b48a9\" y=\"119.719219\"/>\r\n     <use style=\"fill:#0000ff;stroke:#0000ff;stroke-linejoin:miter;\" x=\"533.895\" xlink:href=\"#m5c381b48a9\" y=\"106.129219\"/>\r\n     <use style=\"fill:#0000ff;stroke:#0000ff;stroke-linejoin:miter;\" x=\"545.055\" xlink:href=\"#m5c381b48a9\" y=\"92.539219\"/>\r\n     <use style=\"fill:#0000ff;stroke:#0000ff;stroke-linejoin:miter;\" x=\"589.695\" xlink:href=\"#m5c381b48a9\" y=\"92.539219\"/>\r\n     <use style=\"fill:#0000ff;stroke:#0000ff;stroke-linejoin:miter;\" x=\"612.015\" xlink:href=\"#m5c381b48a9\" y=\"51.769219\"/>\r\n     <use style=\"fill:#0000ff;stroke:#0000ff;stroke-linejoin:miter;\" x=\"556.215\" xlink:href=\"#m5c381b48a9\" y=\"78.949219\"/>\r\n     <use style=\"fill:#0000ff;stroke:#0000ff;stroke-linejoin:miter;\" x=\"444.615\" xlink:href=\"#m5c381b48a9\" y=\"146.899219\"/>\r\n     <use style=\"fill:#0000ff;stroke:#0000ff;stroke-linejoin:miter;\" x=\"478.095\" xlink:href=\"#m5c381b48a9\" y=\"133.309219\"/>\r\n     <use style=\"fill:#0000ff;stroke:#0000ff;stroke-linejoin:miter;\" x=\"466.935\" xlink:href=\"#m5c381b48a9\" y=\"146.899219\"/>\r\n     <use style=\"fill:#0000ff;stroke:#0000ff;stroke-linejoin:miter;\" x=\"489.255\" xlink:href=\"#m5c381b48a9\" y=\"119.719219\"/>\r\n     <use style=\"fill:#0000ff;stroke:#0000ff;stroke-linejoin:miter;\" x=\"623.175\" xlink:href=\"#m5c381b48a9\" y=\"65.359219\"/>\r\n     <use style=\"fill:#0000ff;stroke:#0000ff;stroke-linejoin:miter;\" x=\"556.215\" xlink:href=\"#m5c381b48a9\" y=\"78.949219\"/>\r\n     <use style=\"fill:#0000ff;stroke:#0000ff;stroke-linejoin:miter;\" x=\"556.215\" xlink:href=\"#m5c381b48a9\" y=\"65.359219\"/>\r\n     <use style=\"fill:#0000ff;stroke:#0000ff;stroke-linejoin:miter;\" x=\"578.535\" xlink:href=\"#m5c381b48a9\" y=\"78.949219\"/>\r\n     <use style=\"fill:#0000ff;stroke:#0000ff;stroke-linejoin:miter;\" x=\"545.055\" xlink:href=\"#m5c381b48a9\" y=\"106.129219\"/>\r\n     <use style=\"fill:#0000ff;stroke:#0000ff;stroke-linejoin:miter;\" x=\"511.575\" xlink:href=\"#m5c381b48a9\" y=\"106.129219\"/>\r\n     <use style=\"fill:#0000ff;stroke:#0000ff;stroke-linejoin:miter;\" x=\"500.415\" xlink:href=\"#m5c381b48a9\" y=\"106.129219\"/>\r\n     <use style=\"fill:#0000ff;stroke:#0000ff;stroke-linejoin:miter;\" x=\"545.055\" xlink:href=\"#m5c381b48a9\" y=\"119.719219\"/>\r\n     <use style=\"fill:#0000ff;stroke:#0000ff;stroke-linejoin:miter;\" x=\"567.375\" xlink:href=\"#m5c381b48a9\" y=\"92.539219\"/>\r\n     <use style=\"fill:#0000ff;stroke:#0000ff;stroke-linejoin:miter;\" x=\"500.415\" xlink:href=\"#m5c381b48a9\" y=\"119.719219\"/>\r\n     <use style=\"fill:#0000ff;stroke:#0000ff;stroke-linejoin:miter;\" x=\"422.295\" xlink:href=\"#m5c381b48a9\" y=\"146.899219\"/>\r\n     <use style=\"fill:#0000ff;stroke:#0000ff;stroke-linejoin:miter;\" x=\"522.735\" xlink:href=\"#m5c381b48a9\" y=\"106.129219\"/>\r\n     <use style=\"fill:#0000ff;stroke:#0000ff;stroke-linejoin:miter;\" x=\"522.735\" xlink:href=\"#m5c381b48a9\" y=\"119.719219\"/>\r\n     <use style=\"fill:#0000ff;stroke:#0000ff;stroke-linejoin:miter;\" x=\"522.735\" xlink:href=\"#m5c381b48a9\" y=\"106.129219\"/>\r\n     <use style=\"fill:#0000ff;stroke:#0000ff;stroke-linejoin:miter;\" x=\"533.895\" xlink:href=\"#m5c381b48a9\" y=\"106.129219\"/>\r\n     <use style=\"fill:#0000ff;stroke:#0000ff;stroke-linejoin:miter;\" x=\"388.815\" xlink:href=\"#m5c381b48a9\" y=\"133.309219\"/>\r\n     <use style=\"fill:#0000ff;stroke:#0000ff;stroke-linejoin:miter;\" x=\"511.575\" xlink:href=\"#m5c381b48a9\" y=\"106.129219\"/>\r\n    </g>\r\n   </g>\r\n   <g id=\"line2d_20\">\r\n    <defs>\r\n     <path d=\"M 0 3 \r\nC 0.795609 3 1.55874 2.683901 2.12132 2.12132 \r\nC 2.683901 1.55874 3 0.795609 3 0 \r\nC 3 -0.795609 2.683901 -1.55874 2.12132 -2.12132 \r\nC 1.55874 -2.683901 0.795609 -3 0 -3 \r\nC -0.795609 -3 -1.55874 -2.683901 -2.12132 -2.12132 \r\nC -2.683901 -1.55874 -3 -0.795609 -3 0 \r\nC -3 0.795609 -2.683901 1.55874 -2.12132 2.12132 \r\nC -1.55874 2.683901 -0.795609 3 0 3 \r\nz\r\n\" id=\"m18569e4aa9\" style=\"stroke:#bfbf00;\"/>\r\n    </defs>\r\n    <g clip-path=\"url(#p8e3226f399)\">\r\n     <use style=\"fill:#bfbf00;stroke:#bfbf00;\" x=\"210.255\" xlink:href=\"#m18569e4aa9\" y=\"255.619219\"/>\r\n     <use style=\"fill:#bfbf00;stroke:#bfbf00;\" x=\"210.255\" xlink:href=\"#m18569e4aa9\" y=\"255.619219\"/>\r\n     <use style=\"fill:#bfbf00;stroke:#bfbf00;\" x=\"199.095\" xlink:href=\"#m18569e4aa9\" y=\"255.619219\"/>\r\n     <use style=\"fill:#bfbf00;stroke:#bfbf00;\" x=\"221.415\" xlink:href=\"#m18569e4aa9\" y=\"255.619219\"/>\r\n     <use style=\"fill:#bfbf00;stroke:#bfbf00;\" x=\"210.255\" xlink:href=\"#m18569e4aa9\" y=\"255.619219\"/>\r\n     <use style=\"fill:#bfbf00;stroke:#bfbf00;\" x=\"243.735\" xlink:href=\"#m18569e4aa9\" y=\"228.439219\"/>\r\n     <use style=\"fill:#bfbf00;stroke:#bfbf00;\" x=\"210.255\" xlink:href=\"#m18569e4aa9\" y=\"242.029219\"/>\r\n     <use style=\"fill:#bfbf00;stroke:#bfbf00;\" x=\"221.415\" xlink:href=\"#m18569e4aa9\" y=\"255.619219\"/>\r\n     <use style=\"fill:#bfbf00;stroke:#bfbf00;\" x=\"210.255\" xlink:href=\"#m18569e4aa9\" y=\"255.619219\"/>\r\n     <use style=\"fill:#bfbf00;stroke:#bfbf00;\" x=\"221.415\" xlink:href=\"#m18569e4aa9\" y=\"269.209219\"/>\r\n     <use style=\"fill:#bfbf00;stroke:#bfbf00;\" x=\"221.415\" xlink:href=\"#m18569e4aa9\" y=\"255.619219\"/>\r\n     <use style=\"fill:#bfbf00;stroke:#bfbf00;\" x=\"232.575\" xlink:href=\"#m18569e4aa9\" y=\"255.619219\"/>\r\n     <use style=\"fill:#bfbf00;stroke:#bfbf00;\" x=\"210.255\" xlink:href=\"#m18569e4aa9\" y=\"269.209219\"/>\r\n     <use style=\"fill:#bfbf00;stroke:#bfbf00;\" x=\"176.775\" xlink:href=\"#m18569e4aa9\" y=\"269.209219\"/>\r\n     <use style=\"fill:#bfbf00;stroke:#bfbf00;\" x=\"187.935\" xlink:href=\"#m18569e4aa9\" y=\"255.619219\"/>\r\n     <use style=\"fill:#bfbf00;stroke:#bfbf00;\" x=\"221.415\" xlink:href=\"#m18569e4aa9\" y=\"228.439219\"/>\r\n     <use style=\"fill:#bfbf00;stroke:#bfbf00;\" x=\"199.095\" xlink:href=\"#m18569e4aa9\" y=\"228.439219\"/>\r\n     <use style=\"fill:#bfbf00;stroke:#bfbf00;\" x=\"210.255\" xlink:href=\"#m18569e4aa9\" y=\"242.029219\"/>\r\n     <use style=\"fill:#bfbf00;stroke:#bfbf00;\" x=\"243.735\" xlink:href=\"#m18569e4aa9\" y=\"242.029219\"/>\r\n     <use style=\"fill:#bfbf00;stroke:#bfbf00;\" x=\"221.415\" xlink:href=\"#m18569e4aa9\" y=\"242.029219\"/>\r\n     <use style=\"fill:#bfbf00;stroke:#bfbf00;\" x=\"243.735\" xlink:href=\"#m18569e4aa9\" y=\"255.619219\"/>\r\n     <use style=\"fill:#bfbf00;stroke:#bfbf00;\" x=\"221.415\" xlink:href=\"#m18569e4aa9\" y=\"228.439219\"/>\r\n     <use style=\"fill:#bfbf00;stroke:#bfbf00;\" x=\"165.615\" xlink:href=\"#m18569e4aa9\" y=\"255.619219\"/>\r\n     <use style=\"fill:#bfbf00;stroke:#bfbf00;\" x=\"243.735\" xlink:href=\"#m18569e4aa9\" y=\"214.849219\"/>\r\n     <use style=\"fill:#bfbf00;stroke:#bfbf00;\" x=\"266.055\" xlink:href=\"#m18569e4aa9\" y=\"255.619219\"/>\r\n     <use style=\"fill:#bfbf00;stroke:#bfbf00;\" x=\"232.575\" xlink:href=\"#m18569e4aa9\" y=\"255.619219\"/>\r\n     <use style=\"fill:#bfbf00;stroke:#bfbf00;\" x=\"232.575\" xlink:href=\"#m18569e4aa9\" y=\"228.439219\"/>\r\n     <use style=\"fill:#bfbf00;stroke:#bfbf00;\" x=\"221.415\" xlink:href=\"#m18569e4aa9\" y=\"255.619219\"/>\r\n     <use style=\"fill:#bfbf00;stroke:#bfbf00;\" x=\"210.255\" xlink:href=\"#m18569e4aa9\" y=\"255.619219\"/>\r\n     <use style=\"fill:#bfbf00;stroke:#bfbf00;\" x=\"232.575\" xlink:href=\"#m18569e4aa9\" y=\"255.619219\"/>\r\n     <use style=\"fill:#bfbf00;stroke:#bfbf00;\" x=\"232.575\" xlink:href=\"#m18569e4aa9\" y=\"255.619219\"/>\r\n     <use style=\"fill:#bfbf00;stroke:#bfbf00;\" x=\"221.415\" xlink:href=\"#m18569e4aa9\" y=\"228.439219\"/>\r\n     <use style=\"fill:#bfbf00;stroke:#bfbf00;\" x=\"221.415\" xlink:href=\"#m18569e4aa9\" y=\"269.209219\"/>\r\n     <use style=\"fill:#bfbf00;stroke:#bfbf00;\" x=\"210.255\" xlink:href=\"#m18569e4aa9\" y=\"255.619219\"/>\r\n     <use style=\"fill:#bfbf00;stroke:#bfbf00;\" x=\"221.415\" xlink:href=\"#m18569e4aa9\" y=\"255.619219\"/>\r\n     <use style=\"fill:#bfbf00;stroke:#bfbf00;\" x=\"187.935\" xlink:href=\"#m18569e4aa9\" y=\"255.619219\"/>\r\n     <use style=\"fill:#bfbf00;stroke:#bfbf00;\" x=\"199.095\" xlink:href=\"#m18569e4aa9\" y=\"255.619219\"/>\r\n     <use style=\"fill:#bfbf00;stroke:#bfbf00;\" x=\"210.255\" xlink:href=\"#m18569e4aa9\" y=\"269.209219\"/>\r\n     <use style=\"fill:#bfbf00;stroke:#bfbf00;\" x=\"199.095\" xlink:href=\"#m18569e4aa9\" y=\"255.619219\"/>\r\n     <use style=\"fill:#bfbf00;stroke:#bfbf00;\" x=\"221.415\" xlink:href=\"#m18569e4aa9\" y=\"255.619219\"/>\r\n     <use style=\"fill:#bfbf00;stroke:#bfbf00;\" x=\"199.095\" xlink:href=\"#m18569e4aa9\" y=\"242.029219\"/>\r\n     <use style=\"fill:#bfbf00;stroke:#bfbf00;\" x=\"199.095\" xlink:href=\"#m18569e4aa9\" y=\"242.029219\"/>\r\n     <use style=\"fill:#bfbf00;stroke:#bfbf00;\" x=\"199.095\" xlink:href=\"#m18569e4aa9\" y=\"255.619219\"/>\r\n     <use style=\"fill:#bfbf00;stroke:#bfbf00;\" x=\"232.575\" xlink:href=\"#m18569e4aa9\" y=\"201.259219\"/>\r\n     <use style=\"fill:#bfbf00;stroke:#bfbf00;\" x=\"266.055\" xlink:href=\"#m18569e4aa9\" y=\"228.439219\"/>\r\n     <use style=\"fill:#bfbf00;stroke:#bfbf00;\" x=\"210.255\" xlink:href=\"#m18569e4aa9\" y=\"242.029219\"/>\r\n     <use style=\"fill:#bfbf00;stroke:#bfbf00;\" x=\"232.575\" xlink:href=\"#m18569e4aa9\" y=\"255.619219\"/>\r\n     <use style=\"fill:#bfbf00;stroke:#bfbf00;\" x=\"210.255\" xlink:href=\"#m18569e4aa9\" y=\"255.619219\"/>\r\n     <use style=\"fill:#bfbf00;stroke:#bfbf00;\" x=\"221.415\" xlink:href=\"#m18569e4aa9\" y=\"255.619219\"/>\r\n     <use style=\"fill:#bfbf00;stroke:#bfbf00;\" x=\"210.255\" xlink:href=\"#m18569e4aa9\" y=\"255.619219\"/>\r\n    </g>\r\n   </g>\r\n   <g id=\"patch_3\">\r\n    <path d=\"M 54.015 282.799219 \r\nL 54.015 10.999219 \r\n\" style=\"fill:none;stroke:#000000;stroke-linecap:square;stroke-linejoin:miter;stroke-width:0.8;\"/>\r\n   </g>\r\n   <g id=\"patch_4\">\r\n    <path d=\"M 667.815 282.799219 \r\nL 667.815 10.999219 \r\n\" style=\"fill:none;stroke:#000000;stroke-linecap:square;stroke-linejoin:miter;stroke-width:0.8;\"/>\r\n   </g>\r\n   <g id=\"patch_5\">\r\n    <path d=\"M 54.015 282.799219 \r\nL 667.815 282.799219 \r\n\" style=\"fill:none;stroke:#000000;stroke-linecap:square;stroke-linejoin:miter;stroke-width:0.8;\"/>\r\n   </g>\r\n   <g id=\"patch_6\">\r\n    <path d=\"M 54.015 10.999219 \r\nL 667.815 10.999219 \r\n\" style=\"fill:none;stroke:#000000;stroke-linecap:square;stroke-linejoin:miter;stroke-width:0.8;\"/>\r\n   </g>\r\n   <g id=\"legend_1\">\r\n    <g id=\"patch_7\">\r\n     <path d=\"M 300.414219 83.847344 \r\nL 421.415781 83.847344 \r\nQ 424.215781 83.847344 424.215781 81.047344 \r\nL 424.215781 20.799219 \r\nQ 424.215781 17.999219 421.415781 17.999219 \r\nL 300.414219 17.999219 \r\nQ 297.614219 17.999219 297.614219 20.799219 \r\nL 297.614219 81.047344 \r\nQ 297.614219 83.847344 300.414219 83.847344 \r\nz\r\n\" style=\"fill:#ffffff;opacity:0.8;stroke:#cccccc;stroke-linejoin:miter;\"/>\r\n    </g>\r\n    <g id=\"line2d_21\">\r\n     <path d=\"M 303.214219 29.337031 \r\nL 331.214219 29.337031 \r\n\" style=\"fill:none;stroke:#000000;stroke-dasharray:1.5,2.475;stroke-dashoffset:0;stroke-width:1.5;\"/>\r\n    </g>\r\n    <g id=\"line2d_22\"/>\r\n    <g id=\"text_18\">\r\n     <!-- Linear SVC -->\r\n     <defs>\r\n      <path d=\"M 9.8125 72.90625 \r\nL 19.671875 72.90625 \r\nL 19.671875 8.296875 \r\nL 55.171875 8.296875 \r\nL 55.171875 0 \r\nL 9.8125 0 \r\nz\r\n\" id=\"DejaVuSans-76\"/>\r\n      <path d=\"M 41.109375 46.296875 \r\nQ 39.59375 47.171875 37.8125 47.578125 \r\nQ 36.03125 48 33.890625 48 \r\nQ 26.265625 48 22.1875 43.046875 \r\nQ 18.109375 38.09375 18.109375 28.8125 \r\nL 18.109375 0 \r\nL 9.078125 0 \r\nL 9.078125 54.6875 \r\nL 18.109375 54.6875 \r\nL 18.109375 46.1875 \r\nQ 20.953125 51.171875 25.484375 53.578125 \r\nQ 30.03125 56 36.53125 56 \r\nQ 37.453125 56 38.578125 55.875 \r\nQ 39.703125 55.765625 41.0625 55.515625 \r\nz\r\n\" id=\"DejaVuSans-114\"/>\r\n      <path d=\"M 53.515625 70.515625 \r\nL 53.515625 60.890625 \r\nQ 47.90625 63.578125 42.921875 64.890625 \r\nQ 37.9375 66.21875 33.296875 66.21875 \r\nQ 25.25 66.21875 20.875 63.09375 \r\nQ 16.5 59.96875 16.5 54.203125 \r\nQ 16.5 49.359375 19.40625 46.890625 \r\nQ 22.3125 44.4375 30.421875 42.921875 \r\nL 36.375 41.703125 \r\nQ 47.40625 39.59375 52.65625 34.296875 \r\nQ 57.90625 29 57.90625 20.125 \r\nQ 57.90625 9.515625 50.796875 4.046875 \r\nQ 43.703125 -1.421875 29.984375 -1.421875 \r\nQ 24.8125 -1.421875 18.96875 -0.25 \r\nQ 13.140625 0.921875 6.890625 3.21875 \r\nL 6.890625 13.375 \r\nQ 12.890625 10.015625 18.65625 8.296875 \r\nQ 24.421875 6.59375 29.984375 6.59375 \r\nQ 38.421875 6.59375 43.015625 9.90625 \r\nQ 47.609375 13.234375 47.609375 19.390625 \r\nQ 47.609375 24.75 44.3125 27.78125 \r\nQ 41.015625 30.8125 33.5 32.328125 \r\nL 27.484375 33.5 \r\nQ 16.453125 35.6875 11.515625 40.375 \r\nQ 6.59375 45.0625 6.59375 53.421875 \r\nQ 6.59375 63.09375 13.40625 68.65625 \r\nQ 20.21875 74.21875 32.171875 74.21875 \r\nQ 37.3125 74.21875 42.625 73.28125 \r\nQ 47.953125 72.359375 53.515625 70.515625 \r\nz\r\n\" id=\"DejaVuSans-83\"/>\r\n      <path d=\"M 28.609375 0 \r\nL 0.78125 72.90625 \r\nL 11.078125 72.90625 \r\nL 34.1875 11.53125 \r\nL 57.328125 72.90625 \r\nL 67.578125 72.90625 \r\nL 39.796875 0 \r\nz\r\n\" id=\"DejaVuSans-86\"/>\r\n      <path d=\"M 64.40625 67.28125 \r\nL 64.40625 56.890625 \r\nQ 59.421875 61.53125 53.78125 63.8125 \r\nQ 48.140625 66.109375 41.796875 66.109375 \r\nQ 29.296875 66.109375 22.65625 58.46875 \r\nQ 16.015625 50.828125 16.015625 36.375 \r\nQ 16.015625 21.96875 22.65625 14.328125 \r\nQ 29.296875 6.6875 41.796875 6.6875 \r\nQ 48.140625 6.6875 53.78125 8.984375 \r\nQ 59.421875 11.28125 64.40625 15.921875 \r\nL 64.40625 5.609375 \r\nQ 59.234375 2.09375 53.4375 0.328125 \r\nQ 47.65625 -1.421875 41.21875 -1.421875 \r\nQ 24.65625 -1.421875 15.125 8.703125 \r\nQ 5.609375 18.84375 5.609375 36.375 \r\nQ 5.609375 53.953125 15.125 64.078125 \r\nQ 24.65625 74.21875 41.21875 74.21875 \r\nQ 47.75 74.21875 53.53125 72.484375 \r\nQ 59.328125 70.75 64.40625 67.28125 \r\nz\r\n\" id=\"DejaVuSans-67\"/>\r\n     </defs>\r\n     <g transform=\"translate(342.414219 34.237031)scale(0.14 -0.14)\">\r\n      <use xlink:href=\"#DejaVuSans-76\"/>\r\n      <use x=\"55.712891\" xlink:href=\"#DejaVuSans-105\"/>\r\n      <use x=\"83.496094\" xlink:href=\"#DejaVuSans-110\"/>\r\n      <use x=\"146.875\" xlink:href=\"#DejaVuSans-101\"/>\r\n      <use x=\"208.398438\" xlink:href=\"#DejaVuSans-97\"/>\r\n      <use x=\"269.677734\" xlink:href=\"#DejaVuSans-114\"/>\r\n      <use x=\"310.791016\" xlink:href=\"#DejaVuSans-32\"/>\r\n      <use x=\"342.578125\" xlink:href=\"#DejaVuSans-83\"/>\r\n      <use x=\"406.054688\" xlink:href=\"#DejaVuSans-86\"/>\r\n      <use x=\"474.462891\" xlink:href=\"#DejaVuSans-67\"/>\r\n     </g>\r\n    </g>\r\n    <g id=\"line2d_23\">\r\n     <path d=\"M 303.214219 49.886406 \r\nL 331.214219 49.886406 \r\n\" style=\"fill:none;stroke:#0000ff;stroke-dasharray:5.55,2.4;stroke-dashoffset:0;stroke-width:1.5;\"/>\r\n    </g>\r\n    <g id=\"line2d_24\"/>\r\n    <g id=\"text_19\">\r\n     <!-- SVC -->\r\n     <g transform=\"translate(342.414219 54.786406)scale(0.14 -0.14)\">\r\n      <use xlink:href=\"#DejaVuSans-83\"/>\r\n      <use x=\"63.476562\" xlink:href=\"#DejaVuSans-86\"/>\r\n      <use x=\"131.884766\" xlink:href=\"#DejaVuSans-67\"/>\r\n     </g>\r\n    </g>\r\n    <g id=\"line2d_25\">\r\n     <path d=\"M 303.214219 70.435781 \r\nL 331.214219 70.435781 \r\n\" style=\"fill:none;stroke:#ff0000;stroke-linecap:square;stroke-width:1.5;\"/>\r\n    </g>\r\n    <g id=\"line2d_26\"/>\r\n    <g id=\"text_20\">\r\n     <!-- SGDC -->\r\n     <defs>\r\n      <path d=\"M 59.515625 10.40625 \r\nL 59.515625 29.984375 \r\nL 43.40625 29.984375 \r\nL 43.40625 38.09375 \r\nL 69.28125 38.09375 \r\nL 69.28125 6.78125 \r\nQ 63.578125 2.734375 56.6875 0.65625 \r\nQ 49.8125 -1.421875 42 -1.421875 \r\nQ 24.90625 -1.421875 15.25 8.5625 \r\nQ 5.609375 18.5625 5.609375 36.375 \r\nQ 5.609375 54.25 15.25 64.234375 \r\nQ 24.90625 74.21875 42 74.21875 \r\nQ 49.125 74.21875 55.546875 72.453125 \r\nQ 61.96875 70.703125 67.390625 67.28125 \r\nL 67.390625 56.78125 \r\nQ 61.921875 61.421875 55.765625 63.765625 \r\nQ 49.609375 66.109375 42.828125 66.109375 \r\nQ 29.4375 66.109375 22.71875 58.640625 \r\nQ 16.015625 51.171875 16.015625 36.375 \r\nQ 16.015625 21.625 22.71875 14.15625 \r\nQ 29.4375 6.6875 42.828125 6.6875 \r\nQ 48.046875 6.6875 52.140625 7.59375 \r\nQ 56.25 8.5 59.515625 10.40625 \r\nz\r\n\" id=\"DejaVuSans-71\"/>\r\n      <path d=\"M 19.671875 64.796875 \r\nL 19.671875 8.109375 \r\nL 31.59375 8.109375 \r\nQ 46.6875 8.109375 53.6875 14.9375 \r\nQ 60.6875 21.78125 60.6875 36.53125 \r\nQ 60.6875 51.171875 53.6875 57.984375 \r\nQ 46.6875 64.796875 31.59375 64.796875 \r\nz\r\nM 9.8125 72.90625 \r\nL 30.078125 72.90625 \r\nQ 51.265625 72.90625 61.171875 64.09375 \r\nQ 71.09375 55.28125 71.09375 36.53125 \r\nQ 71.09375 17.671875 61.125 8.828125 \r\nQ 51.171875 0 30.078125 0 \r\nL 9.8125 0 \r\nz\r\n\" id=\"DejaVuSans-68\"/>\r\n     </defs>\r\n     <g transform=\"translate(342.414219 75.335781)scale(0.14 -0.14)\">\r\n      <use xlink:href=\"#DejaVuSans-83\"/>\r\n      <use x=\"63.476562\" xlink:href=\"#DejaVuSans-71\"/>\r\n      <use x=\"140.966797\" xlink:href=\"#DejaVuSans-68\"/>\r\n      <use x=\"217.96875\" xlink:href=\"#DejaVuSans-67\"/>\r\n     </g>\r\n    </g>\r\n   </g>\r\n  </g>\r\n </g>\r\n <defs>\r\n  <clipPath id=\"p8e3226f399\">\r\n   <rect height=\"271.8\" width=\"613.8\" x=\"54.015\" y=\"10.999219\"/>\r\n  </clipPath>\r\n </defs>\r\n</svg>\r\n",
      "image/png": "[encoded data removed]"
     },
     "metadata": {
      "needs_background": "light"
     }
    }
   ],
   "source": [
    "#plot out boundry lines \n",
    "plt.figure(figsize=[11, 5])\n",
    "plt.plot(line1[:, 0], line1[:, 1], 'k:', label='Linear SVC')\n",
    "plt.plot(line2[:, 0], line2[:, 1], 'b--', label='SVC')\n",
    "plt.plot(line3[:, 0], line3[:, 1], 'r-', label='SGDC')\n",
    "plt.plot(X[:, 0][y==1], X[:, 1][y==1], 'bs') #iris versicolor\n",
    "plt.plot(X[:, 0][y==0], X[:, 1][y==0], 'yo') #iris setosa\n",
    "plt.xlabel('Petal Width', fontsize=14)\n",
    "plt.ylabel('Petal length', fontsize=14)\n",
    "plt.legend(loc='upper center', fontsize=14)\n",
    "plt.axis([0, 5.5, 0, 2])\n",
    "plt.show()"
   ]
  },
  {
   "cell_type": "markdown",
   "metadata": {},
   "source": [
    "# SVM Regressor on the cali housing dataset"
   ]
  },
  {
   "cell_type": "code",
   "execution_count": 42,
   "metadata": {
    "tags": []
   },
   "outputs": [],
   "source": [
    "#get the cali housing data set from sklearn datasets\n",
    "cali = datasets.fetch_california_housing()\n",
    "\n",
    "Xc=cali['data']\n",
    "yc=cali['target']"
   ]
  },
  {
   "cell_type": "code",
   "execution_count": 51,
   "metadata": {},
   "outputs": [],
   "source": [
    "#first split the data\n",
    "X_train, X_test, y_train, y_test = train_test_split(Xc, yc, test_size=0.2)\n",
    "\n",
    "#then Scale the data with the standard scaler\n",
    "Xc_train_scaled = scaler.fit_transform(X_train)\n",
    "Xc_test_scaled = scaler.fit_transform(X_test)"
   ]
  },
  {
   "cell_type": "code",
   "execution_count": 52,
   "metadata": {},
   "outputs": [
    {
     "output_type": "execute_result",
     "data": {
      "text/plain": "LinearSVR(C=1.0, dual=True, epsilon=0.0, fit_intercept=True,\n          intercept_scaling=1.0, loss='epsilon_insensitive', max_iter=1000,\n          random_state=42, tol=0.0001, verbose=0)"
     },
     "metadata": {},
     "execution_count": 52
    }
   ],
   "source": [
    "#make linear support vector regression model\n",
    "lin_svr = LinearSVR(random_state=42)\n",
    "\n",
    "#fit the model with data\n",
    "lin_svr.fit(Xc_train_scaled, y_train)"
   ]
  },
  {
   "cell_type": "code",
   "execution_count": 53,
   "metadata": {
    "tags": []
   },
   "outputs": [
    {
     "output_type": "stream",
     "name": "stdout",
     "text": "1.2891586079448498\n"
    }
   ],
   "source": [
    "#lets measure the mean square error for metrics testing\n",
    "y_pred = lin_svr.predict(Xc_train_scaled)\n",
    "\n",
    "#measure the mean square error\n",
    "mse = mean_squared_error(y_train, y_pred)\n",
    "print(mse)"
   ]
  },
  {
   "cell_type": "code",
   "execution_count": 54,
   "metadata": {},
   "outputs": [
    {
     "output_type": "execute_result",
     "data": {
      "text/plain": "1.1354112065436248"
     },
     "metadata": {},
     "execution_count": 54
    }
   ],
   "source": [
    "#look at the square root of the mean square error\n",
    "np.sqrt(mse)"
   ]
  },
  {
   "cell_type": "code",
   "execution_count": 55,
   "metadata": {
    "tags": []
   },
   "outputs": [
    {
     "output_type": "stream",
     "name": "stdout",
     "text": "Fitting 3 folds for each of 10 candidates, totalling 30 fits\n[CV] C=4.745401188473625, gamma=0.07969454818643928 ..................\n[Parallel(n_jobs=1)]: Using backend SequentialBackend with 1 concurrent workers.\n[CV] ... C=4.745401188473625, gamma=0.07969454818643928, total=   4.9s\n[CV] C=4.745401188473625, gamma=0.07969454818643928 ..................\n[Parallel(n_jobs=1)]: Done   1 out of   1 | elapsed:    4.8s remaining:    0.0s\n[CV] ... C=4.745401188473625, gamma=0.07969454818643928, total=   4.7s\n[CV] C=4.745401188473625, gamma=0.07969454818643928 ..................\n[CV] ... C=4.745401188473625, gamma=0.07969454818643928, total=   4.8s\n[CV] C=8.31993941811405, gamma=0.015751320499779724 ..................\n[CV] ... C=8.31993941811405, gamma=0.015751320499779724, total=   4.7s\n[CV] C=8.31993941811405, gamma=0.015751320499779724 ..................\n[CV] ... C=8.31993941811405, gamma=0.015751320499779724, total=   4.8s\n[CV] C=8.31993941811405, gamma=0.015751320499779724 ..................\n[CV] ... C=8.31993941811405, gamma=0.015751320499779724, total=   4.6s\n[CV] C=2.560186404424365, gamma=0.002051110418843397 .................\n[CV] .. C=2.560186404424365, gamma=0.002051110418843397, total=   4.2s\n[CV] C=2.560186404424365, gamma=0.002051110418843397 .................\n[CV] .. C=2.560186404424365, gamma=0.002051110418843397, total=   4.1s\n[CV] C=2.560186404424365, gamma=0.002051110418843397 .................\n[CV] .. C=2.560186404424365, gamma=0.002051110418843397, total=   4.1s\n[CV] C=1.5808361216819946, gamma=0.05399484409787431 .................\n[CV] .. C=1.5808361216819946, gamma=0.05399484409787431, total=   4.1s\n[CV] C=1.5808361216819946, gamma=0.05399484409787431 .................\n[CV] .. C=1.5808361216819946, gamma=0.05399484409787431, total=   4.1s\n[CV] C=1.5808361216819946, gamma=0.05399484409787431 .................\n[CV] .. C=1.5808361216819946, gamma=0.05399484409787431, total=   4.1s\n[CV] C=7.011150117432088, gamma=0.026070247583707663 .................\n[CV] .. C=7.011150117432088, gamma=0.026070247583707663, total=   4.6s\n[CV] C=7.011150117432088, gamma=0.026070247583707663 .................\n[CV] .. C=7.011150117432088, gamma=0.026070247583707663, total=   4.6s\n[CV] C=7.011150117432088, gamma=0.026070247583707663 .................\n[CV] .. C=7.011150117432088, gamma=0.026070247583707663, total=   4.6s\n[CV] C=1.2058449429580245, gamma=0.0870602087830485 ..................\n[CV] ... C=1.2058449429580245, gamma=0.0870602087830485, total=   4.0s\n[CV] C=1.2058449429580245, gamma=0.0870602087830485 ..................\n[CV] ... C=1.2058449429580245, gamma=0.0870602087830485, total=   4.2s\n[CV] C=1.2058449429580245, gamma=0.0870602087830485 ..................\n[CV] ... C=1.2058449429580245, gamma=0.0870602087830485, total=   4.1s\n[CV] C=9.324426408004218, gamma=0.0026587543983272693 ................\n[CV] . C=9.324426408004218, gamma=0.0026587543983272693, total=   4.0s\n[CV] C=9.324426408004218, gamma=0.0026587543983272693 ................\n[CV] . C=9.324426408004218, gamma=0.0026587543983272693, total=   4.1s\n[CV] C=9.324426408004218, gamma=0.0026587543983272693 ................\n[CV] . C=9.324426408004218, gamma=0.0026587543983272693, total=   4.0s\n[CV] C=2.818249672071006, gamma=0.0023270677083837795 ................\n[CV] . C=2.818249672071006, gamma=0.0023270677083837795, total=   4.0s\n[CV] C=2.818249672071006, gamma=0.0023270677083837795 ................\n[CV] . C=2.818249672071006, gamma=0.0023270677083837795, total=   4.1s\n[CV] C=2.818249672071006, gamma=0.0023270677083837795 ................\n[CV] . C=2.818249672071006, gamma=0.0023270677083837795, total=   4.0s\n[CV] C=4.042422429595377, gamma=0.011207606211860567 .................\n[CV] .. C=4.042422429595377, gamma=0.011207606211860567, total=   4.1s\n[CV] C=4.042422429595377, gamma=0.011207606211860567 .................\n[CV] .. C=4.042422429595377, gamma=0.011207606211860567, total=   4.1s\n[CV] C=4.042422429595377, gamma=0.011207606211860567 .................\n[CV] .. C=4.042422429595377, gamma=0.011207606211860567, total=   4.2s\n[CV] C=5.319450186421157, gamma=0.003823475224675185 .................\n[CV] .. C=5.319450186421157, gamma=0.003823475224675185, total=   4.0s\n[CV] C=5.319450186421157, gamma=0.003823475224675185 .................\n[CV] .. C=5.319450186421157, gamma=0.003823475224675185, total=   4.0s\n[CV] C=5.319450186421157, gamma=0.003823475224675185 .................\n[CV] .. C=5.319450186421157, gamma=0.003823475224675185, total=   4.1s\n[Parallel(n_jobs=1)]: Done  30 out of  30 | elapsed:  2.1min finished\n"
    },
    {
     "output_type": "execute_result",
     "data": {
      "text/plain": "RandomizedSearchCV(cv=3, error_score=nan,\n                   estimator=SVR(C=1.0, cache_size=200, coef0=0.0, degree=3,\n                                 epsilon=0.1, gamma='scale', kernel='rbf',\n                                 max_iter=-1, shrinking=True, tol=0.001,\n                                 verbose=False),\n                   iid='deprecated', n_iter=10, n_jobs=None,\n                   param_distributions={'C': <scipy.stats._distn_infrastructure.rv_frozen object at 0x000001D90B2C6160>,\n                                        'gamma': <scipy.stats._distn_infrastructure.rv_frozen object at 0x000001D9069396A0>},\n                   pre_dispatch='2*n_jobs', random_state=42, refit=True,\n                   return_train_score=False, scoring=None, verbose=2)"
     },
     "metadata": {},
     "execution_count": 55
    }
   ],
   "source": [
    "#lets make a SVR with and optimize the C and gamma parameters to see if we can do better\n",
    "param_distributions = {'gamma': reciprocal(0.001, 0.1), 'C': uniform(1, 10)}\n",
    "param_search = RandomizedSearchCV(SVR(), param_distributions, n_iter=10, verbose=2, cv=3, random_state=42)\n",
    "param_search.fit(Xc_train_scaled, y_train)"
   ]
  },
  {
   "cell_type": "code",
   "execution_count": 56,
   "metadata": {},
   "outputs": [
    {
     "output_type": "execute_result",
     "data": {
      "text/plain": "SVR(C=4.745401188473625, cache_size=200, coef0=0.0, degree=3, epsilon=0.1,\n    gamma=0.07969454818643928, kernel='rbf', max_iter=-1, shrinking=True,\n    tol=0.001, verbose=False)"
     },
     "metadata": {},
     "execution_count": 56
    }
   ],
   "source": [
    "param_search.best_estimator_"
   ]
  },
  {
   "cell_type": "code",
   "execution_count": 57,
   "metadata": {
    "tags": []
   },
   "outputs": [
    {
     "output_type": "stream",
     "name": "stdout",
     "text": "0.3374181157459892\n0.5808770229110368\n"
    }
   ],
   "source": [
    "y_pred = param_search.best_estimator_.predict(Xc_train_scaled)\n",
    "mse = mean_squared_error(y_train, y_pred)\n",
    "print(mse)\n",
    "print(np.sqrt(mse))"
   ]
  },
  {
   "cell_type": "code",
   "execution_count": 58,
   "metadata": {
    "tags": []
   },
   "outputs": [
    {
     "output_type": "stream",
     "name": "stdout",
     "text": "0.39503129731502035\n0.6285151528125796\n"
    }
   ],
   "source": [
    "y_pred2 = param_search.best_estimator_.predict(Xc_test_scaled)\n",
    "mse = mean_squared_error(y_test, y_pred2)\n",
    "print(mse)\n",
    "print(np.sqrt(mse))"
   ]
  },
  {
   "cell_type": "markdown",
   "metadata": {},
   "source": [
    "# SVM Classifier on the MNIST Dataset"
   ]
  },
  {
   "cell_type": "code",
   "execution_count": 2,
   "metadata": {},
   "outputs": [],
   "source": [
    "from sklearn.datasets import fetch_openml\n",
    "mnist = fetch_openml('mnist_784', version=1, cache=True)"
   ]
  },
  {
   "cell_type": "code",
   "execution_count": 3,
   "metadata": {},
   "outputs": [],
   "source": [
    "X = mnist[\"data\"]\n",
    "y = mnist[\"target\"].astype(np.uint8)\n",
    "\n",
    "X_train = X[:60000]\n",
    "y_train = y[:60000]\n",
    "X_test = X[60000:]\n",
    "y_test = y[60000:]"
   ]
  },
  {
   "cell_type": "code",
   "execution_count": 4,
   "metadata": {},
   "outputs": [
    {
     "output_type": "execute_result",
     "data": {
      "text/plain": "LinearSVC(C=1.0, class_weight=None, dual=True, fit_intercept=True,\n          intercept_scaling=1, loss='squared_hinge', max_iter=1000,\n          multi_class='ovr', penalty='l2', random_state=42, tol=0.0001,\n          verbose=0)"
     },
     "metadata": {},
     "execution_count": 4
    }
   ],
   "source": [
    "lin_clf = LinearSVC(random_state=42)\n",
    "lin_clf.fit(X_train, y_train)"
   ]
  },
  {
   "cell_type": "code",
   "execution_count": 6,
   "metadata": {},
   "outputs": [
    {
     "output_type": "execute_result",
     "data": {
      "text/plain": "0.89495"
     },
     "metadata": {},
     "execution_count": 6
    }
   ],
   "source": [
    "y_pred = lin_clf.predict(X_train)\n",
    "accuracy_score(y_train, y_pred)"
   ]
  },
  {
   "cell_type": "code",
   "execution_count": 7,
   "metadata": {},
   "outputs": [],
   "source": [
    "scaler = StandardScaler()\n",
    "X_train_scaled = scaler.fit_transform(X_train.astype(np.float32))\n",
    "X_test_scaled = scaler.transform(X_test.astype(np.float32))"
   ]
  },
  {
   "cell_type": "code",
   "execution_count": 8,
   "metadata": {},
   "outputs": [
    {
     "output_type": "execute_result",
     "data": {
      "text/plain": "LinearSVC(C=1.0, class_weight=None, dual=True, fit_intercept=True,\n          intercept_scaling=1, loss='squared_hinge', max_iter=1000,\n          multi_class='ovr', penalty='l2', random_state=42, tol=0.0001,\n          verbose=0)"
     },
     "metadata": {},
     "execution_count": 8
    }
   ],
   "source": [
    "lin_clf = LinearSVC(random_state=42)\n",
    "lin_clf.fit(X_train_scaled, y_train)"
   ]
  },
  {
   "cell_type": "code",
   "execution_count": 9,
   "metadata": {},
   "outputs": [
    {
     "output_type": "execute_result",
     "data": {
      "text/plain": "0.9218166666666666"
     },
     "metadata": {},
     "execution_count": 9
    }
   ],
   "source": [
    "y_pred = lin_clf.predict(X_train_scaled)\n",
    "accuracy_score(y_train, y_pred)"
   ]
  },
  {
   "cell_type": "code",
   "execution_count": 10,
   "metadata": {},
   "outputs": [
    {
     "output_type": "execute_result",
     "data": {
      "text/plain": "SVC(C=1.0, break_ties=False, cache_size=200, class_weight=None, coef0=0.0,\n    decision_function_shape='ovr', degree=3, gamma='scale', kernel='rbf',\n    max_iter=-1, probability=False, random_state=None, shrinking=True,\n    tol=0.001, verbose=False)"
     },
     "metadata": {},
     "execution_count": 10
    }
   ],
   "source": [
    "svm_clf = SVC(gamma=\"scale\")\n",
    "svm_clf.fit(X_train_scaled[:10000], y_train[:10000])"
   ]
  },
  {
   "cell_type": "code",
   "execution_count": 11,
   "metadata": {},
   "outputs": [
    {
     "output_type": "execute_result",
     "data": {
      "text/plain": "0.9455333333333333"
     },
     "metadata": {},
     "execution_count": 11
    }
   ],
   "source": [
    "y_pred = svm_clf.predict(X_train_scaled)\n",
    "accuracy_score(y_train, y_pred)"
   ]
  },
  {
   "cell_type": "code",
   "execution_count": 19,
   "metadata": {
    "tags": []
   },
   "outputs": [
    {
     "output_type": "stream",
     "name": "stdout",
     "text": "Fitting 3 folds for each of 10 candidates, totalling 30 fits\n[CV] C=9.316342212354758, gamma=0.023868358012715047 .................\n[Parallel(n_jobs=1)]: Using backend SequentialBackend with 1 concurrent workers.\n[CV] .. C=9.316342212354758, gamma=0.023868358012715047, total=   0.9s\n[CV] C=9.316342212354758, gamma=0.023868358012715047 .................\n[Parallel(n_jobs=1)]: Done   1 out of   1 | elapsed:    0.8s remaining:    0.0s\n[CV] .. C=9.316342212354758, gamma=0.023868358012715047, total=   0.9s\n[CV] C=9.316342212354758, gamma=0.023868358012715047 .................\n[CV] .. C=9.316342212354758, gamma=0.023868358012715047, total=   0.9s\n[CV] C=2.673648664021987, gamma=0.019943115699098405 .................\n[CV] .. C=2.673648664021987, gamma=0.019943115699098405, total=   0.9s\n[CV] C=2.673648664021987, gamma=0.019943115699098405 .................\n[CV] .. C=2.673648664021987, gamma=0.019943115699098405, total=   0.9s\n[CV] C=2.673648664021987, gamma=0.019943115699098405 .................\n[CV] .. C=2.673648664021987, gamma=0.019943115699098405, total=   0.9s\n[CV] C=7.325424507942702, gamma=0.010836058265220234 .................\n[CV] .. C=7.325424507942702, gamma=0.010836058265220234, total=   0.9s\n[CV] C=7.325424507942702, gamma=0.010836058265220234 .................\n[CV] .. C=7.325424507942702, gamma=0.010836058265220234, total=   0.9s\n[CV] C=7.325424507942702, gamma=0.010836058265220234 .................\n[CV] .. C=7.325424507942702, gamma=0.010836058265220234, total=   0.9s\n[CV] C=6.432914626722697, gamma=0.0037316248987753777 ................\n[CV] . C=6.432914626722697, gamma=0.0037316248987753777, total=   0.8s\n[CV] C=6.432914626722697, gamma=0.0037316248987753777 ................\n[CV] . C=6.432914626722697, gamma=0.0037316248987753777, total=   0.8s\n[CV] C=6.432914626722697, gamma=0.0037316248987753777 ................\n[CV] . C=6.432914626722697, gamma=0.0037316248987753777, total=   0.9s\n[CV] C=6.691017551065391, gamma=0.0915923709787084 ...................\n[CV] .... C=6.691017551065391, gamma=0.0915923709787084, total=   0.9s\n[CV] C=6.691017551065391, gamma=0.0915923709787084 ...................\n[CV] .... C=6.691017551065391, gamma=0.0915923709787084, total=   0.9s\n[CV] C=6.691017551065391, gamma=0.0915923709787084 ...................\n[CV] .... C=6.691017551065391, gamma=0.0915923709787084, total=   0.9s\n[CV] C=7.0990395657974315, gamma=0.002027901428086963 ................\n[CV] . C=7.0990395657974315, gamma=0.002027901428086963, total=   0.7s\n[CV] C=7.0990395657974315, gamma=0.002027901428086963 ................\n[CV] . C=7.0990395657974315, gamma=0.002027901428086963, total=   0.7s\n[CV] C=7.0990395657974315, gamma=0.002027901428086963 ................\n[CV] . C=7.0990395657974315, gamma=0.002027901428086963, total=   0.8s\n[CV] C=9.632672177366363, gamma=0.027392261593716764 .................\n[CV] .. C=9.632672177366363, gamma=0.027392261593716764, total=   0.9s\n[CV] C=9.632672177366363, gamma=0.027392261593716764 .................\n[CV] .. C=9.632672177366363, gamma=0.027392261593716764, total=   1.0s\n[CV] C=9.632672177366363, gamma=0.027392261593716764 .................\n[CV] .. C=9.632672177366363, gamma=0.027392261593716764, total=   1.0s\n[CV] C=9.073643943335444, gamma=0.0011949000599274118 ................\n[CV] . C=9.073643943335444, gamma=0.0011949000599274118, total=   0.7s\n[CV] C=9.073643943335444, gamma=0.0011949000599274118 ................\n[CV] . C=9.073643943335444, gamma=0.0011949000599274118, total=   0.7s\n[CV] C=9.073643943335444, gamma=0.0011949000599274118 ................\n[CV] . C=9.073643943335444, gamma=0.0011949000599274118, total=   0.7s\n[CV] C=2.829823685921801, gamma=0.002451054884278947 .................\n[CV] .. C=2.829823685921801, gamma=0.002451054884278947, total=   0.8s\n[CV] C=2.829823685921801, gamma=0.002451054884278947 .................\n[CV] .. C=2.829823685921801, gamma=0.002451054884278947, total=   0.8s\n[CV] C=2.829823685921801, gamma=0.002451054884278947 .................\n[CV] .. C=2.829823685921801, gamma=0.002451054884278947, total=   0.8s\n[CV] C=5.4009235604002415, gamma=0.03023452257519174 .................\n[CV] .. C=5.4009235604002415, gamma=0.03023452257519174, total=   1.0s\n[CV] C=5.4009235604002415, gamma=0.03023452257519174 .................\n[CV] .. C=5.4009235604002415, gamma=0.03023452257519174, total=   1.0s\n[CV] C=5.4009235604002415, gamma=0.03023452257519174 .................\n[CV] .. C=5.4009235604002415, gamma=0.03023452257519174, total=   0.9s\n[Parallel(n_jobs=1)]: Done  30 out of  30 | elapsed:   26.0s finished\n"
    },
    {
     "output_type": "execute_result",
     "data": {
      "text/plain": "RandomizedSearchCV(cv=3, error_score=nan,\n                   estimator=SVC(C=1.0, break_ties=False, cache_size=200,\n                                 class_weight=None, coef0=0.0,\n                                 decision_function_shape='ovr', degree=3,\n                                 gamma='scale', kernel='rbf', max_iter=-1,\n                                 probability=False, random_state=None,\n                                 shrinking=True, tol=0.001, verbose=False),\n                   iid='deprecated', n_iter=10, n_jobs=None,\n                   param_distributions={'C': <scipy.stats._distn_infrastructure.rv_frozen object at 0x0000021A40B07F70>,\n                                        'gamma': <scipy.stats._distn_infrastructure.rv_frozen object at 0x0000021A40B0CE50>},\n                   pre_dispatch='2*n_jobs', random_state=None, refit=True,\n                   return_train_score=False, scoring=None, verbose=2)"
     },
     "metadata": {},
     "execution_count": 19
    }
   ],
   "source": [
    "from sklearn.model_selection import RandomizedSearchCV\n",
    "from scipy.stats import reciprocal, uniform\n",
    "\n",
    "param_distributions = {\"gamma\": reciprocal(0.001, 0.1), \"C\": uniform(1, 10)}\n",
    "rnd_search_cv = RandomizedSearchCV(svm_clf, param_distributions, n_iter=10, verbose=2, cv=3)\n",
    "rnd_search_cv.fit(X_train_scaled[:1000], y_train[:1000])"
   ]
  },
  {
   "cell_type": "code",
   "execution_count": 20,
   "metadata": {},
   "outputs": [
    {
     "output_type": "execute_result",
     "data": {
      "text/plain": "SVC(C=9.073643943335444, break_ties=False, cache_size=200, class_weight=None,\n    coef0=0.0, decision_function_shape='ovr', degree=3,\n    gamma=0.0011949000599274118, kernel='rbf', max_iter=-1, probability=False,\n    random_state=None, shrinking=True, tol=0.001, verbose=False)"
     },
     "metadata": {},
     "execution_count": 20
    }
   ],
   "source": [
    "rnd_search_cv.best_estimator_"
   ]
  },
  {
   "cell_type": "code",
   "execution_count": 21,
   "metadata": {},
   "outputs": [
    {
     "output_type": "execute_result",
     "data": {
      "text/plain": "0.8609897322472174"
     },
     "metadata": {},
     "execution_count": 21
    }
   ],
   "source": [
    "rnd_search_cv.best_score_"
   ]
  },
  {
   "cell_type": "code",
   "execution_count": 22,
   "metadata": {},
   "outputs": [
    {
     "output_type": "execute_result",
     "data": {
      "text/plain": "SVC(C=9.073643943335444, break_ties=False, cache_size=200, class_weight=None,\n    coef0=0.0, decision_function_shape='ovr', degree=3,\n    gamma=0.0011949000599274118, kernel='rbf', max_iter=-1, probability=False,\n    random_state=None, shrinking=True, tol=0.001, verbose=False)"
     },
     "metadata": {},
     "execution_count": 22
    }
   ],
   "source": [
    "rnd_search_cv.best_estimator_.fit(X_train_scaled, y_train)"
   ]
  },
  {
   "cell_type": "code",
   "execution_count": 23,
   "metadata": {},
   "outputs": [
    {
     "output_type": "execute_result",
     "data": {
      "text/plain": "0.9987666666666667"
     },
     "metadata": {},
     "execution_count": 23
    }
   ],
   "source": [
    "y_pred = rnd_search_cv.best_estimator_.predict(X_train_scaled)\n",
    "accuracy_score(y_train, y_pred)"
   ]
  },
  {
   "cell_type": "code",
   "execution_count": 24,
   "metadata": {},
   "outputs": [
    {
     "output_type": "execute_result",
     "data": {
      "text/plain": "0.9734"
     },
     "metadata": {},
     "execution_count": 24
    }
   ],
   "source": [
    "y_pred = rnd_search_cv.best_estimator_.predict(X_test_scaled)\n",
    "accuracy_score(y_test, y_pred)"
   ]
  },
  {
   "cell_type": "code",
   "execution_count": null,
   "metadata": {},
   "outputs": [],
   "source": []
  }
 ]
}